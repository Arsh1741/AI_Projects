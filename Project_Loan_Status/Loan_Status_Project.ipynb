{
 "cells": [
  {
   "cell_type": "code",
   "execution_count": 1,
   "id": "f421ce46-2e33-4c35-b43d-5f14666bab0f",
   "metadata": {},
   "outputs": [],
   "source": [
    "import pandas as pd\n",
    "import numpy as np\n",
    "import matplotlib.pyplot as plt\n",
    "import seaborn as sns\n",
    "#to ignore warnings\n",
    "import warnings\n",
    "warnings.filterwarnings('ignore')"
   ]
  },
  {
   "cell_type": "code",
   "execution_count": 2,
   "id": "4e559df9-a43e-49c8-8a2c-0e858a475408",
   "metadata": {},
   "outputs": [],
   "source": [
    "df=pd.read_csv('Loan_dataset.csv')"
   ]
  },
  {
   "cell_type": "code",
   "execution_count": 3,
   "id": "0513bde7-d200-41e1-8060-9082ac0cb8e9",
   "metadata": {},
   "outputs": [
    {
     "name": "stdout",
     "output_type": "stream",
     "text": [
      "<class 'pandas.core.frame.DataFrame'>\n",
      "RangeIndex: 100514 entries, 0 to 100513\n",
      "Data columns (total 19 columns):\n",
      " #   Column                        Non-Null Count   Dtype  \n",
      "---  ------                        --------------   -----  \n",
      " 0   Loan ID                       100000 non-null  object \n",
      " 1   Customer ID                   100000 non-null  object \n",
      " 2   Loan Status                   100000 non-null  object \n",
      " 3   Current Loan Amount           100000 non-null  float64\n",
      " 4   Term                          100000 non-null  object \n",
      " 5   Credit Score                  80846 non-null   float64\n",
      " 6   Annual Income                 80846 non-null   float64\n",
      " 7   Years in current job          95778 non-null   object \n",
      " 8   Home Ownership                100000 non-null  object \n",
      " 9   Purpose                       100000 non-null  object \n",
      " 10  Monthly Debt                  100000 non-null  float64\n",
      " 11  Years of Credit History       100000 non-null  float64\n",
      " 12  Months since last delinquent  46859 non-null   float64\n",
      " 13  Number of Open Accounts       100000 non-null  float64\n",
      " 14  Number of Credit Problems     100000 non-null  float64\n",
      " 15  Current Credit Balance        100000 non-null  float64\n",
      " 16  Maximum Open Credit           99998 non-null   float64\n",
      " 17  Bankruptcies                  99796 non-null   float64\n",
      " 18  Tax Liens                     99990 non-null   float64\n",
      "dtypes: float64(12), object(7)\n",
      "memory usage: 14.6+ MB\n"
     ]
    }
   ],
   "source": [
    "df.info()"
   ]
  },
  {
   "cell_type": "code",
   "execution_count": 4,
   "id": "d005518f-c88b-4441-b486-216a28fb717a",
   "metadata": {},
   "outputs": [],
   "source": [
    "df.columns=df.columns.str.lower()\n",
    "df.columns=df.columns.str.replace(' ','_')"
   ]
  },
  {
   "cell_type": "code",
   "execution_count": 5,
   "id": "09685aff-f8c1-4398-bcea-c9413d863147",
   "metadata": {},
   "outputs": [
    {
     "name": "stdout",
     "output_type": "stream",
     "text": [
      "<class 'pandas.core.frame.DataFrame'>\n",
      "RangeIndex: 100514 entries, 0 to 100513\n",
      "Data columns (total 19 columns):\n",
      " #   Column                        Non-Null Count   Dtype  \n",
      "---  ------                        --------------   -----  \n",
      " 0   loan_id                       100000 non-null  object \n",
      " 1   customer_id                   100000 non-null  object \n",
      " 2   loan_status                   100000 non-null  object \n",
      " 3   current_loan_amount           100000 non-null  float64\n",
      " 4   term                          100000 non-null  object \n",
      " 5   credit_score                  80846 non-null   float64\n",
      " 6   annual_income                 80846 non-null   float64\n",
      " 7   years_in_current_job          95778 non-null   object \n",
      " 8   home_ownership                100000 non-null  object \n",
      " 9   purpose                       100000 non-null  object \n",
      " 10  monthly_debt                  100000 non-null  float64\n",
      " 11  years_of_credit_history       100000 non-null  float64\n",
      " 12  months_since_last_delinquent  46859 non-null   float64\n",
      " 13  number_of_open_accounts       100000 non-null  float64\n",
      " 14  number_of_credit_problems     100000 non-null  float64\n",
      " 15  current_credit_balance        100000 non-null  float64\n",
      " 16  maximum_open_credit           99998 non-null   float64\n",
      " 17  bankruptcies                  99796 non-null   float64\n",
      " 18  tax_liens                     99990 non-null   float64\n",
      "dtypes: float64(12), object(7)\n",
      "memory usage: 14.6+ MB\n"
     ]
    }
   ],
   "source": [
    "df.info()"
   ]
  },
  {
   "cell_type": "code",
   "execution_count": 6,
   "id": "2e8b1b27-3983-4ebb-8f3b-27f55e3f9ed5",
   "metadata": {},
   "outputs": [
    {
     "data": {
      "text/plain": [
       "loan_id                           514\n",
       "customer_id                       514\n",
       "loan_status                       514\n",
       "current_loan_amount               514\n",
       "term                              514\n",
       "credit_score                    19668\n",
       "annual_income                   19668\n",
       "years_in_current_job             4736\n",
       "home_ownership                    514\n",
       "purpose                           514\n",
       "monthly_debt                      514\n",
       "years_of_credit_history           514\n",
       "months_since_last_delinquent    53655\n",
       "number_of_open_accounts           514\n",
       "number_of_credit_problems         514\n",
       "current_credit_balance            514\n",
       "maximum_open_credit               516\n",
       "bankruptcies                      718\n",
       "tax_liens                         524\n",
       "dtype: int64"
      ]
     },
     "execution_count": 6,
     "metadata": {},
     "output_type": "execute_result"
    }
   ],
   "source": [
    "df.isnull().sum()"
   ]
  },
  {
   "cell_type": "code",
   "execution_count": 7,
   "id": "1ac38b92-d5ca-4c95-9d80-3956ba096e7c",
   "metadata": {},
   "outputs": [
    {
     "data": {
      "text/plain": [
       "loan_id                          0.511372\n",
       "customer_id                      0.511372\n",
       "loan_status                      0.511372\n",
       "current_loan_amount              0.511372\n",
       "term                             0.511372\n",
       "credit_score                    19.567423\n",
       "annual_income                   19.567423\n",
       "years_in_current_job             4.711781\n",
       "home_ownership                   0.511372\n",
       "purpose                          0.511372\n",
       "monthly_debt                     0.511372\n",
       "years_of_credit_history          0.511372\n",
       "months_since_last_delinquent    53.380624\n",
       "number_of_open_accounts          0.511372\n",
       "number_of_credit_problems        0.511372\n",
       "current_credit_balance           0.511372\n",
       "maximum_open_credit              0.513361\n",
       "bankruptcies                     0.714328\n",
       "tax_liens                        0.521320\n",
       "dtype: float64"
      ]
     },
     "execution_count": 7,
     "metadata": {},
     "output_type": "execute_result"
    }
   ],
   "source": [
    "(df.isnull().sum()/(len(df)))*100"
   ]
  },
  {
   "cell_type": "code",
   "execution_count": 8,
   "id": "db8657b4-08b6-41f9-85a0-03316006116d",
   "metadata": {},
   "outputs": [
    {
     "data": {
      "text/plain": [
       "(100514, 19)"
      ]
     },
     "execution_count": 8,
     "metadata": {},
     "output_type": "execute_result"
    }
   ],
   "source": [
    "df.shape"
   ]
  },
  {
   "cell_type": "code",
   "execution_count": 9,
   "id": "7c3bb52f-3373-498a-9195-292e2f2d6da4",
   "metadata": {},
   "outputs": [
    {
     "data": {
      "text/plain": [
       "loan_id                         81999\n",
       "customer_id                     81999\n",
       "loan_status                         2\n",
       "current_loan_amount             22004\n",
       "term                                2\n",
       "credit_score                      324\n",
       "annual_income                   36174\n",
       "years_in_current_job               11\n",
       "home_ownership                      4\n",
       "purpose                            16\n",
       "monthly_debt                    65765\n",
       "years_of_credit_history           506\n",
       "months_since_last_delinquent      116\n",
       "number_of_open_accounts            51\n",
       "number_of_credit_problems          14\n",
       "current_credit_balance          32730\n",
       "maximum_open_credit             44596\n",
       "bankruptcies                        8\n",
       "tax_liens                          12\n",
       "dtype: int64"
      ]
     },
     "execution_count": 9,
     "metadata": {},
     "output_type": "execute_result"
    }
   ],
   "source": [
    "df.nunique()"
   ]
  },
  {
   "cell_type": "code",
   "execution_count": 10,
   "id": "aceb0df7-de0c-4763-aedf-c853d83c6fac",
   "metadata": {},
   "outputs": [
    {
     "name": "stdout",
     "output_type": "stream",
     "text": [
      "<class 'pandas.core.frame.DataFrame'>\n",
      "RangeIndex: 100514 entries, 0 to 100513\n",
      "Data columns (total 18 columns):\n",
      " #   Column                     Non-Null Count   Dtype  \n",
      "---  ------                     --------------   -----  \n",
      " 0   loan_id                    100000 non-null  object \n",
      " 1   customer_id                100000 non-null  object \n",
      " 2   loan_status                100000 non-null  object \n",
      " 3   current_loan_amount        100000 non-null  float64\n",
      " 4   term                       100000 non-null  object \n",
      " 5   credit_score               80846 non-null   float64\n",
      " 6   annual_income              80846 non-null   float64\n",
      " 7   years_in_current_job       95778 non-null   object \n",
      " 8   home_ownership             100000 non-null  object \n",
      " 9   purpose                    100000 non-null  object \n",
      " 10  monthly_debt               100000 non-null  float64\n",
      " 11  years_of_credit_history    100000 non-null  float64\n",
      " 12  number_of_open_accounts    100000 non-null  float64\n",
      " 13  number_of_credit_problems  100000 non-null  float64\n",
      " 14  current_credit_balance     100000 non-null  float64\n",
      " 15  maximum_open_credit        99998 non-null   float64\n",
      " 16  bankruptcies               99796 non-null   float64\n",
      " 17  tax_liens                  99990 non-null   float64\n",
      "dtypes: float64(11), object(7)\n",
      "memory usage: 13.8+ MB\n"
     ]
    }
   ],
   "source": [
    "df = df.drop(['months_since_last_delinquent'], axis = 1)\n",
    "df.info()"
   ]
  },
  {
   "cell_type": "code",
   "execution_count": 11,
   "id": "078756f5-5e07-4007-bf47-5e74a68b4440",
   "metadata": {},
   "outputs": [],
   "source": [
    "#df.describe(include='all').T"
   ]
  },
  {
   "cell_type": "code",
   "execution_count": 12,
   "id": "531dac4f-6aac-4773-a367-5480cdef2988",
   "metadata": {},
   "outputs": [
    {
     "data": {
      "text/plain": [
       "loan_id                        514\n",
       "customer_id                    514\n",
       "loan_status                    514\n",
       "current_loan_amount            514\n",
       "term                           514\n",
       "credit_score                 19668\n",
       "annual_income                19668\n",
       "years_in_current_job          4736\n",
       "home_ownership                 514\n",
       "purpose                        514\n",
       "monthly_debt                   514\n",
       "years_of_credit_history        514\n",
       "number_of_open_accounts        514\n",
       "number_of_credit_problems      514\n",
       "current_credit_balance         514\n",
       "maximum_open_credit            516\n",
       "bankruptcies                   718\n",
       "tax_liens                      524\n",
       "dtype: int64"
      ]
     },
     "execution_count": 12,
     "metadata": {},
     "output_type": "execute_result"
    }
   ],
   "source": [
    "df.isna().sum()"
   ]
  },
  {
   "cell_type": "code",
   "execution_count": 13,
   "id": "cc1d9560-1351-4347-aed4-5c217959e947",
   "metadata": {},
   "outputs": [],
   "source": [
    "df['credit_score'].fillna(value=np.mean(df['credit_score']), inplace=True)"
   ]
  },
  {
   "cell_type": "code",
   "execution_count": 14,
   "id": "02fcdc24-092d-4f53-b6c6-7dbecdeaa6e2",
   "metadata": {},
   "outputs": [
    {
     "data": {
      "text/plain": [
       "loan_id                        514\n",
       "customer_id                    514\n",
       "loan_status                    514\n",
       "current_loan_amount            514\n",
       "term                           514\n",
       "credit_score                     0\n",
       "annual_income                19668\n",
       "years_in_current_job          4736\n",
       "home_ownership                 514\n",
       "purpose                        514\n",
       "monthly_debt                   514\n",
       "years_of_credit_history        514\n",
       "number_of_open_accounts        514\n",
       "number_of_credit_problems      514\n",
       "current_credit_balance         514\n",
       "maximum_open_credit            516\n",
       "bankruptcies                   718\n",
       "tax_liens                      524\n",
       "dtype: int64"
      ]
     },
     "execution_count": 14,
     "metadata": {},
     "output_type": "execute_result"
    }
   ],
   "source": [
    "df.isna().sum()"
   ]
  },
  {
   "cell_type": "code",
   "execution_count": 15,
   "id": "1fdc7abd-0357-4fe9-ae01-982e44ca5efb",
   "metadata": {},
   "outputs": [],
   "source": [
    "df['annual_income'].fillna(value=np.mean(df['annual_income']), inplace=True)"
   ]
  },
  {
   "cell_type": "code",
   "execution_count": 16,
   "id": "14772800-b287-4266-a996-b478e8feeaff",
   "metadata": {},
   "outputs": [
    {
     "data": {
      "text/plain": [
       "loan_id                       514\n",
       "customer_id                   514\n",
       "loan_status                   514\n",
       "current_loan_amount           514\n",
       "term                          514\n",
       "credit_score                    0\n",
       "annual_income                   0\n",
       "years_in_current_job         4736\n",
       "home_ownership                514\n",
       "purpose                       514\n",
       "monthly_debt                  514\n",
       "years_of_credit_history       514\n",
       "number_of_open_accounts       514\n",
       "number_of_credit_problems     514\n",
       "current_credit_balance        514\n",
       "maximum_open_credit           516\n",
       "bankruptcies                  718\n",
       "tax_liens                     524\n",
       "dtype: int64"
      ]
     },
     "execution_count": 16,
     "metadata": {},
     "output_type": "execute_result"
    }
   ],
   "source": [
    "df.isna().sum()"
   ]
  },
  {
   "cell_type": "code",
   "execution_count": 17,
   "id": "76b0d155-f182-432b-9bb0-8a7552910973",
   "metadata": {},
   "outputs": [
    {
     "name": "stdout",
     "output_type": "stream",
     "text": [
      "<class 'pandas.core.frame.DataFrame'>\n",
      "RangeIndex: 100514 entries, 0 to 100513\n",
      "Data columns (total 18 columns):\n",
      " #   Column                     Non-Null Count   Dtype  \n",
      "---  ------                     --------------   -----  \n",
      " 0   loan_id                    100000 non-null  object \n",
      " 1   customer_id                100000 non-null  object \n",
      " 2   loan_status                100000 non-null  object \n",
      " 3   current_loan_amount        100000 non-null  float64\n",
      " 4   term                       100000 non-null  object \n",
      " 5   credit_score               100514 non-null  float64\n",
      " 6   annual_income              100514 non-null  float64\n",
      " 7   years_in_current_job       95778 non-null   object \n",
      " 8   home_ownership             100000 non-null  object \n",
      " 9   purpose                    100000 non-null  object \n",
      " 10  monthly_debt               100000 non-null  float64\n",
      " 11  years_of_credit_history    100000 non-null  float64\n",
      " 12  number_of_open_accounts    100000 non-null  float64\n",
      " 13  number_of_credit_problems  100000 non-null  float64\n",
      " 14  current_credit_balance     100000 non-null  float64\n",
      " 15  maximum_open_credit        99998 non-null   float64\n",
      " 16  bankruptcies               99796 non-null   float64\n",
      " 17  tax_liens                  99990 non-null   float64\n",
      "dtypes: float64(11), object(7)\n",
      "memory usage: 13.8+ MB\n"
     ]
    }
   ],
   "source": [
    "df.info()"
   ]
  },
  {
   "cell_type": "code",
   "execution_count": 18,
   "id": "8af953e8-b154-4d0f-92e6-01b59663dfcd",
   "metadata": {},
   "outputs": [
    {
     "data": {
      "text/plain": [
       "years_in_current_job\n",
       "10+ years    31121\n",
       "2 years       9134\n",
       "3 years       8169\n",
       "< 1 year      8164\n",
       "5 years       6787\n",
       "1 year        6460\n",
       "4 years       6143\n",
       "6 years       5686\n",
       "7 years       5577\n",
       "8 years       4582\n",
       "9 years       3955\n",
       "Name: count, dtype: int64"
      ]
     },
     "execution_count": 18,
     "metadata": {},
     "output_type": "execute_result"
    }
   ],
   "source": [
    "df['years_in_current_job'].value_counts().sort_values(ascending=False)"
   ]
  },
  {
   "cell_type": "code",
   "execution_count": 19,
   "id": "0c336293-10de-4a7b-b4b8-d99d4b8b6833",
   "metadata": {},
   "outputs": [],
   "source": [
    "def years(i):\n",
    "    if pd.isna(i):\n",
    "        return np.nan\n",
    "    elif i == '< 1 year':\n",
    "        return 0.5\n",
    "    elif i == '10+ years':\n",
    "        return 10\n",
    "    else:\n",
    "        return int(i.split()[0])"
   ]
  },
  {
   "cell_type": "code",
   "execution_count": 20,
   "id": "7e7e529a-8cd1-49b1-937e-39d9bd09dc6b",
   "metadata": {},
   "outputs": [],
   "source": [
    "df['years_in_current_job']=df['years_in_current_job'].apply(years)"
   ]
  },
  {
   "cell_type": "code",
   "execution_count": 21,
   "id": "02a236ae-f9c1-48a3-a7e5-7029d9826384",
   "metadata": {},
   "outputs": [
    {
     "data": {
      "text/plain": [
       "years_in_current_job\n",
       "10.0    31121\n",
       "2.0      9134\n",
       "3.0      8169\n",
       "0.5      8164\n",
       "5.0      6787\n",
       "1.0      6460\n",
       "4.0      6143\n",
       "6.0      5686\n",
       "7.0      5577\n",
       "8.0      4582\n",
       "9.0      3955\n",
       "Name: count, dtype: int64"
      ]
     },
     "execution_count": 21,
     "metadata": {},
     "output_type": "execute_result"
    }
   ],
   "source": [
    "df['years_in_current_job'].value_counts().sort_values(ascending=False)"
   ]
  },
  {
   "cell_type": "code",
   "execution_count": 22,
   "id": "a29074df-b1a6-41d7-8296-5ebf7c071ea0",
   "metadata": {},
   "outputs": [
    {
     "data": {
      "text/plain": [
       "loan_id                      0.511372\n",
       "customer_id                  0.511372\n",
       "loan_status                  0.511372\n",
       "current_loan_amount          0.511372\n",
       "term                         0.511372\n",
       "credit_score                 0.000000\n",
       "annual_income                0.000000\n",
       "years_in_current_job         4.711781\n",
       "home_ownership               0.511372\n",
       "purpose                      0.511372\n",
       "monthly_debt                 0.511372\n",
       "years_of_credit_history      0.511372\n",
       "number_of_open_accounts      0.511372\n",
       "number_of_credit_problems    0.511372\n",
       "current_credit_balance       0.511372\n",
       "maximum_open_credit          0.513361\n",
       "bankruptcies                 0.714328\n",
       "tax_liens                    0.521320\n",
       "dtype: float64"
      ]
     },
     "execution_count": 22,
     "metadata": {},
     "output_type": "execute_result"
    }
   ],
   "source": [
    "df.isna().sum()/len(df)*100"
   ]
  },
  {
   "cell_type": "code",
   "execution_count": 23,
   "id": "6c258f47-a09b-4a7d-a9a1-cdb2661d38b4",
   "metadata": {},
   "outputs": [],
   "source": [
    "df['years_in_current_job'].fillna(value=np.mean(df['years_in_current_job']), inplace=True)"
   ]
  },
  {
   "cell_type": "code",
   "execution_count": 24,
   "id": "ac0636e8-206d-46a8-b357-3486e053f32e",
   "metadata": {},
   "outputs": [
    {
     "data": {
      "text/plain": [
       "loan_id                      0.511372\n",
       "customer_id                  0.511372\n",
       "loan_status                  0.511372\n",
       "current_loan_amount          0.511372\n",
       "term                         0.511372\n",
       "credit_score                 0.000000\n",
       "annual_income                0.000000\n",
       "years_in_current_job         0.000000\n",
       "home_ownership               0.511372\n",
       "purpose                      0.511372\n",
       "monthly_debt                 0.511372\n",
       "years_of_credit_history      0.511372\n",
       "number_of_open_accounts      0.511372\n",
       "number_of_credit_problems    0.511372\n",
       "current_credit_balance       0.511372\n",
       "maximum_open_credit          0.513361\n",
       "bankruptcies                 0.714328\n",
       "tax_liens                    0.521320\n",
       "dtype: float64"
      ]
     },
     "execution_count": 24,
     "metadata": {},
     "output_type": "execute_result"
    }
   ],
   "source": [
    "df.isna().sum()/len(df)*100"
   ]
  },
  {
   "cell_type": "code",
   "execution_count": 25,
   "id": "51353b09-679d-4dfb-a541-5ae20e6a092c",
   "metadata": {},
   "outputs": [],
   "source": [
    "df=df.dropna()"
   ]
  },
  {
   "cell_type": "code",
   "execution_count": 26,
   "id": "18ec073e-114d-4223-83a0-7ed64fb37866",
   "metadata": {},
   "outputs": [
    {
     "name": "stdout",
     "output_type": "stream",
     "text": [
      "<class 'pandas.core.frame.DataFrame'>\n",
      "Index: 99794 entries, 0 to 99999\n",
      "Data columns (total 18 columns):\n",
      " #   Column                     Non-Null Count  Dtype  \n",
      "---  ------                     --------------  -----  \n",
      " 0   loan_id                    99794 non-null  object \n",
      " 1   customer_id                99794 non-null  object \n",
      " 2   loan_status                99794 non-null  object \n",
      " 3   current_loan_amount        99794 non-null  float64\n",
      " 4   term                       99794 non-null  object \n",
      " 5   credit_score               99794 non-null  float64\n",
      " 6   annual_income              99794 non-null  float64\n",
      " 7   years_in_current_job       99794 non-null  float64\n",
      " 8   home_ownership             99794 non-null  object \n",
      " 9   purpose                    99794 non-null  object \n",
      " 10  monthly_debt               99794 non-null  float64\n",
      " 11  years_of_credit_history    99794 non-null  float64\n",
      " 12  number_of_open_accounts    99794 non-null  float64\n",
      " 13  number_of_credit_problems  99794 non-null  float64\n",
      " 14  current_credit_balance     99794 non-null  float64\n",
      " 15  maximum_open_credit        99794 non-null  float64\n",
      " 16  bankruptcies               99794 non-null  float64\n",
      " 17  tax_liens                  99794 non-null  float64\n",
      "dtypes: float64(12), object(6)\n",
      "memory usage: 14.5+ MB\n"
     ]
    }
   ],
   "source": [
    "df.info()"
   ]
  },
  {
   "cell_type": "code",
   "execution_count": 27,
   "id": "7c7dd975-17e7-45df-bd22-84e8f5f27cf8",
   "metadata": {},
   "outputs": [
    {
     "data": {
      "text/plain": [
       "loan_id                      0\n",
       "customer_id                  0\n",
       "loan_status                  0\n",
       "current_loan_amount          0\n",
       "term                         0\n",
       "credit_score                 0\n",
       "annual_income                0\n",
       "years_in_current_job         0\n",
       "home_ownership               0\n",
       "purpose                      0\n",
       "monthly_debt                 0\n",
       "years_of_credit_history      0\n",
       "number_of_open_accounts      0\n",
       "number_of_credit_problems    0\n",
       "current_credit_balance       0\n",
       "maximum_open_credit          0\n",
       "bankruptcies                 0\n",
       "tax_liens                    0\n",
       "dtype: int64"
      ]
     },
     "execution_count": 27,
     "metadata": {},
     "output_type": "execute_result"
    }
   ],
   "source": [
    "df.isna().sum()"
   ]
  },
  {
   "cell_type": "code",
   "execution_count": 28,
   "id": "9271df91-b734-4b66-8df9-c72b47d24e4a",
   "metadata": {},
   "outputs": [
    {
     "data": {
      "text/plain": [
       "loan_id                      81822\n",
       "customer_id                  81822\n",
       "loan_status                      2\n",
       "current_loan_amount          21991\n",
       "term                             2\n",
       "credit_score                   325\n",
       "annual_income                36129\n",
       "years_in_current_job            12\n",
       "home_ownership                   4\n",
       "purpose                         16\n",
       "monthly_debt                 65653\n",
       "years_of_credit_history        506\n",
       "number_of_open_accounts         51\n",
       "number_of_credit_problems       14\n",
       "current_credit_balance       32696\n",
       "maximum_open_credit          44539\n",
       "bankruptcies                     8\n",
       "tax_liens                       12\n",
       "dtype: int64"
      ]
     },
     "execution_count": 28,
     "metadata": {},
     "output_type": "execute_result"
    }
   ],
   "source": [
    "df.nunique()"
   ]
  },
  {
   "cell_type": "code",
   "execution_count": 29,
   "id": "de8a0faf-e999-4d89-aba5-56dd72d3eb54",
   "metadata": {},
   "outputs": [
    {
     "name": "stdout",
     "output_type": "stream",
     "text": [
      "['Home Mortgage' 'Own Home' 'Rent' 'HaveMortgage']\n"
     ]
    }
   ],
   "source": [
    "print(df.home_ownership.unique())"
   ]
  },
  {
   "cell_type": "code",
   "execution_count": 30,
   "id": "3a8a17fb-5798-42d2-a0b2-3a29557940b8",
   "metadata": {},
   "outputs": [
    {
     "name": "stdout",
     "output_type": "stream",
     "text": [
      "['Home Improvements' 'Debt Consolidation' 'Buy House' 'other'\n",
      " 'Business Loan' 'Buy a Car' 'major_purchase' 'Take a Trip' 'Other'\n",
      " 'small_business' 'Medical Bills' 'wedding' 'vacation'\n",
      " 'Educational Expenses' 'moving' 'renewable_energy']\n"
     ]
    }
   ],
   "source": [
    "print(df.purpose.unique())"
   ]
  },
  {
   "cell_type": "code",
   "execution_count": 31,
   "id": "70b62a5b-0728-4a02-9271-b27f661b2eca",
   "metadata": {},
   "outputs": [
    {
     "data": {
      "text/plain": [
       "loan_id                      81822\n",
       "customer_id                  81822\n",
       "loan_status                      2\n",
       "current_loan_amount          21991\n",
       "term                             2\n",
       "credit_score                   325\n",
       "annual_income                36129\n",
       "years_in_current_job            12\n",
       "home_ownership                   4\n",
       "purpose                         16\n",
       "monthly_debt                 65653\n",
       "years_of_credit_history        506\n",
       "number_of_open_accounts         51\n",
       "number_of_credit_problems       14\n",
       "current_credit_balance       32696\n",
       "maximum_open_credit          44539\n",
       "bankruptcies                     8\n",
       "tax_liens                       12\n",
       "dtype: int64"
      ]
     },
     "execution_count": 31,
     "metadata": {},
     "output_type": "execute_result"
    }
   ],
   "source": [
    "df.nunique()"
   ]
  },
  {
   "cell_type": "code",
   "execution_count": 32,
   "id": "0db0ab10-6c5c-4488-8b6f-23285324e8b3",
   "metadata": {},
   "outputs": [
    {
     "data": {
      "text/html": [
       "<div>\n",
       "<style scoped>\n",
       "    .dataframe tbody tr th:only-of-type {\n",
       "        vertical-align: middle;\n",
       "    }\n",
       "\n",
       "    .dataframe tbody tr th {\n",
       "        vertical-align: top;\n",
       "    }\n",
       "\n",
       "    .dataframe thead th {\n",
       "        text-align: right;\n",
       "    }\n",
       "</style>\n",
       "<table border=\"1\" class=\"dataframe\">\n",
       "  <thead>\n",
       "    <tr style=\"text-align: right;\">\n",
       "      <th></th>\n",
       "      <th>index</th>\n",
       "      <th>loan_id</th>\n",
       "      <th>customer_id</th>\n",
       "      <th>loan_status</th>\n",
       "      <th>current_loan_amount</th>\n",
       "      <th>term</th>\n",
       "      <th>credit_score</th>\n",
       "      <th>annual_income</th>\n",
       "      <th>years_in_current_job</th>\n",
       "      <th>home_ownership</th>\n",
       "      <th>purpose</th>\n",
       "      <th>monthly_debt</th>\n",
       "      <th>years_of_credit_history</th>\n",
       "      <th>number_of_open_accounts</th>\n",
       "      <th>number_of_credit_problems</th>\n",
       "      <th>current_credit_balance</th>\n",
       "      <th>maximum_open_credit</th>\n",
       "      <th>bankruptcies</th>\n",
       "      <th>tax_liens</th>\n",
       "    </tr>\n",
       "  </thead>\n",
       "  <tbody>\n",
       "    <tr>\n",
       "      <th>0</th>\n",
       "      <td>0</td>\n",
       "      <td>14dd8831-6af5-400b-83ec-68e61888a048</td>\n",
       "      <td>981165ec-3274-42f5-a3b4-d104041a9ca9</td>\n",
       "      <td>Fully Paid</td>\n",
       "      <td>445412.0</td>\n",
       "      <td>Short Term</td>\n",
       "      <td>709.000000</td>\n",
       "      <td>1.167493e+06</td>\n",
       "      <td>8.000000</td>\n",
       "      <td>Home Mortgage</td>\n",
       "      <td>Home Improvements</td>\n",
       "      <td>5214.74</td>\n",
       "      <td>17.2</td>\n",
       "      <td>6.0</td>\n",
       "      <td>1.0</td>\n",
       "      <td>228190.0</td>\n",
       "      <td>416746.0</td>\n",
       "      <td>1.0</td>\n",
       "      <td>0.0</td>\n",
       "    </tr>\n",
       "    <tr>\n",
       "      <th>1</th>\n",
       "      <td>1</td>\n",
       "      <td>4771cc26-131a-45db-b5aa-537ea4ba5342</td>\n",
       "      <td>2de017a3-2e01-49cb-a581-08169e83be29</td>\n",
       "      <td>Fully Paid</td>\n",
       "      <td>262328.0</td>\n",
       "      <td>Short Term</td>\n",
       "      <td>1076.456089</td>\n",
       "      <td>1.378277e+06</td>\n",
       "      <td>10.000000</td>\n",
       "      <td>Home Mortgage</td>\n",
       "      <td>Debt Consolidation</td>\n",
       "      <td>33295.98</td>\n",
       "      <td>21.1</td>\n",
       "      <td>35.0</td>\n",
       "      <td>0.0</td>\n",
       "      <td>229976.0</td>\n",
       "      <td>850784.0</td>\n",
       "      <td>0.0</td>\n",
       "      <td>0.0</td>\n",
       "    </tr>\n",
       "    <tr>\n",
       "      <th>2</th>\n",
       "      <td>2</td>\n",
       "      <td>4eed4e6a-aa2f-4c91-8651-ce984ee8fb26</td>\n",
       "      <td>5efb2b2b-bf11-4dfd-a572-3761a2694725</td>\n",
       "      <td>Fully Paid</td>\n",
       "      <td>99999999.0</td>\n",
       "      <td>Short Term</td>\n",
       "      <td>741.000000</td>\n",
       "      <td>2.231892e+06</td>\n",
       "      <td>8.000000</td>\n",
       "      <td>Own Home</td>\n",
       "      <td>Debt Consolidation</td>\n",
       "      <td>29200.53</td>\n",
       "      <td>14.9</td>\n",
       "      <td>18.0</td>\n",
       "      <td>1.0</td>\n",
       "      <td>297996.0</td>\n",
       "      <td>750090.0</td>\n",
       "      <td>0.0</td>\n",
       "      <td>0.0</td>\n",
       "    </tr>\n",
       "    <tr>\n",
       "      <th>3</th>\n",
       "      <td>3</td>\n",
       "      <td>77598f7b-32e7-4e3b-a6e5-06ba0d98fe8a</td>\n",
       "      <td>e777faab-98ae-45af-9a86-7ce5b33b1011</td>\n",
       "      <td>Fully Paid</td>\n",
       "      <td>347666.0</td>\n",
       "      <td>Long Term</td>\n",
       "      <td>721.000000</td>\n",
       "      <td>8.069490e+05</td>\n",
       "      <td>3.000000</td>\n",
       "      <td>Own Home</td>\n",
       "      <td>Debt Consolidation</td>\n",
       "      <td>8741.90</td>\n",
       "      <td>12.0</td>\n",
       "      <td>9.0</td>\n",
       "      <td>0.0</td>\n",
       "      <td>256329.0</td>\n",
       "      <td>386958.0</td>\n",
       "      <td>0.0</td>\n",
       "      <td>0.0</td>\n",
       "    </tr>\n",
       "    <tr>\n",
       "      <th>4</th>\n",
       "      <td>4</td>\n",
       "      <td>d4062e70-befa-4995-8643-a0de73938182</td>\n",
       "      <td>81536ad9-5ccf-4eb8-befb-47a4d608658e</td>\n",
       "      <td>Fully Paid</td>\n",
       "      <td>176220.0</td>\n",
       "      <td>Short Term</td>\n",
       "      <td>1076.456089</td>\n",
       "      <td>1.378277e+06</td>\n",
       "      <td>5.000000</td>\n",
       "      <td>Rent</td>\n",
       "      <td>Debt Consolidation</td>\n",
       "      <td>20639.70</td>\n",
       "      <td>6.1</td>\n",
       "      <td>15.0</td>\n",
       "      <td>0.0</td>\n",
       "      <td>253460.0</td>\n",
       "      <td>427174.0</td>\n",
       "      <td>0.0</td>\n",
       "      <td>0.0</td>\n",
       "    </tr>\n",
       "    <tr>\n",
       "      <th>...</th>\n",
       "      <td>...</td>\n",
       "      <td>...</td>\n",
       "      <td>...</td>\n",
       "      <td>...</td>\n",
       "      <td>...</td>\n",
       "      <td>...</td>\n",
       "      <td>...</td>\n",
       "      <td>...</td>\n",
       "      <td>...</td>\n",
       "      <td>...</td>\n",
       "      <td>...</td>\n",
       "      <td>...</td>\n",
       "      <td>...</td>\n",
       "      <td>...</td>\n",
       "      <td>...</td>\n",
       "      <td>...</td>\n",
       "      <td>...</td>\n",
       "      <td>...</td>\n",
       "      <td>...</td>\n",
       "    </tr>\n",
       "    <tr>\n",
       "      <th>99789</th>\n",
       "      <td>99995</td>\n",
       "      <td>3f94c18c-ba8f-45d0-8610-88a684a410a9</td>\n",
       "      <td>2da51983-cfef-4b8f-a733-5dfaf69e9281</td>\n",
       "      <td>Fully Paid</td>\n",
       "      <td>147070.0</td>\n",
       "      <td>Short Term</td>\n",
       "      <td>725.000000</td>\n",
       "      <td>4.754370e+05</td>\n",
       "      <td>7.000000</td>\n",
       "      <td>Own Home</td>\n",
       "      <td>other</td>\n",
       "      <td>2202.86</td>\n",
       "      <td>22.3</td>\n",
       "      <td>5.0</td>\n",
       "      <td>0.0</td>\n",
       "      <td>47766.0</td>\n",
       "      <td>658548.0</td>\n",
       "      <td>0.0</td>\n",
       "      <td>0.0</td>\n",
       "    </tr>\n",
       "    <tr>\n",
       "      <th>99790</th>\n",
       "      <td>99996</td>\n",
       "      <td>06eba04f-58fc-424a-b666-ed72aa008900</td>\n",
       "      <td>77f2252a-b7d1-4b07-a746-1202a8304290</td>\n",
       "      <td>Fully Paid</td>\n",
       "      <td>99999999.0</td>\n",
       "      <td>Short Term</td>\n",
       "      <td>732.000000</td>\n",
       "      <td>1.289416e+06</td>\n",
       "      <td>1.000000</td>\n",
       "      <td>Rent</td>\n",
       "      <td>Debt Consolidation</td>\n",
       "      <td>13109.05</td>\n",
       "      <td>9.4</td>\n",
       "      <td>22.0</td>\n",
       "      <td>0.0</td>\n",
       "      <td>153045.0</td>\n",
       "      <td>509234.0</td>\n",
       "      <td>0.0</td>\n",
       "      <td>0.0</td>\n",
       "    </tr>\n",
       "    <tr>\n",
       "      <th>99791</th>\n",
       "      <td>99997</td>\n",
       "      <td>e1cb4050-eff5-4bdb-a1b0-aabd3f7eaac7</td>\n",
       "      <td>2ced5f10-bd60-4a11-9134-cadce4e7b0a3</td>\n",
       "      <td>Fully Paid</td>\n",
       "      <td>103136.0</td>\n",
       "      <td>Short Term</td>\n",
       "      <td>742.000000</td>\n",
       "      <td>1.150545e+06</td>\n",
       "      <td>6.000000</td>\n",
       "      <td>Rent</td>\n",
       "      <td>Debt Consolidation</td>\n",
       "      <td>7315.57</td>\n",
       "      <td>18.8</td>\n",
       "      <td>12.0</td>\n",
       "      <td>1.0</td>\n",
       "      <td>109554.0</td>\n",
       "      <td>537548.0</td>\n",
       "      <td>1.0</td>\n",
       "      <td>0.0</td>\n",
       "    </tr>\n",
       "    <tr>\n",
       "      <th>99792</th>\n",
       "      <td>99998</td>\n",
       "      <td>81ab928b-d1a5-4523-9a3c-271ebb01b4fb</td>\n",
       "      <td>3e45ffda-99fd-4cfc-b8b8-446f4a505f36</td>\n",
       "      <td>Fully Paid</td>\n",
       "      <td>530332.0</td>\n",
       "      <td>Short Term</td>\n",
       "      <td>746.000000</td>\n",
       "      <td>1.717524e+06</td>\n",
       "      <td>9.000000</td>\n",
       "      <td>Rent</td>\n",
       "      <td>Debt Consolidation</td>\n",
       "      <td>9890.07</td>\n",
       "      <td>15.0</td>\n",
       "      <td>8.0</td>\n",
       "      <td>0.0</td>\n",
       "      <td>404225.0</td>\n",
       "      <td>738254.0</td>\n",
       "      <td>0.0</td>\n",
       "      <td>0.0</td>\n",
       "    </tr>\n",
       "    <tr>\n",
       "      <th>99793</th>\n",
       "      <td>99999</td>\n",
       "      <td>c63916c6-6d46-47a9-949a-51d09af4414f</td>\n",
       "      <td>1b3014be-5c07-4d41-abe7-44573c375886</td>\n",
       "      <td>Fully Paid</td>\n",
       "      <td>99999999.0</td>\n",
       "      <td>Short Term</td>\n",
       "      <td>743.000000</td>\n",
       "      <td>9.351800e+05</td>\n",
       "      <td>5.934975</td>\n",
       "      <td>Own Home</td>\n",
       "      <td>Debt Consolidation</td>\n",
       "      <td>9118.10</td>\n",
       "      <td>13.0</td>\n",
       "      <td>4.0</td>\n",
       "      <td>1.0</td>\n",
       "      <td>45600.0</td>\n",
       "      <td>91014.0</td>\n",
       "      <td>1.0</td>\n",
       "      <td>0.0</td>\n",
       "    </tr>\n",
       "  </tbody>\n",
       "</table>\n",
       "<p>99794 rows × 19 columns</p>\n",
       "</div>"
      ],
      "text/plain": [
       "       index                               loan_id  \\\n",
       "0          0  14dd8831-6af5-400b-83ec-68e61888a048   \n",
       "1          1  4771cc26-131a-45db-b5aa-537ea4ba5342   \n",
       "2          2  4eed4e6a-aa2f-4c91-8651-ce984ee8fb26   \n",
       "3          3  77598f7b-32e7-4e3b-a6e5-06ba0d98fe8a   \n",
       "4          4  d4062e70-befa-4995-8643-a0de73938182   \n",
       "...      ...                                   ...   \n",
       "99789  99995  3f94c18c-ba8f-45d0-8610-88a684a410a9   \n",
       "99790  99996  06eba04f-58fc-424a-b666-ed72aa008900   \n",
       "99791  99997  e1cb4050-eff5-4bdb-a1b0-aabd3f7eaac7   \n",
       "99792  99998  81ab928b-d1a5-4523-9a3c-271ebb01b4fb   \n",
       "99793  99999  c63916c6-6d46-47a9-949a-51d09af4414f   \n",
       "\n",
       "                                customer_id loan_status  current_loan_amount  \\\n",
       "0      981165ec-3274-42f5-a3b4-d104041a9ca9  Fully Paid             445412.0   \n",
       "1      2de017a3-2e01-49cb-a581-08169e83be29  Fully Paid             262328.0   \n",
       "2      5efb2b2b-bf11-4dfd-a572-3761a2694725  Fully Paid           99999999.0   \n",
       "3      e777faab-98ae-45af-9a86-7ce5b33b1011  Fully Paid             347666.0   \n",
       "4      81536ad9-5ccf-4eb8-befb-47a4d608658e  Fully Paid             176220.0   \n",
       "...                                     ...         ...                  ...   \n",
       "99789  2da51983-cfef-4b8f-a733-5dfaf69e9281  Fully Paid             147070.0   \n",
       "99790  77f2252a-b7d1-4b07-a746-1202a8304290  Fully Paid           99999999.0   \n",
       "99791  2ced5f10-bd60-4a11-9134-cadce4e7b0a3  Fully Paid             103136.0   \n",
       "99792  3e45ffda-99fd-4cfc-b8b8-446f4a505f36  Fully Paid             530332.0   \n",
       "99793  1b3014be-5c07-4d41-abe7-44573c375886  Fully Paid           99999999.0   \n",
       "\n",
       "             term  credit_score  annual_income  years_in_current_job  \\\n",
       "0      Short Term    709.000000   1.167493e+06              8.000000   \n",
       "1      Short Term   1076.456089   1.378277e+06             10.000000   \n",
       "2      Short Term    741.000000   2.231892e+06              8.000000   \n",
       "3       Long Term    721.000000   8.069490e+05              3.000000   \n",
       "4      Short Term   1076.456089   1.378277e+06              5.000000   \n",
       "...           ...           ...            ...                   ...   \n",
       "99789  Short Term    725.000000   4.754370e+05              7.000000   \n",
       "99790  Short Term    732.000000   1.289416e+06              1.000000   \n",
       "99791  Short Term    742.000000   1.150545e+06              6.000000   \n",
       "99792  Short Term    746.000000   1.717524e+06              9.000000   \n",
       "99793  Short Term    743.000000   9.351800e+05              5.934975   \n",
       "\n",
       "      home_ownership             purpose  monthly_debt  \\\n",
       "0      Home Mortgage   Home Improvements       5214.74   \n",
       "1      Home Mortgage  Debt Consolidation      33295.98   \n",
       "2           Own Home  Debt Consolidation      29200.53   \n",
       "3           Own Home  Debt Consolidation       8741.90   \n",
       "4               Rent  Debt Consolidation      20639.70   \n",
       "...              ...                 ...           ...   \n",
       "99789       Own Home               other       2202.86   \n",
       "99790           Rent  Debt Consolidation      13109.05   \n",
       "99791           Rent  Debt Consolidation       7315.57   \n",
       "99792           Rent  Debt Consolidation       9890.07   \n",
       "99793       Own Home  Debt Consolidation       9118.10   \n",
       "\n",
       "       years_of_credit_history  number_of_open_accounts  \\\n",
       "0                         17.2                      6.0   \n",
       "1                         21.1                     35.0   \n",
       "2                         14.9                     18.0   \n",
       "3                         12.0                      9.0   \n",
       "4                          6.1                     15.0   \n",
       "...                        ...                      ...   \n",
       "99789                     22.3                      5.0   \n",
       "99790                      9.4                     22.0   \n",
       "99791                     18.8                     12.0   \n",
       "99792                     15.0                      8.0   \n",
       "99793                     13.0                      4.0   \n",
       "\n",
       "       number_of_credit_problems  current_credit_balance  maximum_open_credit  \\\n",
       "0                            1.0                228190.0             416746.0   \n",
       "1                            0.0                229976.0             850784.0   \n",
       "2                            1.0                297996.0             750090.0   \n",
       "3                            0.0                256329.0             386958.0   \n",
       "4                            0.0                253460.0             427174.0   \n",
       "...                          ...                     ...                  ...   \n",
       "99789                        0.0                 47766.0             658548.0   \n",
       "99790                        0.0                153045.0             509234.0   \n",
       "99791                        1.0                109554.0             537548.0   \n",
       "99792                        0.0                404225.0             738254.0   \n",
       "99793                        1.0                 45600.0              91014.0   \n",
       "\n",
       "       bankruptcies  tax_liens  \n",
       "0               1.0        0.0  \n",
       "1               0.0        0.0  \n",
       "2               0.0        0.0  \n",
       "3               0.0        0.0  \n",
       "4               0.0        0.0  \n",
       "...             ...        ...  \n",
       "99789           0.0        0.0  \n",
       "99790           0.0        0.0  \n",
       "99791           1.0        0.0  \n",
       "99792           0.0        0.0  \n",
       "99793           1.0        0.0  \n",
       "\n",
       "[99794 rows x 19 columns]"
      ]
     },
     "execution_count": 32,
     "metadata": {},
     "output_type": "execute_result"
    }
   ],
   "source": [
    "df=df.reset_index()\n",
    "df"
   ]
  },
  {
   "cell_type": "code",
   "execution_count": null,
   "id": "6bfc40ef-3cfd-42c0-827e-3a40ded00bab",
   "metadata": {},
   "outputs": [],
   "source": []
  },
  {
   "cell_type": "code",
   "execution_count": null,
   "id": "8b1463c4-3019-47c5-9cb8-6ce77e2bb568",
   "metadata": {},
   "outputs": [],
   "source": []
  },
  {
   "cell_type": "markdown",
   "id": "27466cd1-7462-4366-857d-36d3f9892221",
   "metadata": {},
   "source": [
    "# Model Building"
   ]
  },
  {
   "cell_type": "code",
   "execution_count": 33,
   "id": "a3bbbf27-adff-4137-8eb9-37b5ac71841a",
   "metadata": {},
   "outputs": [
    {
     "data": {
      "text/html": [
       "<div>\n",
       "<style scoped>\n",
       "    .dataframe tbody tr th:only-of-type {\n",
       "        vertical-align: middle;\n",
       "    }\n",
       "\n",
       "    .dataframe tbody tr th {\n",
       "        vertical-align: top;\n",
       "    }\n",
       "\n",
       "    .dataframe thead th {\n",
       "        text-align: right;\n",
       "    }\n",
       "</style>\n",
       "<table border=\"1\" class=\"dataframe\">\n",
       "  <thead>\n",
       "    <tr style=\"text-align: right;\">\n",
       "      <th></th>\n",
       "      <th>current_loan_amount</th>\n",
       "      <th>term</th>\n",
       "      <th>credit_score</th>\n",
       "      <th>annual_income</th>\n",
       "      <th>years_in_current_job</th>\n",
       "      <th>home_ownership</th>\n",
       "      <th>purpose</th>\n",
       "      <th>monthly_debt</th>\n",
       "      <th>years_of_credit_history</th>\n",
       "      <th>number_of_open_accounts</th>\n",
       "      <th>number_of_credit_problems</th>\n",
       "      <th>current_credit_balance</th>\n",
       "      <th>maximum_open_credit</th>\n",
       "      <th>bankruptcies</th>\n",
       "      <th>tax_liens</th>\n",
       "    </tr>\n",
       "  </thead>\n",
       "  <tbody>\n",
       "    <tr>\n",
       "      <th>0</th>\n",
       "      <td>445412.0</td>\n",
       "      <td>Short Term</td>\n",
       "      <td>709.000000</td>\n",
       "      <td>1.167493e+06</td>\n",
       "      <td>8.0</td>\n",
       "      <td>Home Mortgage</td>\n",
       "      <td>Home Improvements</td>\n",
       "      <td>5214.74</td>\n",
       "      <td>17.2</td>\n",
       "      <td>6.0</td>\n",
       "      <td>1.0</td>\n",
       "      <td>228190.0</td>\n",
       "      <td>416746.0</td>\n",
       "      <td>1.0</td>\n",
       "      <td>0.0</td>\n",
       "    </tr>\n",
       "    <tr>\n",
       "      <th>1</th>\n",
       "      <td>262328.0</td>\n",
       "      <td>Short Term</td>\n",
       "      <td>1076.456089</td>\n",
       "      <td>1.378277e+06</td>\n",
       "      <td>10.0</td>\n",
       "      <td>Home Mortgage</td>\n",
       "      <td>Debt Consolidation</td>\n",
       "      <td>33295.98</td>\n",
       "      <td>21.1</td>\n",
       "      <td>35.0</td>\n",
       "      <td>0.0</td>\n",
       "      <td>229976.0</td>\n",
       "      <td>850784.0</td>\n",
       "      <td>0.0</td>\n",
       "      <td>0.0</td>\n",
       "    </tr>\n",
       "    <tr>\n",
       "      <th>2</th>\n",
       "      <td>99999999.0</td>\n",
       "      <td>Short Term</td>\n",
       "      <td>741.000000</td>\n",
       "      <td>2.231892e+06</td>\n",
       "      <td>8.0</td>\n",
       "      <td>Own Home</td>\n",
       "      <td>Debt Consolidation</td>\n",
       "      <td>29200.53</td>\n",
       "      <td>14.9</td>\n",
       "      <td>18.0</td>\n",
       "      <td>1.0</td>\n",
       "      <td>297996.0</td>\n",
       "      <td>750090.0</td>\n",
       "      <td>0.0</td>\n",
       "      <td>0.0</td>\n",
       "    </tr>\n",
       "    <tr>\n",
       "      <th>3</th>\n",
       "      <td>347666.0</td>\n",
       "      <td>Long Term</td>\n",
       "      <td>721.000000</td>\n",
       "      <td>8.069490e+05</td>\n",
       "      <td>3.0</td>\n",
       "      <td>Own Home</td>\n",
       "      <td>Debt Consolidation</td>\n",
       "      <td>8741.90</td>\n",
       "      <td>12.0</td>\n",
       "      <td>9.0</td>\n",
       "      <td>0.0</td>\n",
       "      <td>256329.0</td>\n",
       "      <td>386958.0</td>\n",
       "      <td>0.0</td>\n",
       "      <td>0.0</td>\n",
       "    </tr>\n",
       "    <tr>\n",
       "      <th>4</th>\n",
       "      <td>176220.0</td>\n",
       "      <td>Short Term</td>\n",
       "      <td>1076.456089</td>\n",
       "      <td>1.378277e+06</td>\n",
       "      <td>5.0</td>\n",
       "      <td>Rent</td>\n",
       "      <td>Debt Consolidation</td>\n",
       "      <td>20639.70</td>\n",
       "      <td>6.1</td>\n",
       "      <td>15.0</td>\n",
       "      <td>0.0</td>\n",
       "      <td>253460.0</td>\n",
       "      <td>427174.0</td>\n",
       "      <td>0.0</td>\n",
       "      <td>0.0</td>\n",
       "    </tr>\n",
       "  </tbody>\n",
       "</table>\n",
       "</div>"
      ],
      "text/plain": [
       "   current_loan_amount        term  credit_score  annual_income  \\\n",
       "0             445412.0  Short Term    709.000000   1.167493e+06   \n",
       "1             262328.0  Short Term   1076.456089   1.378277e+06   \n",
       "2           99999999.0  Short Term    741.000000   2.231892e+06   \n",
       "3             347666.0   Long Term    721.000000   8.069490e+05   \n",
       "4             176220.0  Short Term   1076.456089   1.378277e+06   \n",
       "\n",
       "   years_in_current_job home_ownership             purpose  monthly_debt  \\\n",
       "0                   8.0  Home Mortgage   Home Improvements       5214.74   \n",
       "1                  10.0  Home Mortgage  Debt Consolidation      33295.98   \n",
       "2                   8.0       Own Home  Debt Consolidation      29200.53   \n",
       "3                   3.0       Own Home  Debt Consolidation       8741.90   \n",
       "4                   5.0           Rent  Debt Consolidation      20639.70   \n",
       "\n",
       "   years_of_credit_history  number_of_open_accounts  \\\n",
       "0                     17.2                      6.0   \n",
       "1                     21.1                     35.0   \n",
       "2                     14.9                     18.0   \n",
       "3                     12.0                      9.0   \n",
       "4                      6.1                     15.0   \n",
       "\n",
       "   number_of_credit_problems  current_credit_balance  maximum_open_credit  \\\n",
       "0                        1.0                228190.0             416746.0   \n",
       "1                        0.0                229976.0             850784.0   \n",
       "2                        1.0                297996.0             750090.0   \n",
       "3                        0.0                256329.0             386958.0   \n",
       "4                        0.0                253460.0             427174.0   \n",
       "\n",
       "   bankruptcies  tax_liens  \n",
       "0           1.0        0.0  \n",
       "1           0.0        0.0  \n",
       "2           0.0        0.0  \n",
       "3           0.0        0.0  \n",
       "4           0.0        0.0  "
      ]
     },
     "execution_count": 33,
     "metadata": {},
     "output_type": "execute_result"
    }
   ],
   "source": [
    "X=df.drop(labels={'index','loan_id','customer_id','loan_status'}, axis=1)\n",
    "X.head()"
   ]
  },
  {
   "cell_type": "code",
   "execution_count": 34,
   "id": "6f02f85d-d29c-479d-9bb5-b2fb39444ead",
   "metadata": {},
   "outputs": [
    {
     "data": {
      "text/html": [
       "<div>\n",
       "<style scoped>\n",
       "    .dataframe tbody tr th:only-of-type {\n",
       "        vertical-align: middle;\n",
       "    }\n",
       "\n",
       "    .dataframe tbody tr th {\n",
       "        vertical-align: top;\n",
       "    }\n",
       "\n",
       "    .dataframe thead th {\n",
       "        text-align: right;\n",
       "    }\n",
       "</style>\n",
       "<table border=\"1\" class=\"dataframe\">\n",
       "  <thead>\n",
       "    <tr style=\"text-align: right;\">\n",
       "      <th></th>\n",
       "      <th>loan_status</th>\n",
       "    </tr>\n",
       "  </thead>\n",
       "  <tbody>\n",
       "    <tr>\n",
       "      <th>0</th>\n",
       "      <td>Fully Paid</td>\n",
       "    </tr>\n",
       "    <tr>\n",
       "      <th>1</th>\n",
       "      <td>Fully Paid</td>\n",
       "    </tr>\n",
       "    <tr>\n",
       "      <th>2</th>\n",
       "      <td>Fully Paid</td>\n",
       "    </tr>\n",
       "    <tr>\n",
       "      <th>3</th>\n",
       "      <td>Fully Paid</td>\n",
       "    </tr>\n",
       "    <tr>\n",
       "      <th>4</th>\n",
       "      <td>Fully Paid</td>\n",
       "    </tr>\n",
       "  </tbody>\n",
       "</table>\n",
       "</div>"
      ],
      "text/plain": [
       "  loan_status\n",
       "0  Fully Paid\n",
       "1  Fully Paid\n",
       "2  Fully Paid\n",
       "3  Fully Paid\n",
       "4  Fully Paid"
      ]
     },
     "execution_count": 34,
     "metadata": {},
     "output_type": "execute_result"
    }
   ],
   "source": [
    "Y=df[['loan_status']]\n",
    "Y.head()"
   ]
  },
  {
   "cell_type": "code",
   "execution_count": 35,
   "id": "3b81873a-efbe-4ace-8cdb-04c2dfbc0d9e",
   "metadata": {},
   "outputs": [
    {
     "data": {
      "text/plain": [
       "loan_status\n",
       "Fully Paid     77207\n",
       "Charged Off    22587\n",
       "Name: count, dtype: int64"
      ]
     },
     "execution_count": 35,
     "metadata": {},
     "output_type": "execute_result"
    }
   ],
   "source": [
    "Y.loan_status.value_counts()"
   ]
  },
  {
   "cell_type": "code",
   "execution_count": 36,
   "id": "3564e36e-f97f-4a65-a94d-6eaf062fb0b3",
   "metadata": {},
   "outputs": [
    {
     "data": {
      "text/plain": [
       "Text(0.5, 1.0, 'Loan Status')"
      ]
     },
     "execution_count": 36,
     "metadata": {},
     "output_type": "execute_result"
    },
    {
     "data": {
      "image/png": "[encoded data removed]",
      "text/plain": [
       "<Figure size 640x480 with 1 Axes>"
      ]
     },
     "metadata": {},
     "output_type": "display_data"
    }
   ],
   "source": [
    "Y.loan_status.value_counts().plot(kind='bar')\n",
    "plt.title('Loan Status')"
   ]
  },
  {
   "cell_type": "code",
   "execution_count": 37,
   "id": "5f6989de-a49e-4dae-aaa1-82848c57a6d0",
   "metadata": {},
   "outputs": [],
   "source": [
    "#data[\"Brand\"].replace({\"ISUZU\": \"Isuzu\", \"Mini\": \"Mini Cooper\",\"Land\":\"Land Rover\"}, inplace=True)\n",
    "Y['loan_status']=Y['loan_status'].replace({'Fully Paid':'0','Charged Off':'1'})"
   ]
  },
  {
   "cell_type": "code",
   "execution_count": 38,
   "id": "4bad8027-03f2-4c1d-9eed-312d48a8cc6b",
   "metadata": {},
   "outputs": [
    {
     "data": {
      "text/plain": [
       "loan_status\n",
       "0    77207\n",
       "1    22587\n",
       "Name: count, dtype: int64"
      ]
     },
     "execution_count": 38,
     "metadata": {},
     "output_type": "execute_result"
    }
   ],
   "source": [
    "Y.loan_status.value_counts()"
   ]
  },
  {
   "cell_type": "code",
   "execution_count": 39,
   "id": "0b31797d-b4ff-4b24-afb5-1ab53af71be4",
   "metadata": {},
   "outputs": [
    {
     "data": {
      "text/plain": [
       "Text(0.5, 1.0, 'Loan Status')"
      ]
     },
     "execution_count": 39,
     "metadata": {},
     "output_type": "execute_result"
    },
    {
     "data": {
      "image/png": "[encoded data removed]",
      "text/plain": [
       "<Figure size 640x480 with 1 Axes>"
      ]
     },
     "metadata": {},
     "output_type": "display_data"
    }
   ],
   "source": [
    "Y.loan_status.value_counts().plot(kind='bar')\n",
    "plt.title('Loan Status')"
   ]
  },
  {
   "cell_type": "code",
   "execution_count": 40,
   "id": "fa8146d3-efa8-4aee-a41d-99f0c0f2d994",
   "metadata": {},
   "outputs": [],
   "source": [
    "def cat_con(x):\n",
    "    cat=[]\n",
    "    con=[]\n",
    "    for i in x.columns:\n",
    "        if x[i].dtypes==object:\n",
    "            cat.append(i)\n",
    "        else:\n",
    "            con.append(i)\n",
    "    print('categorical features :',cat)\n",
    "    print('continues features :',con)"
   ]
  },
  {
   "cell_type": "code",
   "execution_count": 41,
   "id": "fe4f4a38-b355-417d-893e-b4ec7d5c3e8d",
   "metadata": {},
   "outputs": [
    {
     "name": "stdout",
     "output_type": "stream",
     "text": [
      "categorical features : ['term', 'home_ownership', 'purpose']\n",
      "continues features : ['current_loan_amount', 'credit_score', 'annual_income', 'years_in_current_job', 'monthly_debt', 'years_of_credit_history', 'number_of_open_accounts', 'number_of_credit_problems', 'current_credit_balance', 'maximum_open_credit', 'bankruptcies', 'tax_liens']\n"
     ]
    }
   ],
   "source": [
    "cat_con(X)"
   ]
  },
  {
   "cell_type": "code",
   "execution_count": 42,
   "id": "50f2275a-3426-4848-8f43-11f65b921137",
   "metadata": {},
   "outputs": [],
   "source": [
    "cat=['term', 'home_ownership', 'purpose']\n",
    "con=['current_loan_amount', 'credit_score', 'annual_income', 'years_in_current_job', 'monthly_debt', 'years_of_credit_history', \n",
    "     'number_of_open_accounts', 'number_of_credit_problems', 'current_credit_balance', 'maximum_open_credit', 'bankruptcies', 'tax_liens']"
   ]
  },
  {
   "cell_type": "code",
   "execution_count": 43,
   "id": "8fb28738-9954-4e6c-9f1d-eed54a74702f",
   "metadata": {},
   "outputs": [],
   "source": [
    "Xcon=X[con]\n",
    "Xcat=X[cat]"
   ]
  },
  {
   "cell_type": "code",
   "execution_count": 44,
   "id": "867680d2-eb08-4919-abd4-fce9a777076e",
   "metadata": {},
   "outputs": [],
   "source": [
    "from sklearn.preprocessing import StandardScaler, LabelEncoder\n",
    "ss=StandardScaler()\n",
    "le=LabelEncoder()"
   ]
  },
  {
   "cell_type": "code",
   "execution_count": 45,
   "id": "d3eadf00-8cea-4ab1-80d1-8c37920e663a",
   "metadata": {},
   "outputs": [
    {
     "data": {
      "text/html": [
       "<div>\n",
       "<style scoped>\n",
       "    .dataframe tbody tr th:only-of-type {\n",
       "        vertical-align: middle;\n",
       "    }\n",
       "\n",
       "    .dataframe tbody tr th {\n",
       "        vertical-align: top;\n",
       "    }\n",
       "\n",
       "    .dataframe thead th {\n",
       "        text-align: right;\n",
       "    }\n",
       "</style>\n",
       "<table border=\"1\" class=\"dataframe\">\n",
       "  <thead>\n",
       "    <tr style=\"text-align: right;\">\n",
       "      <th></th>\n",
       "      <th>current_loan_amount</th>\n",
       "      <th>credit_score</th>\n",
       "      <th>annual_income</th>\n",
       "      <th>years_in_current_job</th>\n",
       "      <th>monthly_debt</th>\n",
       "      <th>years_of_credit_history</th>\n",
       "      <th>number_of_open_accounts</th>\n",
       "      <th>number_of_credit_problems</th>\n",
       "      <th>current_credit_balance</th>\n",
       "      <th>maximum_open_credit</th>\n",
       "      <th>bankruptcies</th>\n",
       "      <th>tax_liens</th>\n",
       "    </tr>\n",
       "  </thead>\n",
       "  <tbody>\n",
       "    <tr>\n",
       "      <th>0</th>\n",
       "      <td>-0.355946</td>\n",
       "      <td>-0.276946</td>\n",
       "      <td>-0.216928</td>\n",
       "      <td>0.591078</td>\n",
       "      <td>-1.090284</td>\n",
       "      <td>-0.141648</td>\n",
       "      <td>-1.0246</td>\n",
       "      <td>1.72107</td>\n",
       "      <td>-0.176752</td>\n",
       "      <td>-0.040815</td>\n",
       "      <td>2.510513</td>\n",
       "      <td>-0.113649</td>\n",
       "    </tr>\n",
       "  </tbody>\n",
       "</table>\n",
       "</div>"
      ],
      "text/plain": [
       "   current_loan_amount  credit_score  annual_income  years_in_current_job  \\\n",
       "0            -0.355946     -0.276946      -0.216928              0.591078   \n",
       "\n",
       "   monthly_debt  years_of_credit_history  number_of_open_accounts  \\\n",
       "0     -1.090284                -0.141648                  -1.0246   \n",
       "\n",
       "   number_of_credit_problems  current_credit_balance  maximum_open_credit  \\\n",
       "0                    1.72107               -0.176752            -0.040815   \n",
       "\n",
       "   bankruptcies  tax_liens  \n",
       "0      2.510513  -0.113649  "
      ]
     },
     "execution_count": 45,
     "metadata": {},
     "output_type": "execute_result"
    }
   ],
   "source": [
    "X_con=pd.DataFrame(ss.fit_transform(Xcon), columns=con)\n",
    "X_con.head(1)"
   ]
  },
  {
   "cell_type": "code",
   "execution_count": 46,
   "id": "a285099f-400c-4472-8854-cb00d9ea38ac",
   "metadata": {
    "scrolled": true
   },
   "outputs": [
    {
     "name": "stdout",
     "output_type": "stream",
     "text": [
      "[5, 43, 51, 56, 65, 97, 117, 160, 165, 200, 216, 221, 276, 303, 307, 365, 383, 385, 389, 406, 410, 449, 509, 535, 558, 602, 609, 663, 673, 679, 693, 695, 732, 749, 776, 786, 788, 792, 802, 814, 824, 825, 842, 892, 902, 929, 995, 1050, 1093, 1126, 1145, 1164, 1179, 1186, 1188, 1297, 1372, 1374, 1409, 1421, 1427, 1495, 1506, 1514, 1524, 1537, 1547, 1553, 1618, 1620, 1636, 1642, 1655, 1657, 1665, 1681, 1691, 1706, 1721, 1726, 1742, 1752, 1805, 1868, 1872, 1884, 1898, 1903, 1914, 1928, 1933, 1942, 1948, 1963, 2001, 2043, 2061, 2062, 2067, 2092, 2100, 2147, 2158, 2174, 2180, 2189, 2194, 2233, 2238, 2267, 2274, 2289, 2300, 2338, 2360, 2425, 2431, 2475, 2483, 2514, 2520, 2552, 2556, 2570, 2597, 2621, 2643, 2656, 2661, 2671, 2676, 2685, 2694, 2708, 2729, 2748, 2754, 2770, 2789, 2832, 2844, 2846, 2882, 2900, 2917, 2928, 3005, 3019, 3058, 3063, 3100, 3122, 3148, 3197, 3202, 3210, 3220, 3227, 3230, 3280, 3284, 3300, 3303, 3312, 3351, 3397, 3427, 3439, 3451, 3504, 3520, 3529, 3563, 3633, 3677, 3702, 3744, 3771, 3784, 3809, 3844, 3863, 3878, 3901, 3907, 3928, 3931, 3951, 3964, 3966, 3987, 3998, 4007, 4032, 4077, 4101, 4106, 4165, 4203, 4220, 4267, 4295, 4306, 4315, 4321, 4338, 4373, 4377, 4400, 4405, 4410, 4412, 4441, 4478, 4491, 4509, 4515, 4519, 4541, 4550, 4553, 4582, 4596, 4623, 4629, 4704, 4719, 4725, 4737, 4738, 4754, 4773, 4775, 4782, 4795, 4829, 4864, 4882, 4891, 4914, 4939, 4946, 4959, 4980, 4992, 5047, 5073, 5113, 5125, 5129, 5151, 5153, 5162, 5172, 5210, 5226, 5260, 5261, 5273, 5281, 5299, 5337, 5358, 5369, 5373, 5381, 5388, 5389, 5434, 5467, 5475, 5544, 5551, 5588, 5601, 5625, 5666, 5715, 5724, 5725, 5726, 5779, 5795, 5824, 5847, 5848, 5867, 5875, 5883, 5903, 5966, 5984, 6016, 6022, 6055, 6057, 6062, 6067, 6069, 6078, 6107, 6115, 6122, 6125, 6129, 6139, 6142, 6173, 6231, 6257, 6265, 6274, 6277, 6286, 6298, 6338, 6373, 6417, 6440, 6450, 6452, 6459, 6464, 6504, 6507, 6508, 6545, 6563, 6582, 6591, 6620, 6645, 6651, 6653, 6660, 6661, 6677, 6722, 6753, 6767, 6810, 6820, 6825, 6838, 6871, 6882, 6922, 6950, 6987, 7007, 7057, 7061, 7070, 7072, 7085, 7108, 7135, 7150, 7178, 7190, 7231, 7286, 7289, 7307, 7329, 7385, 7391, 7393, 7425, 7438, 7450, 7455, 7500, 7504, 7519, 7534, 7551, 7612, 7637, 7664, 7722, 7731, 7751, 7769, 7782, 7788, 7805, 7815, 7857, 7891, 7924, 7934, 7940, 7997, 7998, 8000, 8010, 8014, 8021, 8052, 8073, 8101, 8113, 8114, 8139, 8162, 8180, 8185, 8199, 8217, 8223, 8255, 8350, 8357, 8376, 8390, 8421, 8551, 8566, 8617, 8621, 8636, 8648, 8670, 8676, 8711, 8726, 8747, 8756, 8781, 8821, 8849, 8853, 8883, 8892, 8893, 8927, 8970, 8972, 8974, 8978, 9002, 9010, 9026, 9057, 9064, 9091, 9105, 9132, 9137, 9146, 9157, 9164, 9187, 9189, 9232, 9274, 9288, 9302, 9340, 9378, 9390, 9440, 9475, 9565, 9574, 9581, 9583, 9587, 9590, 9622, 9625, 9652, 9655, 9668, 9702, 9752, 9772, 9802, 9803, 9809, 9810, 9811, 9864, 9877, 9890, 9891, 9919, 9927, 9955, 9957, 9971, 9988, 10054, 10057, 10061, 10078, 10089, 10123, 10128, 10139, 10140, 10156, 10162, 10168, 10184, 10195, 10208, 10241, 10271, 10275, 10329, 10336, 10338, 10347, 10373, 10380, 10426, 10436, 10448, 10457, 10475, 10482, 10503, 10587, 10597, 10619, 10631, 10703, 10707, 10708, 10718, 10753, 10763, 10764, 10775, 10777, 10854, 10872, 10875, 10883, 10891, 10907, 10919, 10935, 10948, 10962, 11040, 11108, 11118, 11145, 11159, 11204, 11224, 11265, 11271, 11277, 11292, 11301, 11315, 11335, 11345, 11359, 11403, 11412, 11494, 11498, 11509, 11530, 11542, 11556, 11559, 11562, 11646, 11650, 11654, 11655, 11683, 11723, 11806, 11826, 11831, 11832, 11837, 11843, 11865, 11911, 11935, 11953, 11988, 12032, 12079, 12118, 12134, 12164, 12181, 12184, 12197, 12202, 12205, 12217, 12229, 12231, 12252, 12321, 12361, 12404, 12410, 12439, 12444, 12473, 12486, 12490, 12518, 12581, 12598, 12607, 12621, 12629, 12667, 12669, 12686, 12707, 12734, 12748, 12751, 12754, 12836, 12847, 12875, 12908, 12958, 13046, 13054, 13056, 13074, 13101, 13135, 13159, 13168, 13175, 13229, 13245, 13264, 13277, 13286, 13287, 13290, 13300, 13312, 13349, 13373, 13387, 13400, 13404, 13497, 13524, 13556, 13557, 13623, 13629, 13653, 13655, 13659, 13668, 13670, 13671, 13689, 13690, 13691, 13728, 13834, 13837, 13857, 13870, 13895, 13941, 13950, 14025, 14041, 14099, 14135, 14170, 14181, 14183, 14215, 14248, 14261, 14301, 14343, 14403, 14404, 14407, 14447, 14558, 14577, 14592, 14603, 14604, 14613, 14631, 14658, 14669, 14714, 14745, 14798, 14812, 14846, 14853, 14854, 14860, 14889, 14896, 14953, 14977, 15016, 15021, 15118, 15129, 15134, 15138, 15139, 15172, 15178, 15227, 15294, 15313, 15377, 15400, 15401, 15421, 15431, 15483, 15543, 15597, 15609, 15612, 15626, 15639, 15656, 15661, 15664, 15669, 15693, 15757, 15763, 15777, 15778, 15798, 15804, 15818, 15824, 15832, 15842, 15898, 15914, 15919, 15968, 15984, 15986, 15997, 16020, 16028, 16058, 16070, 16105, 16120, 16124, 16134, 16137, 16159, 16162, 16173, 16177, 16179, 16182, 16249, 16258, 16265, 16269, 16290, 16315, 16322, 16346, 16373, 16401, 16429, 16453, 16457, 16492, 16534, 16551, 16563, 16598, 16618, 16681, 16684, 16702, 16831, 16836, 16892, 16909, 16912, 16934, 16978, 16982, 16996, 16997, 17008, 17017, 17050, 17051, 17072, 17076, 17078, 17092, 17095, 17139, 17154, 17172, 17178, 17190, 17201, 17218, 17276, 17281, 17293, 17296, 17299, 17332, 17356, 17418, 17421, 17443, 17452, 17465, 17485, 17500, 17510, 17575, 17598, 17614, 17618, 17628, 17651, 17655, 17680, 17708, 17711, 17745, 17790, 17808, 17834, 17845, 17890, 17895, 17896, 17899, 17949, 17971, 18004, 18037, 18089, 18144, 18170, 18202, 18214, 18251, 18255, 18298, 18305, 18331, 18337, 18384, 18399, 18404, 18441, 18450, 18490, 18501, 18511, 18535, 18539, 18540, 18541, 18555, 18567, 18573, 18606, 18610, 18644, 18699, 18762, 18768, 18812, 18825, 18828, 18841, 18854, 18875, 18920, 18927, 18943, 18972, 18990, 19028, 19049, 19052, 19055, 19071, 19072, 19087, 19102, 19110, 19113, 19116, 19119, 19159, 19166, 19266, 19294, 19307, 19367, 19383, 19404, 19423, 19432, 19445, 19503, 19504, 19523, 19526, 19528, 19547, 19558, 19591, 19606, 19683, 19727, 19738, 19743, 19764, 19768, 19779, 19788, 19869, 19876, 19882, 19916, 19933, 19940, 19952, 20064, 20078, 20137, 20160, 20166, 20195, 20223, 20267, 20280, 20328, 20344, 20375, 20416, 20472, 20485, 20499, 20585, 20607, 20618, 20623, 20626, 20640, 20641, 20650, 20660, 20680, 20691, 20710, 20734, 20741, 20770, 20805, 20807, 20811, 20824, 20827, 20837, 20839, 20855, 20950, 20987, 20988, 21023, 21032, 21049, 21080, 21090, 21111, 21118, 21136, 21252, 21284, 21348, 21374, 21380, 21408, 21449, 21530, 21541, 21568, 21593, 21596, 21648, 21665, 21672, 21707, 21754, 21773, 21798, 21835, 21846, 21863, 21867, 21868, 21869, 21945, 22023, 22053, 22179, 22223, 22267, 22302, 22310, 22323, 22324, 22326, 22367, 22377, 22421, 22435, 22441, 22455, 22456, 22469, 22472, 22486, 22514, 22528, 22552, 22569, 22586, 22605, 22636, 22652, 22676, 22690, 22697, 22731, 22750, 22766, 22767, 22795, 22875, 22906, 22946, 22959, 23000, 23007, 23023, 23042, 23052, 23073, 23094, 23102, 23137, 23143, 23145, 23157, 23166, 23168, 23174, 23226, 23228, 23273, 23318, 23357, 23362, 23415, 23422, 23581, 23590, 23678, 23741, 23776, 23805, 23817, 23845, 23878, 23894, 23895, 23909, 23937, 23941, 23974, 24019, 24112, 24126, 24147, 24210, 24233, 24237, 24241, 24291, 24307, 24316, 24324, 24327, 24346, 24371, 24458, 24500, 24529, 24536, 24552, 24574, 24597, 24624, 24633, 24648, 24680, 24686, 24709, 24740, 24757, 24781, 24798, 24832, 24849, 24911, 24922, 24973, 25036, 25092, 25134, 25158, 25191, 25251, 25257, 25279, 25284, 25286, 25310, 25323, 25328, 25335, 25352, 25355, 25379, 25388, 25401, 25429, 25435, 25474, 25508, 25517, 25523, 25564, 25630, 25636, 25663, 25686, 25701, 25723, 25727, 25754, 25779, 25789, 25827, 25831, 25858, 25862, 25874, 25877, 25891, 25893, 25986, 26036, 26048, 26066, 26074, 26123, 26165, 26201, 26203, 26217, 26219, 26251, 26254, 26265, 26280, 26300, 26359, 26361, 26366, 26369, 26391, 26398, 26401, 26440, 26441, 26458, 26486, 26502, 26510, 26532, 26571, 26572, 26581, 26606, 26624, 26635, 26669, 26743, 26764, 26796, 26825, 26863, 26877, 26913, 26923, 26945, 26947, 26948, 26950, 26955, 26962, 26965, 26976, 26998, 27004, 27013, 27015, 27023, 27038, 27050, 27059, 27068, 27074, 27119, 27204, 27214, 27250, 27279, 27306, 27328, 27342, 27370, 27379, 27394, 27426, 27434, 27445, 27450, 27452, 27486, 27513, 27536, 27557, 27567, 27615, 27618, 27640, 27654, 27686, 27693, 27718, 27734, 27750, 27756, 27759, 27790, 27822, 27837, 27851, 27855, 27862, 27876, 27877, 27907, 27927, 27954, 27962, 27974, 27991, 28017, 28028, 28048, 28058, 28098, 28109, 28120, 28131, 28139, 28171, 28207, 28222, 28225, 28247, 28250, 28261, 28265, 28283, 28303, 28307, 28350, 28393, 28407, 28413, 28443, 28501, 28548, 28555, 28566, 28574, 28594, 28661, 28704, 28716, 28732, 28743, 28749, 28762, 28820, 28829, 28835, 28905, 28914, 28922, 28942, 28968, 28973, 28984, 29035, 29051, 29053, 29068, 29113, 29125, 29128, 29161, 29171, 29174, 29204, 29240, 29254, 29281, 29307, 29365, 29366, 29377, 29398, 29417, 29423, 29483, 29505, 29522, 29568, 29570, 29571, 29573, 29581, 29596, 29689, 29697, 29733, 29786, 29791, 29798, 29805, 29850, 29889, 29903, 29919, 29955, 30034, 30041, 30048, 30083, 30091, 30105, 30137, 30143, 30204, 30205, 30210, 30253, 30278, 30282, 30306, 30316, 30335, 30339, 30364, 30424, 30448, 30495, 30571, 30572, 30585, 30594, 30617, 30633, 30653, 30667, 30673, 30722, 30731, 30740, 30749, 30751, 30764, 30769, 30806, 30816, 30829, 30836, 30926, 30968, 30982, 30985, 31031, 31074, 31115, 31129, 31174, 31215, 31217, 31223, 31248, 31257, 31267, 31286, 31299, 31323, 31331, 31354, 31366, 31402, 31409, 31412, 31417, 31421, 31486, 31497, 31520, 31537, 31580, 31691, 31718, 31722, 31773, 31778, 31779, 31796, 31801, 31902, 31924, 31925, 31928, 31937, 31987, 32002, 32021, 32025, 32145, 32194, 32201, 32205, 32235, 32262, 32276, 32303, 32312, 32346, 32350, 32353, 32390, 32411, 32447, 32461, 32468, 32473, 32483, 32508, 32518, 32530, 32553, 32563, 32574, 32579, 32688, 32692, 32703, 32734, 32742, 32799, 32815, 32833, 32850, 32860, 32878, 32881, 32927, 32933, 32951, 32964, 32986, 32999, 33003, 33106, 33123, 33130, 33138, 33155, 33158, 33168, 33194, 33215, 33254, 33268, 33360, 33381, 33392, 33519, 33524, 33556, 33573, 33583, 33627, 33628, 33650, 33653, 33735, 33748, 33807, 33832, 33869, 33903, 33921, 33923, 33925, 33948, 33963, 33976, 33981, 33989, 34007, 34062, 34072, 34087, 34092, 34144, 34152, 34160, 34170, 34187, 34215, 34236, 34272, 34277, 34346, 34381, 34389, 34432, 34441, 34514, 34565, 34571, 34632, 34640, 34652, 34661, 34732, 34748, 34760, 34774, 34803, 34823, 34863, 34866, 34887, 34898, 34908, 34914, 34917, 34932, 34972, 34997, 35015, 35021, 35117, 35167, 35177, 35205, 35211, 35260, 35301, 35328, 35344, 35364, 35374, 35410, 35413, 35420, 35427, 35448, 35454, 35465, 35480, 35482, 35489, 35563, 35570, 35580, 35615, 35711, 35747, 35822, 35828, 35892, 35899, 35921, 35938, 35952, 35971, 36014, 36024, 36073, 36080, 36093, 36095, 36129, 36168, 36251, 36293, 36324, 36341, 36347, 36432, 36483, 36497, 36512, 36537, 36636, 36679, 36692, 36701, 36703, 36762, 36765, 36802, 36805, 36823, 36827, 36840, 36901, 36912, 36924, 36927, 36937, 36939, 36956, 36958, 36962, 36981, 36991, 37004, 37008, 37027, 37141, 37181, 37183, 37190, 37204, 37211, 37233, 37250, 37266, 37305, 37330, 37403, 37413, 37436, 37454, 37457, 37461, 37462, 37495, 37504, 37527, 37562, 37569, 37576, 37597, 37652, 37656, 37690, 37760, 37761, 37765, 37766, 37768, 37775, 37834, 37860, 37867, 37875, 37902, 37928, 37933, 38001, 38022, 38131, 38153, 38223, 38236, 38273, 38295, 38318, 38340, 38354, 38422, 38426, 38427, 38452, 38483, 38489, 38512, 38517, 38527, 38530, 38558, 38565, 38577, 38597, 38616, 38627, 38635, 38667, 38707, 38709, 38757, 38767, 38782, 38783, 38790, 38839, 38871, 38907, 38917, 38920, 38990, 39016, 39061, 39080, 39096, 39119, 39134, 39204, 39254, 39368, 39375, 39411, 39414, 39437, 39445, 39451, 39453, 39545, 39554, 39569, 39574, 39578, 39616, 39633, 39637, 39663, 39741, 39756, 39815, 39850, 39860, 39898, 39932, 39947, 39954, 39968, 39971, 39974, 40009, 40028, 40063, 40075, 40091, 40101, 40109, 40124, 40139, 40166, 40201, 40208, 40218, 40219, 40223, 40229, 40283, 40288, 40306, 40308, 40347, 40361, 40437, 40440, 40447, 40475, 40513, 40515, 40529, 40545, 40565, 40597, 40606, 40617, 40672, 40723, 40754, 40800, 40815, 40876, 40887, 40925, 40944, 40949, 40964, 40986, 41012, 41081, 41090, 41095, 41097, 41110, 41160, 41191, 41194, 41210, 41232, 41246, 41265, 41266, 41267, 41285, 41311, 41321, 41397, 41406, 41418, 41431, 41507, 41513, 41517, 41545, 41566, 41567, 41575, 41590, 41605, 41654, 41655, 41681, 41729, 41774, 41792, 41799, 41802, 41803, 41811, 41835, 41838, 41876, 41928, 41954, 41982, 42040, 42046, 42061, 42107, 42147, 42204, 42257, 42261, 42307, 42351, 42358, 42359, 42380, 42384, 42395, 42405, 42406, 42439, 42460, 42498, 42512, 42521, 42535, 42546, 42582, 42611, 42614, 42623, 42637, 42692, 42731, 42755, 42756, 42788, 42797, 42813, 42861, 42881, 42883, 42903, 42908, 42910, 42930, 42966, 42984, 43008, 43021, 43048, 43060, 43135, 43154, 43163, 43222, 43247, 43255, 43269, 43286, 43292, 43347, 43365, 43394, 43402, 43412, 43482, 43511, 43535, 43545, 43552, 43562, 43568, 43572, 43591, 43629, 43633, 43737, 43769, 43779, 43783, 43819, 43872, 43898, 43912, 43919, 43941, 43950, 44031, 44037, 44063, 44079, 44090, 44110, 44128, 44149, 44163, 44193, 44220, 44222, 44240, 44276, 44281, 44283, 44297, 44347, 44352, 44367, 44391, 44419, 44458, 44459, 44478, 44482, 44510, 44553, 44559, 44576, 44580, 44620, 44628, 44630, 44634, 44678, 44719, 44737, 44741, 44765, 44834, 44840, 44845, 44854, 44904, 44905, 44919, 44966, 44981, 44995, 44997, 45016, 45077, 45084, 45091, 45099, 45103, 45107, 45125, 45137, 45193, 45218, 45248, 45276, 45284, 45292, 45305, 45310, 45312, 45367, 45400, 45401, 45404, 45422, 45423, 45532, 45546, 45580, 45612, 45615, 45616, 45640, 45661, 45672, 45683, 45685, 45783, 45837, 45871, 45878, 45888, 45909, 45916, 45955, 45963, 45969, 46016, 46031, 46034, 46047, 46048, 46069, 46101, 46130, 46157, 46166, 46245, 46247, 46249, 46261, 46267, 46291, 46315, 46328, 46350, 46391, 46431, 46446, 46455, 46456, 46461, 46464, 46465, 46476, 46552, 46557, 46565, 46571, 46582, 46590, 46620, 46625, 46660, 46681, 46710, 46711, 46719, 46727, 46740, 46741, 46810, 46841, 46882, 46898, 46936, 46971, 46983, 46998, 47018, 47019, 47022, 47033, 47051, 47059, 47064, 47094, 47095, 47115, 47121, 47147, 47171, 47205, 47263, 47291, 47378, 47379, 47447, 47463, 47472, 47492, 47505, 47566, 47598, 47604, 47624, 47663, 47674, 47694, 47716, 47729, 47767, 47778, 47785, 47818, 47835, 47859, 47893, 47898, 47924, 47932, 47950, 48011, 48012, 48036, 48096, 48120, 48130, 48151, 48271, 48323, 48349, 48358, 48369, 48379, 48384, 48385, 48431, 48463, 48488, 48505, 48522, 48564, 48583, 48615, 48621, 48660, 48668, 48674, 48723, 48724, 48725, 48768, 48791, 48821, 48868, 48875, 48885, 48911, 48935, 48955, 48958, 48988, 49000, 49012, 49057, 49062, 49067, 49077, 49096, 49100, 49135, 49174, 49273, 49279, 49305, 49319, 49330, 49352, 49401, 49473, 49496, 49552, 49660, 49689, 49696, 49706, 49708, 49718, 49722, 49731, 49741, 49744, 49794, 49867, 49880, 49886, 49913, 49953, 49964, 49999, 50027, 50042, 50117, 50120, 50142, 50147, 50162, 50195, 50197, 50216, 50223, 50249, 50251, 50285, 50294, 50366, 50374, 50382, 50427, 50440, 50453, 50459, 50491, 50539, 50548, 50556, 50576, 50586, 50631, 50663, 50731, 50767, 50769, 50841, 50847, 50861, 50895, 50908, 50916, 50918, 50978, 50979, 50990, 51019, 51062, 51075, 51083, 51095, 51108, 51137, 51145, 51147, 51163, 51187, 51237, 51238, 51242, 51260, 51287, 51321, 51326, 51337, 51361, 51367, 51371, 51392, 51437, 51439, 51452, 51476, 51482, 51485, 51503, 51509, 51516, 51543, 51569, 51591, 51615, 51621, 51656, 51668, 51675, 51679, 51801, 51825, 51851, 51855, 51872, 51930, 51944, 51947, 52004, 52046, 52095, 52105, 52129, 52211, 52228, 52247, 52252, 52274, 52336, 52342, 52366, 52391, 52394, 52414, 52421, 52454, 52469, 52473, 52487, 52491, 52519, 52540, 52550, 52555, 52561, 52577, 52582, 52593, 52601, 52608, 52663, 52705, 52716, 52746, 52748, 52751, 52769, 52775, 52777, 52849, 52860, 52873, 52879, 52972, 52990, 52997, 53002, 53012, 53015, 53024, 53033, 53060, 53080, 53127, 53148, 53151, 53154, 53176, 53192, 53230, 53251, 53256, 53275, 53302, 53311, 53321, 53334, 53346, 53352, 53408, 53443, 53542, 53544, 53559, 53645, 53650, 53728, 53738, 53759, 53764, 53767, 53770, 53772, 53790, 53863, 53864, 53884, 53916, 53944, 53957, 53979, 54019, 54023, 54114, 54176, 54205, 54226, 54229, 54246, 54299, 54409, 54410, 54415, 54476, 54489, 54495, 54510, 54544, 54568, 54588, 54635, 54693, 54726, 54781, 54788, 54800, 54853, 54887, 54894, 54905, 54920, 54957, 55002, 55004, 55027, 55065, 55073, 55095, 55132, 55137, 55140, 55144, 55174, 55201, 55203, 55209, 55244, 55290, 55313, 55341, 55386, 55417, 55429, 55445, 55452, 55467, 55552, 55632, 55637, 55671, 55748, 55764, 55774, 55785, 55787, 55805, 55854, 55882, 55889, 55893, 55895, 55897, 55904, 55910, 55934, 55953, 55998, 56000, 56068, 56082, 56119, 56134, 56162, 56174, 56189, 56194, 56215, 56240, 56270, 56313, 56324, 56368, 56388, 56392, 56449, 56455, 56460, 56507, 56515, 56538, 56549, 56560, 56590, 56596, 56603, 56607, 56757, 56768, 56819, 56820, 56838, 56879, 56897, 56898, 56904, 56956, 57002, 57015, 57030, 57051, 57070, 57079, 57094, 57122, 57154, 57155, 57168, 57189, 57218, 57223, 57227, 57267, 57391, 57406, 57419, 57430, 57447, 57448, 57473, 57498, 57503, 57544, 57585, 57617, 57674, 57709, 57758, 57762, 57765, 57785, 57789, 57802, 57804, 57815, 57829, 57932, 57975, 57990, 58003, 58023, 58028, 58056, 58057, 58106, 58205, 58289, 58290, 58345, 58353, 58377, 58392, 58411, 58423, 58431, 58453, 58456, 58460, 58473, 58480, 58487, 58494, 58505, 58516, 58517, 58546, 58574, 58581, 58586, 58603, 58636, 58649, 58670, 58671, 58688, 58710, 58732, 58862, 58868, 58870, 58883, 58898, 58917, 58919, 58935, 58950, 59008, 59022, 59026, 59030, 59051, 59055, 59071, 59084, 59086, 59161, 59172, 59205, 59211, 59218, 59221, 59225, 59241, 59298, 59310, 59338, 59363, 59380, 59390, 59394, 59406, 59409, 59436, 59439, 59442, 59471, 59495, 59503, 59537, 59545, 59584, 59634, 59654, 59680, 59699, 59718, 59721, 59770, 59776, 59786, 59796, 59847, 59907, 59908, 59925, 59971, 59976, 60001, 60032, 60062, 60070, 60088, 60102, 60122, 60156, 60198, 60212, 60227, 60266, 60300, 60309, 60317, 60338, 60357, 60450, 60457, 60461, 60464, 60467, 60477, 60497, 60505, 60528, 60530, 60597, 60609, 60662, 60670, 60676, 60708, 60725, 60734, 60751, 60753, 60757, 60775, 60793, 60810, 60814, 60837, 60869, 60885, 60914, 60949, 60954, 60974, 60991, 60997, 61010, 61012, 61034, 61060, 61066, 61071, 61099, 61176, 61185, 61240, 61280, 61333, 61342, 61347, 61379, 61387, 61410, 61412, 61417, 61440, 61463, 61485, 61498, 61589, 61601, 61615, 61634, 61644, 61661, 61673, 61734, 61779, 61818, 61860, 61866, 61928, 61931, 61947, 61950, 61993, 62034, 62065, 62071, 62076, 62077, 62110, 62131, 62145, 62151, 62161, 62172, 62197, 62208, 62214, 62218, 62226, 62228, 62249, 62271, 62298, 62322, 62339, 62349, 62372, 62384, 62387, 62394, 62410, 62430, 62439, 62446, 62447, 62479, 62508, 62535, 62544, 62555, 62570, 62587, 62612, 62625, 62642, 62674, 62696, 62714, 62733, 62812, 62852, 62854, 62858, 62893, 62937, 62949, 62963, 62969, 63047, 63080, 63096, 63109, 63148, 63169, 63181, 63188, 63213, 63226, 63234, 63239, 63245, 63287, 63288, 63316, 63320, 63336, 63341, 63359, 63363, 63379, 63417, 63418, 63511, 63546, 63572, 63573, 63574, 63587, 63596, 63603, 63668, 63673, 63702, 63706, 63726, 63733, 63739, 63777, 63815, 63861, 63864, 63890, 63897, 63933, 63956, 63984, 64019, 64022, 64038, 64067, 64089, 64119, 64191, 64198, 64206, 64210, 64215, 64226, 64228, 64264, 64289, 64315, 64408, 64413, 64418, 64420, 64431, 64436, 64451, 64483, 64524, 64563, 64592, 64610, 64614, 64653, 64663, 64677, 64753, 64777, 64778, 64780, 64811, 64849, 64939, 64952, 64972, 64983, 64986, 64993, 65009, 65018, 65029, 65046, 65056, 65083, 65085, 65090, 65114, 65136, 65137, 65149, 65152, 65155, 65160, 65167, 65176, 65191, 65249, 65258, 65264, 65295, 65304, 65310, 65313, 65339, 65386, 65392, 65410, 65448, 65481, 65488, 65547, 65555, 65620, 65625, 65656, 65742, 65779, 65796, 65813, 65889, 65921, 65929, 65930, 65943, 65976, 65980, 65991, 65995, 66017, 66028, 66030, 66037, 66079, 66108, 66124, 66148, 66154, 66172, 66175, 66186, 66213, 66224, 66242, 66270, 66312, 66333, 66407, 66457, 66465, 66521, 66528, 66562, 66568, 66569, 66584, 66588, 66649, 66694, 66712, 66726, 66792, 66837, 66842, 66844, 66857, 66872, 66884, 66885, 66908, 66909, 66918, 67012, 67013, 67021, 67032, 67035, 67054, 67073, 67097, 67107, 67134, 67136, 67262, 67277, 67288, 67292, 67321, 67326, 67335, 67348, 67390, 67433, 67437, 67447, 67449, 67505, 67540, 67552, 67572, 67592, 67604, 67605, 67627, 67676, 67729, 67734, 67751, 67753, 67780, 67800, 67829, 67867, 67898, 67899, 67978, 67992, 68036, 68045, 68046, 68094, 68116, 68119, 68197, 68275, 68290, 68307, 68319, 68336, 68352, 68364, 68410, 68429, 68445, 68467, 68473, 68514, 68529, 68537, 68546, 68548, 68553, 68561, 68569, 68572, 68593, 68653, 68668, 68669, 68685, 68702, 68706, 68716, 68717, 68752, 68758, 68779, 68785, 68809, 68828, 68862, 68896, 68908, 68978, 68993, 69013, 69045, 69061, 69187, 69196, 69198, 69215, 69274, 69296, 69299, 69306, 69309, 69326, 69338, 69374, 69397, 69426, 69437, 69469, 69492, 69511, 69556, 69563, 69564, 69575, 69577, 69619, 69623, 69652, 69654, 69698, 69723, 69746, 69755, 69793, 69832, 69868, 69878, 69893, 69910, 69920, 69924, 69953, 69982, 69990, 70020, 70035, 70058, 70070, 70141, 70154, 70175, 70176, 70184, 70203, 70221, 70250, 70273, 70275, 70317, 70346, 70365, 70407, 70409, 70417, 70440, 70443, 70465, 70466, 70468, 70542, 70560, 70567, 70584, 70588, 70598, 70644, 70660, 70683, 70719, 70741, 70792, 70828, 70831, 70833, 70889, 70890, 70904, 70905, 70911, 70963, 71000, 71021, 71079, 71104, 71118, 71147, 71236, 71244, 71246, 71280, 71295, 71298, 71369, 71401, 71413, 71427, 71430, 71446, 71485, 71496, 71518, 71521, 71593, 71603, 71606, 71614, 71622, 71623, 71645, 71686, 71713, 71730, 71741, 71766, 71806, 71816, 71827, 71881, 71903, 71907, 71927, 71929, 71945, 71972, 71993, 71998, 72035, 72046, 72047, 72131, 72192, 72198, 72210, 72252, 72268, 72304, 72335, 72338, 72346, 72364, 72365, 72405, 72413, 72475, 72479, 72482, 72488, 72557, 72593, 72600, 72643, 72652, 72687, 72753, 72837, 72839, 72841, 72845, 72847, 72861, 72905, 72918, 72972, 72988, 72994, 73048, 73058, 73099, 73107, 73149, 73157, 73162, 73169, 73182, 73185, 73199, 73226, 73233, 73247, 73258, 73299, 73310, 73313, 73399, 73405, 73441, 73499, 73513, 73530, 73536, 73542, 73543, 73559, 73605, 73606, 73609, 73674, 73688, 73707, 73712, 73769, 73836, 73859, 73861, 73868, 73879, 73888, 73923, 73963, 73984, 74007, 74045, 74083, 74109, 74138, 74147, 74166, 74185, 74202, 74214, 74236, 74261, 74265, 74279, 74290, 74291, 74295, 74305, 74323, 74371, 74372, 74398, 74427, 74455, 74463, 74469, 74503, 74518, 74533, 74596, 74686, 74699, 74709, 74712, 74779, 74787, 74815, 74817, 74819, 74823, 74859, 74881, 74990, 74992, 74996, 75004, 75020, 75119, 75129, 75190, 75199, 75205, 75206, 75266, 75270, 75352, 75373, 75377, 75384, 75406, 75423, 75464, 75470, 75535, 75551, 75563, 75603, 75609, 75611, 75616, 75686, 75688, 75693, 75707, 75723, 75728, 75729, 75821, 75839, 75841, 75846, 75867, 75879, 75880, 75883, 75891, 75892, 75908, 75939, 75956, 75957, 75961, 75964, 76000, 76048, 76049, 76054, 76063, 76076, 76094, 76179, 76182, 76192, 76207, 76218, 76260, 76293, 76311, 76315, 76316, 76329, 76346, 76365, 76366, 76394, 76398, 76415, 76428, 76431, 76440, 76456, 76512, 76545, 76611, 76643, 76656, 76733, 76831, 76837, 76876, 76901, 76927, 76942, 76949, 76951, 76959, 76968, 77004, 77014, 77023, 77029, 77030, 77032, 77075, 77115, 77128, 77163, 77167, 77177, 77192, 77248, 77252, 77270, 77310, 77347, 77367, 77414, 77484, 77489, 77502, 77526, 77562, 77564, 77589, 77604, 77630, 77651, 77660, 77697, 77733, 77740, 77766, 77786, 77806, 77811, 77873, 77893, 77896, 77939, 77957, 78018, 78027, 78049, 78091, 78161, 78179, 78200, 78211, 78215, 78253, 78268, 78296, 78330, 78336, 78365, 78371, 78387, 78400, 78467, 78491, 78494, 78509, 78519, 78523, 78533, 78585, 78621, 78633, 78662, 78678, 78701, 78741, 78786, 78808, 78827, 78856, 78870, 78903, 78906, 78910, 78913, 78915, 78974, 78994, 79003, 79017, 79042, 79054, 79080, 79082, 79107, 79132, 79145, 79191, 79202, 79203, 79261, 79271, 79293, 79311, 79361, 79364, 79370, 79373, 79387, 79390, 79392, 79394, 79398, 79402, 79440, 79494, 79522, 79553, 79599, 79646, 79690, 79714, 79722, 79727, 79750, 79788, 79789, 79795, 79798, 79856, 79871, 79911, 79917, 79962, 79970, 80015, 80030, 80066, 80075, 80095, 80124, 80132, 80144, 80175, 80177, 80224, 80231, 80246, 80271, 80298, 80312, 80325, 80330, 80349, 80377, 80402, 80421, 80439, 80473, 80479, 80486, 80499, 80502, 80523, 80599, 80615, 80643, 80659, 80665, 80668, 80791, 80797, 80798, 80814, 80827, 80850, 80856, 80863, 80889, 80900, 80954, 81009, 81035, 81037, 81070, 81130, 81193, 81197, 81242, 81246, 81259, 81273, 81296, 81311, 81315, 81331, 81337, 81340, 81344, 81364, 81370, 81378, 81392, 81394, 81397, 81416, 81423, 81425, 81456, 81475, 81480, 81506, 81511, 81530, 81532, 81538, 81551, 81557, 81558, 81583, 81590, 81630, 81662, 81733, 81767, 81778, 81790, 81917, 81928, 81930, 81938, 81942, 81960, 81980, 82007, 82012, 82029, 82030, 82078, 82086, 82106, 82114, 82128, 82152, 82161, 82175, 82183, 82191, 82230, 82235, 82245, 82247, 82264, 82283, 82309, 82332, 82336, 82340, 82364, 82369, 82416, 82422, 82524, 82540, 82545, 82548, 82554, 82565, 82566, 82577, 82600, 82615, 82632, 82691, 82711, 82752, 82756, 82761, 82799, 82802, 82805, 82818, 82828, 82847, 82860, 82898, 82911, 82927, 82933, 82939, 83021, 83025, 83028, 83046, 83050, 83051, 83068, 83095, 83106, 83114, 83127, 83133, 83148, 83150, 83187, 83245, 83249, 83276, 83306, 83372, 83406, 83418, 83436, 83442, 83476, 83512, 83518, 83543, 83588, 83631, 83645, 83655, 83666, 83669, 83682, 83754, 83783, 83827, 83837, 83986, 84018, 84030, 84033, 84086, 84095, 84132, 84141, 84143, 84164, 84169, 84188, 84239, 84256, 84281, 84309, 84332, 84349, 84363, 84367, 84369, 84376, 84383, 84403, 84421, 84454, 84529, 84566, 84580, 84594, 84595, 84609, 84632, 84670, 84672, 84716, 84745, 84772, 84778, 84802, 84807, 84903, 84946, 85100, 85116, 85135, 85137, 85151, 85178, 85183, 85193, 85200, 85244, 85250, 85260, 85267, 85304, 85358, 85365, 85379, 85397, 85410, 85443, 85444, 85497, 85505, 85543, 85597, 85608, 85612, 85613, 85620, 85627, 85634, 85656, 85669, 85679, 85685, 85686, 85692, 85698, 85716, 85779, 85783, 85844, 85853, 85872, 85885, 85897, 85905, 85929, 85963, 85981, 86008, 86016, 86037, 86045, 86071, 86088, 86153, 86183, 86191, 86214, 86299, 86304, 86311, 86335, 86345, 86369, 86397, 86400, 86462, 86471, 86473, 86484, 86490, 86497, 86510, 86534, 86566, 86632, 86660, 86722, 86749, 86780, 86794, 86796, 86807, 86825, 86827, 86848, 86871, 86921, 86960, 86961, 87007, 87009, 87012, 87034, 87054, 87077, 87082, 87100, 87110, 87125, 87147, 87188, 87200, 87234, 87244, 87279, 87289, 87401, 87426, 87435, 87470, 87472, 87476, 87493, 87506, 87525, 87527, 87528, 87542, 87544, 87548, 87552, 87568, 87572, 87595, 87645, 87646, 87656, 87664, 87670, 87671, 87678, 87696, 87711, 87725, 87730, 87740, 87755, 87776, 87781, 87796, 87810, 87811, 87833, 87843, 87861, 87873, 87892, 87906, 87920, 87922, 87935, 87941, 87954, 87959, 87987, 88009, 88021, 88042, 88046, 88077, 88079, 88094, 88095, 88098, 88113, 88124, 88126, 88160, 88162, 88166, 88206, 88238, 88245, 88287, 88304, 88305, 88308, 88313, 88377, 88380, 88381, 88386, 88410, 88428, 88449, 88466, 88474, 88498, 88517, 88528, 88560, 88571, 88601, 88626, 88633, 88655, 88683, 88690, 88725, 88730, 88733, 88734, 88742, 88760, 88774, 88788, 88871, 88898, 88940, 88948, 88968, 88974, 88991, 89016, 89033, 89036, 89067, 89068, 89070, 89107, 89155, 89173, 89190, 89210, 89240, 89260, 89279, 89300, 89301, 89324, 89362, 89364, 89378, 89427, 89433, 89465, 89467, 89494, 89505, 89544, 89561, 89570, 89615, 89629, 89654, 89670, 89672, 89702, 89710, 89713, 89737, 89780, 89804, 89850, 89864, 89874, 89878, 89931, 89937, 89953, 89956, 89962, 89975, 89978, 89988, 89999, 90005, 90014, 90031, 90055, 90065, 90076, 90093, 90152, 90160, 90170, 90231, 90298, 90301, 90332, 90344, 90357, 90395, 90417, 90517, 90520, 90545, 90572, 90573, 90579, 90581, 90586, 90605, 90645, 90664, 90670, 90675, 90680, 90713, 90725, 90737, 90741, 90742, 90768, 90769, 90815, 90865, 90918, 90931, 90934, 90941, 90944, 91029, 91043, 91076, 91079, 91098, 91113, 91119, 91137, 91141, 91161, 91178, 91211, 91228, 91236, 91245, 91395, 91399, 91458, 91477, 91484, 91498, 91506, 91567, 91573, 91589, 91612, 91615, 91631, 91638, 91646, 91660, 91662, 91666, 91668, 91706, 91731, 91732, 91789, 91878, 91886, 91924, 92011, 92039, 92062, 92082, 92089, 92123, 92135, 92184, 92199, 92207, 92208, 92215, 92263, 92338, 92342, 92351, 92371, 92411, 92499, 92572, 92593, 92653, 92666, 92694, 92705, 92722, 92734, 92746, 92749, 92763, 92775, 92818, 92841, 92844, 92849, 92850, 92874, 92881, 92900, 92910, 92913, 92928, 92937, 92963, 92965, 92989, 93025, 93027, 93046, 93083, 93106, 93113, 93128, 93145, 93156, 93160, 93169, 93235, 93275, 93319, 93322, 93327, 93332, 93348, 93365, 93368, 93411, 93445, 93465, 93537, 93574, 93608, 93618, 93630, 93633, 93634, 93641, 93660, 93673, 93679, 93696, 93700, 93713, 93722, 93724, 93742, 93762, 93803, 93844, 93876, 93916, 93964, 93967, 94004, 94008, 94028, 94082, 94089, 94099, 94130, 94131, 94167, 94186, 94205, 94235, 94261, 94265, 94276, 94284, 94293, 94294, 94302, 94306, 94309, 94376, 94394, 94404, 94449, 94471, 94472, 94500, 94551, 94567, 94596, 94690, 94701, 94734, 94754, 94781, 94791, 94825, 94830, 94839, 94863, 94864, 94868, 94905, 94916, 94935, 94940, 95005, 95007, 95073, 95175, 95181, 95188, 95217, 95218, 95242, 95246, 95253, 95259, 95269, 95340, 95350, 95387, 95396, 95399, 95411, 95439, 95441, 95465, 95488, 95495, 95532, 95539, 95553, 95571, 95577, 95617, 95620, 95634, 95652, 95653, 95679, 95683, 95712, 95742, 95748, 95750, 95765, 95811, 95824, 95846, 95878, 95893, 95907, 95920, 95951, 95979, 95983, 95993, 96103, 96121, 96124, 96151, 96154, 96210, 96241, 96267, 96269, 96287, 96346, 96397, 96468, 96486, 96495, 96497, 96532, 96550, 96558, 96578, 96580, 96584, 96587, 96604, 96640, 96681, 96710, 96752, 96758, 96761, 96766, 96778, 96791, 96793, 96820, 96873, 96959, 96974, 96975, 96997, 97041, 97110, 97135, 97160, 97172, 97243, 97251, 97275, 97290, 97325, 97326, 97349, 97357, 97377, 97388, 97389, 97417, 97436, 97437, 97452, 97479, 97505, 97514, 97516, 97527, 97529, 97581, 97597, 97614, 97636, 97703, 97718, 97722, 97729, 97741, 97774, 97796, 97803, 97815, 97816, 97854, 97866, 97912, 97957, 97962, 97964, 97971, 97980, 97997, 98033, 98038, 98040, 98051, 98053, 98054, 98087, 98115, 98137, 98142, 98155, 98196, 98311, 98333, 98358, 98375, 98380, 98417, 98449, 98574, 98638, 98651, 98684, 98699, 98712, 98715, 98716, 98754, 98771, 98812, 98826, 98834, 98868, 98995, 98999, 99000, 99015, 99020, 99059, 99063, 99109, 99111, 99133, 99152, 99168, 99182, 99232, 99259, 99324, 99371, 99458, 99522, 99524, 99571, 99575, 99612, 99645, 99666, 99700, 99738, 99741, 74, 76, 306, 321, 451, 460, 514, 529, 552, 657, 691, 734, 744, 853, 1243, 1247, 1328, 1401, 1573, 1765, 1805, 1917, 2119, 2139, 2316, 2331, 2478, 2550, 2753, 2784, 2839, 3056, 3110, 3117, 3169, 3359, 3596, 3624, 3720, 3768, 3933, 4105, 4163, 4207, 4401, 4424, 4490, 4529, 4548, 4758, 4834, 4854, 4934, 5062, 5088, 5237, 5250, 5408, 5419, 5487, 5596, 5751, 5793, 5805, 5816, 5955, 6002, 6414, 6487, 6576, 6670, 6733, 6753, 6838, 7030, 7195, 7260, 7341, 7389, 7399, 7418, 7564, 7628, 7652, 7868, 7893, 7905, 8034, 8151, 8247, 8294, 8338, 8438, 8476, 8503, 8612, 8620, 8648, 8690, 8827, 8845, 8944, 9007, 9102, 9119, 9135, 9446, 9664, 10046, 10110, 10245, 10423, 10469, 10506, 10703, 10957, 10980, 11069, 11258, 11275, 11295, 11314, 11502, 11547, 11685, 11766, 11809, 11859, 11862, 11863, 11918, 11980, 12107, 12125, 12537, 12591, 12663, 12946, 12983, 13225, 13377, 13612, 13818, 13855, 13899, 14016, 14029, 14109, 14283, 14565, 14737, 14738, 15031, 15089, 15236, 15287, 15297, 15347, 15433, 15474, 15505, 15674, 15746, 15804, 15994, 16035, 16173, 16504, 16671, 16827, 16894, 17140, 17189, 17255, 17259, 17275, 17455, 17524, 17529, 17617, 17676, 17752, 17766, 18007, 18139, 18247, 18487, 18552, 18630, 18671, 18699, 18707, 18744, 18836, 18853, 18996, 19177, 19302, 19439, 19530, 19567, 19844, 19859, 20180, 20192, 20270, 20308, 20431, 20500, 20584, 20632, 20652, 20811, 20823, 21121, 21246, 21253, 21453, 21458, 21552, 21596, 21721, 21754, 21868, 21886, 21983, 22100, 22148, 22210, 22228, 22383, 22542, 22609, 22818, 22819, 23067, 23219, 23703, 23713, 23863, 23871, 24004, 24062, 24082, 24145, 24150, 24228, 24302, 24305, 24362, 24364, 24377, 24589, 24953, 25011, 25042, 25057, 25086, 25157, 25263, 25364, 25760, 25950, 26006, 26209, 26433, 26454, 26549, 26722, 26754, 26899, 27090, 27115, 27189, 27203, 27215, 27235, 27369, 27451, 27461, 27652, 27834, 27904, 27970, 27984, 28057, 28281, 28355, 28524, 28525, 28561, 28967, 29021, 29094, 29144, 29266, 29300, 29539, 29701, 29751, 29784, 29839, 29915, 29939, 30153, 30196, 30260, 30309, 30415, 30458, 30520, 30550, 30583, 30600, 30602, 30697, 30858, 30924, 30948, 30949, 30952, 31081, 31154, 31822, 31855, 31932, 32332, 32524, 32566, 32593, 33343, 33433, 33627, 33798, 34226, 34569, 34614, 34682, 34923, 34950, 35023, 35082, 35094, 35141, 35202, 35428, 35544, 35633, 35782, 35965, 36058, 36151, 36193, 36390, 36545, 36567, 36693, 36750, 36757, 36817, 36936, 37052, 37080, 37167, 37231, 37327, 37437, 37781, 37886, 37915, 38300, 38382, 38443, 38449, 38485, 38691, 38936, 39170, 39367, 39621, 39731, 39816, 39917, 39961, 39979, 40036, 40078, 40222, 40282, 40365, 40399, 40401, 40461, 40576, 40607, 40721, 40755, 40813, 40992, 41188, 41194, 41210, 41291, 41392, 41435, 41496, 41612, 41616, 41733, 41973, 42114, 42117, 42184, 42302, 42345, 42359, 42393, 42467, 42499, 42563, 42692, 42897, 42919, 42924, 43279, 43398, 43456, 43547, 43938, 44034, 44052, 44186, 44194, 44206, 44249, 44277, 44421, 44463, 44526, 44531, 44652, 44716, 44724, 44744, 44930, 45105, 45118, 45381, 45383, 45389, 45413, 45560, 45745, 45786, 45832, 45868, 45933, 45934, 46008, 46126, 46130, 46146, 46165, 46323, 46325, 46329, 46750, 46775, 46863, 46880, 47049, 47278, 47336, 47390, 47426, 47626, 47754, 47764, 47881, 48055, 48101, 48136, 48242, 48272, 48387, 48456, 48656, 48966, 49027, 49147, 49215, 49230, 49494, 49528, 49880, 49973, 50127, 50139, 50218, 50239, 50304, 50491, 50505, 50651, 50682, 50689, 50690, 50815, 50849, 51101, 51154, 51349, 51402, 51855, 52097, 52558, 52607, 52768, 53020, 53037, 53087, 53226, 53339, 53889, 54028, 54043, 54260, 54309, 54640, 54827, 54882, 54896, 54988, 55002, 55050, 55112, 55226, 55234, 55363, 55511, 55661, 55724, 55920, 55991, 55999, 56069, 56079, 56294, 56305, 56551, 56567, 56643, 56699, 57411, 57463, 57514, 57515, 57678, 57895, 58075, 58157, 58576, 58595, 58818, 58960, 59149, 59159, 59208, 59377, 59742, 59769, 59833, 59888, 59970, 60132, 60206, 60403, 60424, 60462, 60574, 60590, 60758, 60843, 60845, 60859, 60872, 60907, 60954, 61080, 61090, 61233, 61263, 61603, 61642, 61861, 61942, 61946, 61965, 61997, 62053, 62071, 62117, 62143, 62215, 62259, 62536, 62576, 62731, 62867, 63093, 63405, 63566, 63598, 63599, 63785, 63973, 64153, 64242, 64341, 64424, 64710, 64803, 64971, 65055, 65250, 65377, 65411, 65634, 65755, 66091, 66407, 66529, 66540, 66648, 66914, 66940, 66982, 67043, 67044, 67073, 67276, 67293, 67313, 67380, 67530, 67589, 67658, 67740, 67863, 68160, 68223, 68376, 68502, 68578, 68710, 68860, 68876, 69016, 69115, 69222, 69418, 69419, 69425, 69495, 69517, 69535, 69672, 69757, 69790, 69793, 69844, 69926, 70115, 70303, 70322, 70439, 70724, 70884, 70981, 71167, 71250, 71316, 71360, 71362, 71368, 71396, 72169, 72615, 72706, 72773, 72857, 73002, 73013, 73089, 73322, 73475, 73780, 73812, 74023, 74031, 74083, 74161, 74224, 74247, 74281, 74343, 74769, 74886, 75104, 75171, 75187, 75420, 75425, 75437, 75495, 75511, 75615, 75627, 75657, 75669, 75825, 75997, 76209, 76357, 76492, 76574, 76620, 76977, 76997, 77098, 77138, 77395, 77406, 77444, 77540, 77676, 77790, 77868, 77900, 77914, 77921, 77963, 78014, 78264, 78438, 78655, 78656, 78754, 78863, 79030, 79043, 79179, 79257, 79309, 79320, 79401, 79466, 79525, 79528, 79559, 79814, 79929, 80006, 80326, 80358, 80360, 80564, 80582, 80684, 80695, 80885, 80926, 81057, 81085, 81148, 81187, 81266, 81310, 81543, 81914, 81969, 82031, 82205, 82242, 82384, 82863, 83086, 83093, 83095, 83171, 83179, 83217, 83392, 83672, 83678, 83823, 83886, 84029, 84112, 84151, 84248, 84363, 84455, 84499, 84551, 84584, 84703, 84746, 84779, 84789, 84859, 84871, 84947, 85086, 85454, 85484, 85497, 85505, 85647, 85652, 85690, 85694, 85858, 85942, 85971, 86010, 86412, 86594, 86670, 86770, 86827, 86828, 86869, 86894, 86926, 86954, 86995, 87078, 87091, 87149, 87156, 87227, 87251, 87270, 87314, 87355, 87416, 87579, 87783, 87872, 87901, 87984, 88048, 88049, 88241, 88263, 88298, 88406, 88670, 88724, 89087, 89204, 89407, 89468, 89597, 89702, 89764, 89801, 89828, 89943, 89952, 90077, 90147, 90302, 90331, 90374, 90388, 90395, 90525, 90543, 90576, 90804, 90981, 91831, 92154, 92160, 92269, 92419, 92430, 92455, 92463, 92533, 92576, 92582, 92597, 92625, 92797, 92805, 92807, 92854, 93280, 93281, 93388, 93739, 93772, 94015, 94083, 94108, 94128, 94335, 94785, 94798, 94808, 94846, 94986, 95013, 95125, 95220, 95365, 95555, 95579, 95782, 95793, 95803, 96025, 96123, 96305, 96644, 96776, 96804, 96827, 96913, 96946, 97078, 97091, 97270, 97333, 97358, 97505, 97522, 97649, 97702, 97764, 97790, 97947, 97958, 98088, 98420, 98492, 98578, 98621, 98702, 98799, 98894, 98897, 98962, 99026, 99240, 99247, 99320, 99414, 99515, 99637, 257, 311, 451, 513, 516, 552, 619, 653, 691, 694, 744, 818, 826, 877, 1023, 1073, 1234, 1247, 1259, 1441, 1626, 1765, 1902, 2030, 2034, 2055, 2107, 2119, 2190, 2316, 2396, 2397, 2433, 2528, 2550, 2569, 2753, 2848, 2896, 2921, 2928, 3065, 3110, 3223, 3275, 3282, 3290, 3295, 3315, 3359, 3596, 3665, 3909, 3975, 4034, 4105, 4414, 4424, 4452, 4511, 4529, 4548, 4639, 4655, 4802, 4822, 4928, 5047, 5062, 5202, 5250, 5305, 5318, 5363, 5419, 5509, 5527, 5596, 5793, 5805, 5833, 6002, 6003, 6110, 6205, 6479, 6593, 6615, 6636, 6639, 6698, 6756, 6838, 6899, 6917, 6953, 6962, 6996, 7030, 7079, 7082, 7097, 7152, 7324, 7382, 7418, 7461, 7526, 7544, 7589, 7606, 7681, 7868, 7905, 8034, 8062, 8067, 8164, 8169, 8419, 8496, 8653, 8725, 8744, 8827, 8845, 8851, 8944, 9007, 9010, 9029, 9060, 9102, 9121, 9359, 9490, 9650, 9651, 9719, 9735, 9896, 10044, 10110, 10291, 10372, 10412, 10451, 10472, 10606, 10699, 10779, 10811, 10918, 10984, 11021, 11306, 11314, 11365, 11416, 11427, 11441, 11468, 11547, 11627, 11636, 11766, 11829, 11906, 12023, 12107, 12125, 12271, 12484, 12537, 12548, 12612, 12672, 12777, 12897, 12913, 13002, 13016, 13029, 13173, 13201, 13229, 13393, 13542, 13607, 13612, 13698, 13702, 13727, 13803, 13818, 13855, 13978, 14029, 14033, 14283, 14349, 14376, 14586, 14606, 14791, 15000, 15012, 15031, 15089, 15248, 15297, 15364, 15390, 15410, 15427, 15447, 15490, 15505, 15529, 15537, 15560, 15564, 15639, 15674, 15694, 15767, 15781, 15804, 15936, 15994, 16023, 16039, 16062, 16178, 16203, 16390, 16409, 16436, 16491, 16504, 16658, 16678, 16736, 16878, 16965, 17246, 17274, 17275, 17287, 17304, 17455, 17667, 17705, 17720, 17752, 17766, 17795, 17862, 17892, 18068, 18172, 18179, 18247, 18487, 18521, 18532, 18539, 18612, 18645, 18678, 18744, 18752, 18853, 18951, 19018, 19292, 19302, 19307, 19341, 19361, 19439, 19464, 19538, 19567, 19663, 19738, 19778, 19840, 19906, 19942, 19975, 20127, 20128, 20308, 20402, 20429, 20591, 20685, 20820, 20823, 20909, 20942, 20992, 21213, 21246, 21448, 21501, 21567, 21721, 21755, 21886, 21983, 22005, 22148, 22202, 22210, 22542, 22566, 22819, 22851, 23003, 23067, 23219, 23224, 23531, 23552, 23571, 23592, 23703, 23728, 23781, 23830, 23871, 23880, 24004, 24017, 24082, 24085, 24145, 24150, 24228, 24230, 24305, 24362, 24364, 24422, 24676, 24715, 24762, 24785, 24847, 24859, 24947, 24953, 24996, 25151, 25357, 25364, 25403, 25561, 25651, 25756, 25783, 25832, 25834, 25881, 25959, 25985, 25995, 26048, 26095, 26136, 26179, 26228, 26314, 26422, 26433, 26533, 26724, 26731, 26733, 26754, 26804, 26901, 26933, 27074, 27090, 27215, 27235, 27335, 27377, 27528, 27834, 27938, 27956, 28081, 28355, 28360, 28524, 28574, 28593, 28636, 28915, 28975, 29022, 29105, 29230, 29342, 29555, 29701, 29751, 29798, 29833, 29939, 29946, 30001, 30062, 30077, 30079, 30137, 30220, 30260, 30550, 30558, 30600, 30679, 30773, 30846, 30898, 30924, 30952, 30984, 31006, 31063, 31068, 31097, 31149, 31176, 31327, 31465, 31472, 31613, 31733, 31827, 31846, 31848, 31913, 31954, 32119, 32238, 32332, 32450, 32499, 32563, 32625, 32821, 33081, 33084, 33112, 33226, 33306, 33367, 33418, 33516, 33589, 33732, 33792, 33853, 33942, 33968, 34189, 34275, 34391, 34442, 34617, 34656, 34768, 34880, 34923, 34950, 35063, 35141, 35168, 35202, 35339, 35380, 35398, 35428, 35453, 35544, 35555, 35633, 35782, 35965, 36018, 36085, 36088, 36112, 36137, 36144, 36303, 36324, 36443, 36480, 36504, 36548, 36567, 36589, 36598, 36627, 36633, 36693, 36746, 36750, 36757, 36812, 36817, 36850, 36887, 36922, 36935, 36984, 37182, 37386, 37496, 37501, 37605, 37656, 37754, 37844, 38255, 38262, 38273, 38364, 38422, 38443, 38449, 38454, 38813, 38936, 39005, 39153, 39203, 39318, 39370, 39731, 39806, 39816, 39825, 39917, 40036, 40095, 40222, 40266, 40380, 40398, 40399, 40721, 40796, 40992, 41001, 41193, 41194, 41210, 41214, 41269, 41435, 41441, 41448, 41496, 41624, 41627, 41681, 41690, 41697, 41733, 41907, 41997, 42018, 42078, 42114, 42300, 42345, 42359, 42364, 42393, 42499, 42506, 42636, 42715, 42761, 42888, 42919, 42954, 43244, 43279, 43387, 43394, 43456, 43508, 43635, 43696, 43948, 43954, 44056, 44121, 44172, 44186, 44280, 44421, 44463, 44493, 44526, 44590, 44609, 44652, 44653, 44680, 44716, 44838, 44905, 44907, 44911, 45017, 45040, 45046, 45072, 45105, 45118, 45147, 45253, 45383, 45395, 45413, 45421, 45543, 45560, 45667, 45677, 45708, 45868, 45934, 46008, 46034, 46114, 46146, 46251, 46272, 46308, 46323, 46338, 46360, 46695, 46738, 46778, 46799, 46800, 46863, 46872, 46947, 47034, 47294, 47331, 47336, 47408, 47450, 47468, 47569, 47667, 47754, 47863, 47881, 47893, 47916, 47925, 47940, 48066, 48242, 48320, 48438, 48466, 48665, 48682, 48716, 48790, 48986, 49117, 49132, 49151, 49494, 49501, 49662, 49865, 49880, 49973, 50107, 50127, 50139, 50239, 50304, 50366, 50505, 50540, 50674, 50815, 50905, 51005, 51115, 51139, 51154, 51307, 51349, 51372, 51463, 51539, 51629, 51780, 51887, 51907, 51933, 51982, 52045, 52097, 52202, 52270, 52349, 52413, 52466, 52673, 52735, 52895, 52914, 52963, 53037, 53186, 53226, 53348, 53449, 53556, 53672, 53731, 53876, 54028, 54228, 54257, 54296, 54308, 54309, 54343, 54442, 54480, 54676, 54741, 54861, 54896, 55008, 55234, 55275, 55368, 55587, 55622, 55724, 55848, 55860, 55913, 55927, 55991, 56065, 56079, 56175, 56294, 56441, 56468, 56496, 56500, 56511, 56551, 56567, 56747, 56792, 56821, 56937, 56939, 57087, 57168, 57230, 57339, 57390, 57528, 57564, 57571, 57708, 57780, 57903, 57968, 58070, 58157, 58202, 58296, 58306, 58320, 58366, 58576, 58653, 58748, 58785, 59019, 59074, 59199, 59228, 59247, 59356, 59437, 59491, 59644, 59721, 59839, 59888, 59990, 60013, 60081, 60092, 60133, 60142, 60424, 60550, 60590, 60682, 60692, 60703, 60737, 60758, 60843, 60849, 60859, 60900, 60907, 60937, 61041, 61090, 61233, 61263, 61333, 61367, 61597, 61615, 61707, 61828, 61942, 61946, 61968, 62014, 62050, 62078, 62145, 62192, 62259, 62308, 62322, 62350, 62401, 62413, 62468, 62513, 62576, 62578, 62614, 62839, 62930, 63185, 63206, 63249, 63405, 63408, 63599, 63679, 63785, 63855, 63959, 64065, 64099, 64125, 64212, 64242, 64379, 64396, 64421, 64465, 64487, 64579, 64623, 64759, 64848, 65021, 65241, 65522, 65526, 65682, 65721, 65795, 65829, 65909, 66030, 66077, 66161, 66305, 66311, 66443, 66464, 66529, 66610, 66648, 66710, 66793, 66835, 66940, 67043, 67073, 67126, 67173, 67237, 67337, 67347, 67380, 67477, 67496, 67561, 67589, 67615, 67923, 68185, 68186, 68223, 68242, 68304, 68343, 68376, 68423, 68517, 68572, 68710, 68860, 68910, 68912, 68918, 68921, 69111, 69157, 69202, 69222, 69280, 69288, 69378, 69394, 69419, 69495, 69578, 69591, 69654, 69757, 69763, 69790, 69844, 69892, 69926, 69964, 70115, 70224, 70287, 70322, 70323, 70370, 70424, 70575, 70676, 70739, 71079, 71131, 71183, 71316, 71360, 71362, 71379, 71396, 71479, 71656, 71738, 71750, 71959, 72362, 72636, 72697, 72706, 72728, 72739, 72773, 73089, 73137, 73196, 73227, 73253, 73289, 73383, 73420, 73475, 73621, 73677, 74020, 74027, 74121, 74214, 74336, 74369, 74554, 74562, 74588, 74591, 74609, 74650, 74769, 74886, 74950, 75007, 75045, 75047, 75175, 75194, 75495, 75505, 75511, 75535, 75615, 75625, 75627, 75679, 75742, 75825, 75869, 75948, 76209, 76240, 76247, 76263, 76357, 76471, 76492, 76586, 76717, 76803, 76871, 76916, 76997, 77098, 77330, 77332, 77362, 77406, 77425, 77501, 77540, 77577, 77674, 77676, 77698, 77950, 77963, 78035, 78264, 78280, 78305, 78400, 78401, 78438, 78610, 78656, 78868, 78959, 79006, 79222, 79248, 79314, 79466, 79528, 79559, 79635, 79678, 79703, 79723, 79929, 80197, 80198, 80239, 80326, 80358, 80390, 80408, 80411, 80472, 80684, 80699, 80744, 80748, 80817, 80846, 80874, 80877, 80885, 81083, 81135, 81176, 81187, 81254, 81276, 81428, 81466, 81542, 81551, 81596, 81721, 81740, 81760, 81771, 81824, 82031, 82187, 82205, 82210, 82250, 82285, 82435, 82495, 82635, 83067, 83095, 83109, 83217, 83353, 83507, 83530, 83584, 83672, 83678, 83680, 83751, 83823, 83928, 84085, 84132, 84298, 84342, 84455, 84499, 84506, 84529, 84537, 84571, 84584, 84593, 84640, 84703, 84746, 84760, 84789, 84818, 84849, 84871, 84924, 84939, 85052, 85092, 85167, 85199, 85592, 85647, 85652, 85690, 85702, 85754, 85985, 86132, 86339, 86613, 86736, 86770, 86861, 86869, 86894, 86951, 87007, 87026, 87078, 87149, 87171, 87234, 87245, 87251, 87336, 87416, 87464, 87579, 87753, 87807, 87872, 87895, 87901, 87930, 87936, 88018, 88044, 88099, 88269, 88389, 88410, 88431, 88547, 88670, 88724, 88730, 88750, 88800, 88822, 88958, 88968, 89004, 89018, 89043, 89112, 89139, 89322, 89346, 89403, 89407, 89468, 89530, 89782, 89952, 90101, 90137, 90268, 90331, 90407, 90611, 90726, 90758, 90773, 90981, 91061, 91098, 91233, 91323, 91425, 91461, 91493, 91517, 91790, 91831, 91888, 92230, 92277, 92333, 92335, 92438, 92451, 92463, 92548, 92562, 92582, 92625, 92728, 92768, 92805, 92835, 92878, 93137, 93163, 93280, 93411, 93727, 93739, 93857, 93865, 93884, 93969, 94037, 94108, 94128, 94382, 94558, 94566, 94569, 94754, 94779, 94785, 94834, 94846, 95013, 95138, 95190, 95220, 95272, 95306, 95329, 95365, 95525, 95722, 95772, 95806, 95899, 96025, 96289, 96411, 96476, 96489, 96644, 96773, 96776, 96804, 97091, 97106, 97156, 97184, 97195, 97204, 97248, 97502, 97560, 97638, 97649, 97784, 97788, 97840, 97877, 97901, 97904, 97906, 97941, 97944, 97959, 98004, 98011, 98051, 98251, 98296, 98444, 98621, 98697, 98822, 99010, 99026, 99099, 99240, 99247, 99253, 99254, 99298, 99515, 99527, 99536, 99637, 99696, 99761, 29, 54, 87, 151, 160, 169, 300, 311, 396, 411, 747, 1075, 1131, 1169, 1236, 1312, 1313, 1388, 1749, 1758, 1897, 1921, 2030, 2062, 2275, 2632, 2671, 2710, 2811, 2963, 2979, 2995, 3033, 3077, 3128, 3153, 3206, 3318, 3335, 3348, 3462, 3484, 3521, 3530, 3536, 3592, 3615, 3619, 3723, 3774, 3863, 4104, 4149, 4170, 4233, 4255, 4259, 4328, 4377, 4392, 4403, 4481, 4585, 4677, 4692, 4756, 4840, 4861, 4981, 4995, 5102, 5247, 5318, 5320, 5431, 5482, 5565, 5619, 5653, 5759, 6171, 6290, 6362, 6482, 6533, 6723, 6901, 6928, 7013, 7092, 7181, 7231, 7324, 7438, 7466, 7495, 7586, 7589, 7690, 7916, 8181, 8481, 8587, 8593, 8669, 8671, 8722, 8738, 8755, 8829, 8858, 8866, 8963, 9048, 9124, 9158, 9384, 9421, 9469, 9717, 9844, 9910, 9982, 10116, 10236, 10654, 10732, 10779, 10854, 10978, 11085, 11107, 11162, 11217, 11399, 11578, 11579, 11580, 11582, 11607, 11914, 12039, 12101, 12218, 12277, 12307, 12325, 12441, 12477, 12515, 12570, 12673, 12692, 12711, 12714, 12751, 12767, 12777, 12911, 13011, 13119, 13140, 13522, 13684, 13702, 13764, 13896, 13977, 14022, 14135, 14171, 14195, 14412, 14416, 14493, 14621, 14642, 14697, 14996, 15140, 15253, 15256, 15382, 15413, 15537, 15590, 15700, 15793, 15934, 16035, 16131, 16201, 16293, 16301, 16364, 16387, 16504, 16510, 16631, 16809, 16831, 16853, 16901, 16939, 17068, 17155, 17167, 17271, 17353, 17376, 17449, 17484, 17623, 17672, 17868, 18103, 18140, 18146, 18240, 18308, 18357, 18392, 18400, 18536, 18570, 18745, 18841, 18929, 18966, 19025, 19074, 19442, 19829, 19853, 19941, 20116, 20280, 20462, 20703, 20750, 20796, 20849, 20894, 20953, 20962, 21011, 21227, 21271, 21364, 21409, 21436, 21499, 21537, 21644, 21807, 21922, 21945, 22080, 22085, 22087, 22341, 22360, 22429, 22490, 22513, 22520, 22537, 22625, 22728, 22826, 22902, 22956, 23046, 23100, 23236, 23300, 23524, 23535, 23595, 23607, 23691, 23713, 23734, 23914, 23973, 24012, 24165, 24313, 24377, 24405, 24421, 24794, 24881, 25124, 25292, 25323, 25342, 25437, 25467, 25488, 25541, 25633, 25664, 25798, 25920, 25971, 26045, 26108, 26305, 26447, 26483, 26630, 26679, 26776, 26783, 26836, 26877, 26966, 27121, 27132, 27137, 27325, 27329, 27344, 27432, 27457, 27514, 27597, 27642, 27725, 27870, 27912, 27913, 27971, 27990, 28001, 28038, 28298, 28305, 28568, 28599, 28619, 28787, 28908, 29170, 29196, 29354, 29555, 29564, 29752, 30102, 30189, 30248, 30264, 30302, 30419, 30560, 30668, 30767, 30863, 30898, 30914, 30921, 31004, 31025, 31046, 31255, 31366, 31425, 31541, 31554, 31616, 31703, 31728, 31824, 31834, 31997, 32087, 32125, 32205, 32321, 32348, 32392, 32433, 32696, 32709, 32771, 32793, 32800, 32917, 33242, 33433, 33582, 33585, 33604, 33641, 33662, 33713, 33728, 33781, 33787, 33877, 33884, 34190, 34250, 34277, 34314, 34375, 34385, 34432, 34445, 34464, 34505, 34525, 34643, 34679, 34746, 34760, 34886, 34895, 35013, 35063, 35192, 35202, 35339, 35536, 35660, 35756, 35770, 35777, 35884, 35921, 35959, 35986, 36088, 36144, 36271, 36276, 36372, 36436, 36452, 36507, 36547, 36826, 36980, 37062, 37504, 37551, 37631, 37654, 37836, 37985, 38062, 38273, 38297, 38397, 38399, 38595, 38629, 38707, 39101, 39199, 39275, 39389, 39404, 39435, 39674, 39818, 39979, 40080, 40084, 40159, 40232, 40656, 40681, 40720, 40751, 40894, 41166, 41168, 41197, 41392, 41398, 41401, 41489, 41509, 41661, 41908, 41945, 42166, 42301, 42359, 42443, 42610, 42639, 42714, 42777, 42954, 43114, 43132, 43444, 43566, 43633, 43671, 43678, 43686, 43789, 43884, 43984, 44061, 44071, 44133, 44170, 44303, 44346, 44481, 44563, 44629, 44903, 44932, 45067, 45094, 45104, 45141, 45367, 45429, 45462, 45691, 45699, 45747, 45769, 45820, 46040, 46100, 46114, 46263, 46370, 46468, 46635, 46648, 46740, 46855, 46897, 46939, 47081, 47130, 47205, 47255, 47294, 47397, 47420, 47634, 47694, 47715, 47850, 47995, 48011, 48016, 48050, 48056, 48101, 48229, 48243, 48385, 48517, 48547, 48552, 48701, 48766, 48991, 49012, 49020, 49041, 49072, 49085, 49093, 49109, 49133, 49201, 49202, 49326, 49421, 49501, 49644, 50179, 50186, 50223, 50245, 50264, 50539, 50569, 50683, 50685, 50722, 50768, 50785, 50908, 50963, 51187, 51204, 51211, 51240, 51569, 51606, 51745, 51750, 51793, 51807, 51922, 51979, 51999, 52088, 52190, 52255, 52334, 52371, 52551, 52952, 53001, 53132, 53186, 53571, 53672, 53737, 54110, 54354, 54372, 54541, 54736, 54750, 54824, 54981, 55024, 55077, 55083, 55174, 55462, 55468, 55511, 55721, 55724, 55840, 56010, 56079, 56122, 56241, 56409, 56539, 56660, 56719, 56739, 56871, 56900, 56906, 57013, 57169, 57270, 57333, 57345, 57385, 57439, 57506, 57624, 57756, 57948, 57949, 57967, 58018, 58071, 58178, 58314, 58364, 58415, 58441, 58488, 58709, 58815, 58824, 58960, 59019, 59127, 59154, 59217, 59384, 59524, 59641, 59838, 59991, 60083, 60161, 60223, 60283, 60312, 60353, 60506, 60807, 60893, 60917, 61078, 61162, 61165, 61314, 61348, 61370, 61375, 61445, 61498, 61632, 61718, 61749, 61762, 61828, 61882, 62093, 62106, 62131, 62421, 62657, 62665, 62695, 63122, 63145, 63194, 63250, 63337, 63380, 63421, 63436, 64014, 64091, 64135, 64164, 64170, 64199, 64214, 64462, 64479, 64504, 64544, 64611, 64686, 64712, 64777, 64859, 64907, 64917, 64922, 64937, 65021, 65072, 65131, 65211, 65214, 65258, 65312, 65338, 65496, 65822, 65841, 66039, 66078, 66164, 66338, 66348, 66354, 66446, 66489, 66523, 66575, 66708, 66804, 67021, 67175, 67224, 67295, 67299, 67323, 67434, 67463, 67481, 67527, 67555, 67704, 67732, 67882, 67889, 67972, 67988, 68078, 68086, 68099, 68123, 68145, 68331, 68358, 68493, 68499, 68557, 68859, 68862, 68884, 69439, 69610, 69620, 69696, 69717, 69773, 69885, 69993, 70049, 70205, 70208, 70226, 70267, 70271, 70427, 70537, 70617, 70859, 70867, 70926, 70957, 71060, 71136, 71155, 71250, 71398, 71498, 71514, 71544, 71630, 71803, 72048, 72314, 72390, 72449, 72460, 72584, 72778, 72781, 72801, 72872, 72955, 72977, 73082, 73123, 73159, 73174, 73534, 73554, 73696, 73903, 73942, 74048, 74202, 74208, 74312, 74314, 74388, 74464, 74474, 74859, 75115, 75119, 75159, 75227, 75299, 75404, 75490, 75565, 75724, 75783, 75828, 75870, 75886, 76158, 76165, 76338, 76407, 76431, 76537, 76568, 76751, 76769, 76775, 76884, 76890, 76896, 76962, 76975, 77107, 77402, 77427, 77497, 77518, 77602, 77739, 77808, 77910, 77915, 78085, 78165, 78185, 78258, 78364, 78443, 78524, 78546, 78573, 78584, 78919, 79033, 79180, 79340, 79461, 79516, 79522, 79608, 79715, 79796, 79853, 79873, 79881, 79925, 79974, 80062, 80131, 80196, 80220, 80248, 80347, 80354, 80355, 80468, 80506, 80698, 80895, 80918, 81015, 81135, 81138, 81152, 81350, 81400, 81457, 81460, 81542, 81601, 81659, 81827, 82056, 82137, 82203, 82247, 82331, 82449, 82636, 82763, 82791, 82890, 83159, 83162, 83199, 83354, 83486, 83515, 83669, 83727, 83940, 83948, 83954, 83968, 84062, 84119, 84213, 84342, 84344, 84400, 84437, 84463, 84494, 84599, 84623, 84819, 84904, 85100, 85135, 85169, 85176, 85193, 85241, 85391, 85476, 85623, 85916, 85946, 85977, 86114, 86300, 86304, 86309, 86326, 86427, 86436, 86503, 86568, 86780, 86801, 86875, 86906, 86927, 87022, 87073, 87087, 87210, 87214, 87247, 87268, 87321, 87382, 87495, 87558, 87678, 87769, 87801, 87896, 87907, 87984, 88108, 88274, 88285, 88307, 88353, 88400, 88469, 88798, 88878, 88951, 89017, 89028, 89108, 89139, 89300, 89360, 89403, 89502, 89770, 89799, 90004, 90027, 90228, 90390, 90660, 90693, 90772, 90921, 91100, 91254, 91261, 91282, 91302, 91366, 91388, 91525, 91546, 91623, 91709, 91716, 91768, 91783, 91795, 91861, 92118, 92249, 92258, 92304, 92427, 92486, 92608, 92719, 92835, 92878, 92917, 92918, 92936, 92975, 93053, 93092, 93302, 93495, 93510, 93543, 93550, 93627, 93657, 93842, 93850, 93865, 93960, 93978, 93980, 94041, 94080, 94199, 94205, 94266, 94288, 94337, 94418, 94493, 94508, 94541, 94566, 94576, 94833, 94883, 94908, 95029, 95109, 95145, 95226, 95336, 95360, 95447, 95468, 95613, 95629, 95772, 95793, 95801, 95985, 95992, 96034, 96042, 96140, 96255, 96315, 96320, 96430, 96458, 96464, 96548, 96566, 96599, 96781, 96856, 96964, 97029, 97081, 97083, 97086, 97111, 97195, 97300, 97325, 97363, 97623, 97671, 97737, 97767, 97790, 97827, 97954, 98007, 98041, 98106, 98214, 98239, 98348, 98387, 98417, 98436, 98578, 98596, 98677, 98697, 98715, 98718, 98792, 98809, 98879, 98882, 98976, 98992, 99104, 99180, 99337, 99447, 99464, 99506, 99534, 99562, 99698, 99714, 1, 46, 118, 312, 376, 473, 511, 636, 664, 691, 736, 748, 778, 848, 874, 982, 1002, 1023, 1080, 1142, 1164, 1236, 1367, 1443, 1484, 1545, 1626, 1701, 1719, 1758, 2035, 2075, 2086, 2125, 2316, 2357, 2449, 2503, 2554, 2567, 2578, 2603, 2647, 2651, 2714, 2848, 2975, 3091, 3168, 3449, 3595, 3619, 3719, 3774, 3818, 3872, 3945, 4063, 4171, 4764, 4780, 4861, 4923, 4966, 5147, 5202, 5304, 5411, 5478, 5509, 5597, 5617, 5789, 5971, 6032, 6254, 6443, 6469, 6615, 6696, 6712, 6881, 6978, 7141, 7188, 7229, 7238, 7267, 7352, 7921, 8223, 8276, 8301, 8496, 8706, 8708, 8943, 8979, 9029, 9419, 9651, 9722, 9759, 9954, 9961, 9969, 10010, 10115, 10130, 10196, 10222, 10313, 10352, 10473, 10510, 10780, 10880, 11053, 11067, 11093, 11104, 11378, 11429, 11490, 11504, 11604, 11609, 11646, 11669, 11768, 11935, 11942, 11969, 12091, 12197, 12264, 12328, 12843, 12899, 12905, 13069, 13416, 13446, 13452, 13568, 13597, 13598, 13701, 13884, 13894, 14033, 14134, 14147, 14206, 14228, 14548, 14675, 14784, 14895, 14903, 14932, 15052, 15179, 15190, 15257, 15291, 15410, 15440, 15490, 15525, 15613, 15653, 15674, 15715, 15804, 15818, 15859, 15979, 16223, 16383, 16409, 16456, 16465, 16629, 16726, 16745, 16752, 17225, 17485, 17524, 17687, 17731, 17792, 17875, 18349, 18842, 18846, 18951, 19067, 19164, 19195, 19327, 19367, 19546, 19567, 19569, 19609, 19898, 19959, 20252, 20256, 20270, 20400, 20666, 20685, 20753, 20794, 20806, 20854, 20887, 20893, 20942, 20989, 21094, 21161, 21237, 21267, 21300, 21501, 21633, 21642, 21840, 22051, 22117, 22148, 22232, 22314, 22507, 22520, 22587, 22697, 22840, 22874, 23023, 23570, 23958, 24023, 24043, 24051, 24085, 24273, 24337, 24503, 24515, 24613, 24847, 24968, 25011, 25044, 25051, 25108, 25154, 25221, 25225, 25249, 25346, 25668, 25687, 25759, 25770, 25995, 26019, 26265, 26533, 27096, 27136, 27566, 27630, 27780, 28015, 28371, 28443, 28546, 28618, 28818, 29368, 29408, 29412, 29473, 29613, 29686, 29846, 29974, 30178, 30218, 30367, 30464, 30489, 30610, 30651, 30652, 30696, 30710, 30781, 31003, 31019, 31067, 31267, 31362, 31401, 31554, 31751, 32131, 32339, 32386, 32625, 32638, 32640, 32642, 32701, 32737, 32951, 32976, 33264, 33303, 33579, 33766, 33823, 33901, 33926, 33968, 33978, 34242, 34385, 34504, 34510, 34562, 34781, 34988, 35080, 35094, 35103, 35489, 35544, 35574, 35845, 35973, 36036, 36087, 36120, 36144, 36203, 36445, 36470, 36521, 36675, 36693, 36780, 36874, 36903, 36974, 37249, 37288, 37335, 37455, 37496, 37509, 37579, 37599, 37656, 37718, 37756, 37843, 38154, 38176, 38449, 38473, 38490, 38579, 38594, 38651, 38768, 38991, 39185, 39356, 39394, 39614, 39626, 39754, 39817, 39902, 40121, 40311, 40489, 40672, 40749, 40797, 40948, 41016, 41079, 41210, 41226, 41412, 41430, 41444, 41579, 41726, 41755, 41846, 41856, 41889, 41984, 42063, 42174, 42265, 42330, 42355, 42404, 42422, 42492, 42674, 42761, 42843, 42852, 42888, 42987, 43019, 43074, 43121, 43260, 43297, 43436, 43483, 43526, 43570, 43634, 43643, 43704, 43777, 43798, 43887, 44056, 44442, 44503, 44542, 44577, 44599, 44730, 44754, 44937, 44942, 44960, 45039, 45081, 45118, 45167, 45228, 45282, 45324, 45413, 45498, 45795, 45842, 46023, 46107, 46148, 46428, 46501, 46540, 46551, 46668, 46790, 46798, 46891, 47675, 47906, 47954, 48055, 48266, 48298, 48461, 48466, 48499, 48534, 48568, 48674, 48844, 48881, 48893, 48906, 48986, 48990, 49019, 49084, 49169, 49290, 49488, 49497, 49836, 49907, 49950, 49956, 50107, 50261, 50282, 50284, 50405, 50468, 50490, 50540, 50721, 50796, 50815, 50850, 50894, 51009, 51069, 51178, 51194, 51234, 51326, 51860, 52005, 52160, 52163, 52270, 52315, 52413, 52640, 52744, 52838, 52845, 52901, 52931, 52960, 53011, 53104, 53166, 53183, 53190, 53376, 53535, 53854, 53920, 54131, 54147, 54192, 54279, 54756, 55849, 55971, 56092, 56181, 56227, 56527, 56540, 56550, 56574, 56582, 56737, 56791, 56851, 56946, 56987, 57201, 57362, 57407, 57462, 57599, 57615, 57616, 57748, 57751, 57780, 57792, 57834, 58057, 58283, 58495, 58581, 58699, 58758, 58817, 59234, 59295, 59482, 59543, 59678, 59765, 59789, 59793, 59839, 59897, 60040, 60133, 60247, 60283, 60406, 60517, 60543, 60572, 60583, 60737, 60784, 60789, 60868, 60907, 60982, 61156, 61400, 61411, 61463, 61605, 61697, 61707, 61762, 61992, 62200, 62283, 62311, 62349, 62365, 62412, 62473, 62851, 62857, 62998, 63095, 63143, 63202, 63285, 63404, 63504, 63538, 63540, 63565, 63686, 63742, 63772, 63778, 63844, 63947, 63959, 64014, 64181, 64360, 64371, 64505, 64536, 64542, 64636, 64813, 64877, 65096, 65122, 65135, 65241, 65361, 65392, 65649, 65704, 65738, 65847, 66110, 66358, 66383, 66582, 66825, 66930, 67006, 67052, 67362, 67367, 67424, 67679, 67795, 67818, 67920, 67934, 68065, 68283, 68342, 68348, 68432, 68640, 68740, 68791, 68806, 68908, 68958, 68998, 69048, 69161, 69320, 69400, 69583, 69695, 69742, 69763, 70061, 70133, 70237, 70413, 70554, 70617, 70621, 70645, 70996, 71333, 71453, 71459, 71472, 71699, 71714, 71744, 71814, 71840, 71955, 71959, 72010, 72076, 72084, 72188, 72195, 72268, 72638, 72654, 72677, 72679, 72742, 73074, 73117, 73227, 73291, 73473, 73636, 73940, 74171, 74200, 74227, 74276, 74303, 74325, 74372, 74387, 74459, 74505, 74750, 74769, 74845, 74861, 74972, 74998, 75045, 75186, 75284, 75408, 75412, 75605, 75679, 75787, 75988, 76036, 76260, 76528, 76583, 76604, 76615, 76650, 76666, 76766, 76953, 77069, 77132, 77243, 77394, 77402, 77698, 77762, 77893, 78324, 78366, 78634, 78819, 78826, 78912, 78940, 79003, 79017, 79072, 79086, 79093, 79193, 79363, 79478, 79571, 79621, 79659, 79691, 79827, 79972, 79981, 80041, 80066, 80198, 80289, 80353, 80501, 80536, 80576, 80754, 80769, 80786, 80908, 80938, 81208, 81221, 81235, 81273, 81387, 81428, 81452, 81520, 81552, 81625, 81771, 81825, 81865, 81941, 81967, 81970, 81979, 81986, 82013, 82038, 82314, 82543, 82553, 82620, 82687, 82738, 82761, 82827, 83027, 83298, 83313, 83378, 83441, 83537, 83595, 83795, 83851, 84095, 84201, 84227, 84312, 84512, 84672, 84864, 84903, 84904, 85104, 85169, 85202, 85348, 85471, 85595, 85690, 85739, 85741, 86064, 86132, 86176, 86204, 86422, 86473, 86528, 86535, 86565, 86704, 86708, 86811, 86861, 87046, 87129, 87149, 87234, 87250, 87326, 87377, 87394, 87472, 87476, 87529, 87579, 87590, 87660, 87678, 87682, 87782, 87886, 87897, 87953, 88046, 88144, 88157, 88166, 88269, 88455, 88496, 88556, 88614, 88693, 88878, 88976, 89037, 89050, 89093, 89346, 89361, 89388, 89491, 89564, 89726, 89782, 90027, 90084, 90184, 90190, 90248, 90403, 90630, 90665, 90746, 90824, 90834, 91023, 91149, 91191, 91372, 91392, 91429, 91525, 91536, 91545, 91592, 91609, 91645, 91734, 91790, 91885, 91891, 91894, 91995, 92013, 92141, 92370, 92426, 92463, 92523, 92563, 92752, 92762, 92897, 92950, 93023, 93034, 93098, 93161, 93227, 93252, 93304, 93411, 93462, 93483, 93551, 93596, 93626, 93784, 93860, 94037, 94140, 94218, 94365, 94394, 94505, 94527, 94774, 94803, 94822, 94842, 95365, 95527, 95837, 96016, 96170, 96257, 96279, 96372, 96410, 96574, 96638, 96650, 96657, 96700, 96752, 96753, 96804, 97165, 97244, 97425, 97453, 97560, 97695, 97713, 97719, 97751, 97800, 97877, 98002, 98004, 98005, 98048, 98188, 98216, 98532, 98590, 98677, 98689, 98824, 99108, 99310, 99351, 99529, 99578, 99637, 99761, 96, 161, 180, 248, 300, 312, 369, 403, 444, 480, 529, 589, 603, 702, 721, 777, 789, 931, 947, 964, 966, 1002, 1005, 1039, 1063, 1070, 1219, 1265, 1287, 1383, 1509, 1613, 1623, 1685, 1729, 1821, 1938, 1994, 2006, 2054, 2106, 2110, 2137, 2154, 2335, 2429, 2432, 2446, 2491, 2749, 2769, 2884, 2902, 2953, 2982, 3011, 3039, 3042, 3164, 3166, 3193, 3309, 3393, 3451, 3568, 3635, 3641, 3703, 3713, 3715, 3795, 3930, 4152, 4356, 4374, 4408, 4555, 4582, 4616, 4623, 4646, 4649, 4713, 4722, 4769, 4783, 4849, 4916, 4946, 4970, 5028, 5050, 5106, 5153, 5228, 5256, 5294, 5303, 5398, 5400, 5458, 5488, 5598, 5599, 5607, 5786, 5802, 5867, 5906, 5940, 5951, 5976, 6023, 6045, 6046, 6050, 6165, 6234, 6313, 6402, 6431, 6485, 6558, 6638, 6738, 6742, 6754, 6764, 6819, 6875, 6880, 6907, 6949, 6975, 6983, 7040, 7076, 7115, 7156, 7340, 7427, 7482, 7528, 7574, 7728, 7785, 7814, 7925, 7939, 7966, 8095, 8141, 8167, 8176, 8207, 8226, 8339, 8394, 8414, 8436, 8465, 8514, 8572, 8648, 8650, 8687, 8887, 8982, 9026, 9074, 9117, 9195, 9272, 9339, 9343, 9348, 9432, 9495, 9507, 9654, 9690, 9700, 9714, 9812, 9914, 10028, 10054, 10142, 10185, 10233, 10243, 10250, 10339, 10349, 10639, 10861, 10865, 10869, 10945, 10997, 11068, 11090, 11144, 11217, 11279, 11401, 11407, 11455, 11503, 11525, 11563, 11575, 11693, 11785, 11853, 11970, 12050, 12086, 12110, 12135, 12153, 12306, 12384, 12410, 12417, 12421, 12436, 12486, 12525, 12569, 12576, 12667, 12713, 12741, 12970, 12972, 12986, 12998, 13007, 13109, 13119, 13131, 13192, 13197, 13219, 13239, 13369, 13394, 13442, 13477, 13510, 13532, 13558, 13592, 13621, 13764, 13783, 13854, 14031, 14156, 14161, 14169, 14244, 14253, 14332, 14395, 14505, 14589, 14850, 14869, 14906, 14938, 15229, 15305, 15328, 15384, 15393, 15395, 15581, 15588, 15591, 15610, 15638, 15672, 15746, 15868, 15882, 15892, 15893, 15927, 15936, 15946, 16000, 16034, 16061, 16115, 16168, 16211, 16214, 16260, 16287, 16295, 16377, 16386, 16560, 16587, 16608, 16681, 16689, 16733, 16788, 16843, 16846, 16860, 16866, 16907, 17223, 17234, 17338, 17376, 17423, 17435, 17456, 17512, 17536, 17687, 17693, 17736, 17750, 17751, 17839, 17844, 17880, 17989, 18040, 18153, 18189, 18252, 18264, 18269, 18480, 18789, 18799, 18856, 18936, 18950, 18978, 18986, 19047, 19070, 19072, 19097, 19152, 19194, 19288, 19291, 19313, 19348, 19360, 19381, 19415, 19467, 19496, 19501, 19561, 19592, 19793, 19823, 19889, 19900, 19976, 19980, 19983, 19987, 20243, 20264, 20316, 20548, 20620, 20643, 20647, 20748, 20772, 20808, 20864, 20896, 20961, 20978, 21001, 21030, 21103, 21218, 21228, 21267, 21290, 21308, 21330, 21413, 21579, 21630, 21654, 21729, 21785, 21797, 21834, 21835, 21942, 21963, 21992, 22038, 22068, 22124, 22173, 22187, 22210, 22319, 22507, 22523, 22541, 22649, 22677, 22789, 22824, 22849, 22899, 22943, 23216, 23224, 23259, 23278, 23285, 23312, 23313, 23329, 23390, 23410, 23549, 23573, 23580, 23594, 23623, 23624, 23674, 23676, 23690, 23699, 23745, 23779, 23810, 23950, 24026, 24033, 24040, 24267, 24289, 24334, 24358, 24367, 24375, 24406, 24409, 24460, 24588, 24602, 24664, 24711, 24724, 24861, 24883, 24884, 25107, 25108, 25189, 25200, 25287, 25347, 25366, 25377, 25391, 25394, 25529, 25695, 25849, 25895, 26006, 26025, 26111, 26172, 26252, 26300, 26376, 26807, 26993, 27066, 27069, 27090, 27135, 27138, 27142, 27188, 27211, 27297, 27305, 27336, 27374, 27376, 27391, 27459, 27562, 27622, 27645, 27669, 27740, 27887, 27902, 27945, 28033, 28104, 28363, 28366, 28416, 28426, 28582, 28632, 28633, 28647, 28677, 28697, 28739, 28831, 28849, 28967, 29002, 29048, 29487, 29524, 29549, 29585, 29617, 29652, 29688, 29697, 29808, 29841, 29846, 29861, 29886, 29937, 29957, 29965, 30064, 30248, 30307, 30438, 30550, 30585, 30618, 30657, 30677, 30750, 30767, 30844, 30858, 30871, 30897, 30904, 30923, 30964, 30968, 31007, 31113, 31217, 31231, 31236, 31383, 31417, 31434, 31553, 31598, 31734, 31760, 31803, 31841, 31879, 31882, 31932, 31952, 31960, 31966, 31971, 32072, 32146, 32193, 32222, 32503, 32559, 32611, 32656, 32661, 32686, 32720, 32839, 32852, 32894, 32931, 33007, 33053, 33102, 33139, 33155, 33310, 33330, 33367, 33401, 33422, 33424, 33431, 33460, 33461, 33491, 33553, 33554, 33560, 33595, 33614, 33616, 33765, 33853, 33871, 33874, 33891, 33894, 33920, 34015, 34038, 34074, 34078, 34108, 34148, 34192, 34341, 34381, 34406, 34445, 34486, 34497, 34503, 34620, 34662, 34709, 34753, 34764, 34803, 34816, 34861, 34993, 35100, 35118, 35132, 35203, 35217, 35236, 35272, 35318, 35350, 35402, 35408, 35483, 35622, 35630, 35729, 35742, 35748, 35788, 35835, 35899, 35954, 35985, 35999, 36113, 36139, 36178, 36179, 36345, 36396, 36422, 36490, 36553, 36654, 36704, 36726, 36737, 36797, 36812, 36932, 36933, 37156, 37167, 37180, 37211, 37381, 37409, 37449, 37456, 37465, 37502, 37508, 37534, 37555, 37653, 37830, 37837, 37943, 37945, 37986, 38044, 38118, 38241, 38249, 38325, 38453, 38509, 38518, 38572, 38573, 38745, 39216, 39301, 39314, 39359, 39473, 39491, 39639, 39650, 39671, 39752, 39841, 39898, 39906, 39940, 40057, 40098, 40138, 40186, 40403, 40478, 40642, 40665, 40732, 40754, 40881, 40909, 40917, 41033, 41160, 41172, 41226, 41266, 41294, 41322, 41376, 41451, 41554, 41596, 41608, 41618, 41671, 41728, 41729, 41858, 41898, 41900, 41906, 41974, 41976, 42058, 42061, 42069, 42117, 42206, 42216, 42341, 42402, 42471, 42538, 42571, 42629, 42681, 42683, 42703, 42773, 42862, 42973, 42997, 43026, 43031, 43064, 43069, 43075, 43254, 43272, 43305, 43318, 43384, 43390, 43428, 43435, 43458, 43547, 43590, 43623, 43692, 43723, 43839, 43871, 43936, 43944, 43996, 44002, 44392, 44458, 44460, 44791, 45035, 45075, 45141, 45255, 45274, 45292, 45318, 45410, 45424, 45471, 45530, 45560, 45586, 45643, 45693, 45698, 45724, 45764, 45791, 45821, 45961, 45966, 46023, 46058, 46078, 46237, 46311, 46326, 46437, 46527, 46534, 46572, 46604, 46723, 46769, 46827, 46844, 46877, 46973, 46990, 47023, 47071, 47075, 47081, 47117, 47253, 47303, 47305, 47331, 47356, 47375, 47666, 47690, 47819, 47823, 47828, 47853, 47854, 47929, 48006, 48078, 48171, 48181, 48186, 48257, 48295, 48385, 48388, 48450, 48528, 48532, 48542, 48562, 48640, 48690, 48704, 48845, 48933, 48937, 48996, 49067, 49085, 49101, 49103, 49112, 49130, 49333, 49355, 49371, 49377, 49379, 49388, 49492, 49511, 49585, 49608, 49771, 49788, 49827, 49835, 49911, 49918, 49983, 50004, 50156, 50168, 50403, 50523, 50642, 50657, 50659, 50676, 50711, 50771, 50776, 50791, 50809, 50820, 50912, 51032, 51141, 51171, 51218, 51247, 51497, 51588, 51602, 51657, 51713, 51733, 51734, 51752, 51789, 51791, 51873, 51949, 51978, 51980, 52042, 52120, 52215, 52255, 52291, 52388, 52424, 52461, 52507, 52596, 52621, 52690, 52713, 52780, 52832, 52848, 52898, 52992, 53015, 53021, 53026, 53149, 53168, 53225, 53254, 53287, 53324, 53327, 53370, 53406, 53532, 53614, 53708, 53840, 53842, 53888, 53942, 53961, 54075, 54080, 54086, 54298, 54371, 54372, 54405, 54415, 54440, 54503, 54505, 54595, 54643, 54691, 54743, 54760, 54775, 54805, 54826, 54875, 54929, 54964, 55014, 55132, 55244, 55268, 55352, 55424, 55447, 55458, 55521, 55540, 55824, 55833, 55859, 55879, 55885, 55903, 55959, 55995, 56002, 56094, 56333, 56370, 56373, 56392, 56506, 56519, 56579, 56642, 56670, 56676, 56764, 56790, 56828, 56835, 56861, 56903, 56909, 56978, 57083, 57160, 57348, 57362, 57429, 57448, 57506, 57650, 57731, 57739, 57765, 57860, 57947, 58013, 58056, 58109, 58119, 58351, 58497, 58533, 58547, 58563, 58576, 58648, 58652, 58669, 58713, 58714, 58719, 58755, 58795, 58852, 58959, 59018, 59022, 59073, 59187, 59191, 59234, 59274, 59285, 59306, 59364, 59391, 59425, 59440, 59457, 59508, 59594, 59654, 59720, 59793, 59843, 59861, 59896, 59899, 59927, 59986, 60266, 60344, 60354, 60372, 60381, 60405, 60408, 60467, 60498, 60534, 60638, 60796, 60924, 60940, 61016, 61044, 61064, 61104, 61124, 61134, 61240, 61370, 61516, 61614, 61631, 61663, 61691, 61708, 61762, 61851, 61904, 61997, 62071, 62205, 62252, 62285, 62307, 62396, 62693, 62723, 62725, 62736, 62844, 62845, 62847, 62889, 62958, 62965, 63052, 63079, 63137, 63263, 63280, 63288, 63328, 63370, 63388, 63439, 63446, 63486, 63575, 63643, 63685, 63728, 63784, 63858, 63859, 63876, 63943, 64023, 64095, 64109, 64148, 64168, 64170, 64235, 64243, 64261, 64270, 64327, 64332, 64339, 64347, 64386, 64494, 64507, 64525, 64549, 64618, 64708, 64735, 64748, 64785, 64797, 64810, 64895, 64916, 64985, 64997, 65001, 65053, 65082, 65211, 65221, 65223, 65357, 65393, 65425, 65444, 65455, 65469, 65490, 65551, 65631, 65825, 65865, 65875, 65876, 65980, 66150, 66218, 66249, 66267, 66315, 66391, 66393, 66409, 66436, 66446, 66473, 66598, 66656, 66685, 66759, 66776, 66817, 66833, 66877, 66915, 66933, 67026, 67037, 67046, 67051, 67135, 67175, 67379, 67461, 67490, 67508, 67578, 67684, 67735, 67905, 67998, 68066, 68188, 68260, 68300, 68318, 68375, 68408, 68415, 68454, 68467, 68473, 68515, 68649, 68711, 68725, 68791, 68800, 68910, 68927, 69047, 69053, 69113, 69205, 69295, 69317, 69347, 69375, 69392, 69394, 69523, 69636, 69647, 69658, 69659, 69685, 69765, 69838, 69924, 70010, 70034, 70036, 70078, 70079, 70124, 70150, 70173, 70201, 70417, 70450, 70641, 70707, 70735, 70769, 70823, 70845, 70889, 70899, 70957, 70980, 71020, 71180, 71245, 71411, 71441, 71502, 71539, 71563, 71607, 71635, 71643, 71672, 71706, 71739, 71766, 71815, 71864, 71882, 71968, 71979, 71995, 71998, 72043, 72136, 72221, 72231, 72259, 72297, 72517, 72678, 72748, 72831, 72881, 73002, 73013, 73080, 73116, 73252, 73300, 73399, 73584, 73605, 73827, 73890, 73900, 73951, 73959, 74024, 74057, 74083, 74088, 74132, 74157, 74179, 74189, 74205, 74225, 74307, 74324, 74327, 74386, 74391, 74449, 74482, 74488, 74606, 74663, 74744, 74786, 74822, 74845, 74884, 74886, 74911, 74956, 75029, 75030, 75041, 75050, 75079, 75108, 75124, 75158, 75191, 75329, 75469, 75506, 75514, 75659, 75666, 75675, 75694, 75714, 75755, 75796, 75818, 75846, 75923, 75987, 76021, 76038, 76208, 76264, 76276, 76318, 76359, 76384, 76391, 76400, 76406, 76450, 76531, 76539, 76774, 76906, 76909, 76923, 77025, 77204, 77228, 77339, 77479, 77540, 77604, 77613, 77618, 77702, 77874, 77885, 77906, 77909, 77931, 77940, 77985, 77991, 78092, 78096, 78116, 78119, 78133, 78205, 78296, 78363, 78413, 78494, 78560, 78628, 78666, 78708, 78849, 79185, 79196, 79208, 79360, 79392, 79552, 79679, 79715, 79776, 79848, 79978, 79982, 79989, 80018, 80088, 80103, 80118, 80150, 80180, 80235, 80237, 80296, 80315, 80362, 80377, 80387, 80450, 80454, 80462, 80483, 80502, 80509, 80579, 80584, 80600, 80609, 80654, 80720, 80723, 80725, 80759, 80777, 80790, 80869, 80953, 81044, 81098, 81152, 81196, 81257, 81277, 81325, 81354, 81394, 81455, 81474, 81533, 81678, 81902, 81963, 82022, 82053, 82066, 82118, 82122, 82127, 82156, 82160, 82263, 82381, 82400, 82586, 82635, 82738, 82867, 82884, 82913, 82921, 82924, 83028, 83049, 83144, 83157, 83246, 83264, 83296, 83428, 83437, 83448, 83484, 83570, 83608, 83623, 83661, 83759, 83801, 83848, 83879, 83921, 84008, 84057, 84081, 84136, 84267, 84330, 84407, 84409, 84426, 84439, 84543, 84544, 84566, 84601, 84651, 84674, 84816, 84844, 84894, 84919, 84931, 84957, 85003, 85110, 85125, 85133, 85139, 85145, 85161, 85178, 85201, 85240, 85259, 85260, 85273, 85347, 85356, 85430, 85435, 85442, 85447, 85586, 85810, 85829, 85909, 85914, 85951, 85989, 85994, 86121, 86290, 86305, 86348, 86445, 86458, 86520, 86523, 86538, 86580, 86609, 86610, 86656, 86666, 86745, 86798, 86819, 86875, 86975, 87012, 87033, 87080, 87146, 87161, 87208, 87268, 87285, 87339, 87372, 87401, 87522, 87620, 87633, 87646, 87788, 87912, 87939, 88023, 88097, 88169, 88189, 88387, 88409, 88439, 88640, 88678, 88689, 88751, 88756, 88764, 88777, 88919, 89119, 89158, 89189, 89211, 89212, 89374, 89407, 89440, 89468, 89538, 89592, 89652, 89668, 89746, 89753, 89789, 89818, 89826, 89875, 89892, 89911, 90045, 90058, 90061, 90088, 90101, 90124, 90131, 90186, 90342, 90402, 90466, 90469, 90575, 90821, 90925, 90943, 90957, 90962, 91056, 91057, 91220, 91273, 91444, 91510, 91525, 91591, 91626, 91719, 91784, 91792, 91860, 91980, 91992, 92017, 92071, 92296, 92313, 92364, 92423, 92486, 92548, 92580, 92590, 92696, 92790, 92797, 92807, 92822, 92849, 92913, 92946, 92955, 92970, 92999, 93081, 93098, 93118, 93133, 93188, 93236, 93551, 93608, 93640, 93778, 93892, 93948, 94011, 94098, 94104, 94124, 94179, 94205, 94210, 94230, 94264, 94272, 94287, 94306, 94309, 94375, 94466, 94498, 94530, 94535, 94540, 94567, 94590, 94614, 94734, 94749, 94853, 95003, 95059, 95081, 95107, 95127, 95134, 95167, 95240, 95286, 95353, 95402, 95556, 95589, 95687, 95721, 95724, 95779, 95892, 95980, 96087, 96221, 96245, 96246, 96249, 96343, 96359, 96386, 96580, 96741, 96768, 96777, 96852, 96857, 97015, 97030, 97079, 97085, 97096, 97142, 97255, 97296, 97309, 97325, 97362, 97382, 97484, 97498, 97548, 97620, 97637, 97748, 97781, 97851, 97897, 97991, 98006, 98055, 98057, 98115, 98125, 98141, 98147, 98152, 98156, 98193, 98262, 98270, 98322, 98362, 98395, 98462, 98480, 98494, 98550, 98551, 98582, 98630, 98682, 98912, 98963, 98969, 98976, 99039, 99140, 99248, 99288, 99318, 99319, 99327, 99336, 99423, 99688, 99689, 99717, 99748, 63, 74, 378, 462, 594, 662, 853, 1229, 1314, 1396, 1463, 1612, 1798, 1917, 1931, 2034, 2093, 2107, 2229, 2356, 2427, 2433, 2484, 2551, 2569, 2659, 2841, 3116, 3219, 3314, 3452, 3477, 3632, 3665, 3706, 3720, 3850, 3892, 4028, 4153, 4214, 4393, 4424, 4522, 4687, 4706, 4772, 4862, 4907, 4934, 5052, 5088, 5227, 5250, 5305, 5318, 5327, 5363, 5419, 5527, 5793, 5805, 5849, 6002, 6016, 6088, 6110, 6133, 6288, 6351, 6429, 6576, 6615, 6709, 6712, 6756, 6768, 7022, 7055, 7089, 7120, 7382, 7402, 7422, 7461, 7524, 7603, 7726, 7848, 8091, 8191, 8218, 8386, 8419, 8476, 8503, 8504, 8549, 8692, 8696, 8744, 8779, 8827, 8830, 8847, 9000, 9041, 9102, 9162, 9171, 9469, 9472, 9488, 9514, 9595, 9724, 9825, 10044, 10049, 10053, 10056, 10221, 10372, 10406, 10412, 10577, 11181, 11275, 11306, 11365, 11457, 11497, 11502, 11612, 11689, 11813, 11828, 11978, 11991, 12107, 12218, 12334, 12370, 12401, 12409, 12434, 12532, 12566, 12594, 12657, 12672, 12739, 12751, 12893, 12913, 13016, 13333, 13404, 13461, 13514, 13542, 13710, 13790, 13915, 14029, 14216, 14388, 14411, 14532, 14574, 14614, 14801, 14807, 14916, 15031, 15120, 15171, 15257, 15297, 15308, 15410, 15427, 15457, 15529, 15674, 15713, 15768, 15804, 16006, 16072, 16390, 16409, 16417, 16485, 16504, 16624, 16631, 16696, 17087, 17124, 17150, 17166, 17274, 17428, 17510, 17609, 17611, 17705, 17720, 17731, 17795, 17807, 17862, 17883, 18032, 18172, 18247, 18487, 18645, 18678, 18696, 18707, 19018, 19020, 19056, 19264, 19311, 19358, 19361, 19429, 19439, 19464, 19567, 19663, 19738, 19883, 19928, 19975, 20121, 20127, 20421, 20429, 20596, 20680, 20744, 20891, 20901, 20909, 21045, 21227, 21246, 21285, 21567, 21840, 21922, 21932, 22054, 22099, 22210, 22333, 22385, 22427, 22480, 22708, 22851, 22858, 23155, 23173, 23199, 23219, 23224, 23280, 23345, 23391, 23415, 23432, 23491, 23638, 23668, 23703, 23710, 23781, 23839, 23863, 23871, 24082, 24145, 24228, 24349, 24362, 24364, 24396, 24426, 24576, 24641, 24996, 25042, 25148, 25151, 25196, 25357, 25616, 25672, 25783, 25907, 25918, 25985, 26093, 26194, 26314, 26349, 26422, 26730, 26774, 26783, 26881, 26903, 27121, 27151, 27215, 27235, 27455, 27458, 27627, 27679, 27769, 27804, 27904, 27913, 27970, 27982, 28073, 28377, 28405, 28528, 28593, 28615, 28807, 28840, 28975, 29022, 29166, 29428, 29483, 29497, 29555, 29583, 29623, 29659, 29701, 29704, 29732, 29740, 29751, 29768, 29798, 29921, 30062, 30184, 30220, 30240, 30254, 30541, 30589, 30600, 30696, 30864, 30935, 31006, 31104, 31131, 31154, 31160, 31607, 31687, 31767, 31772, 31827, 31846, 31903, 31954, 32060, 32119, 32284, 32332, 32368, 32452, 32454, 32466, 32563, 32579, 32586, 32612, 32762, 32791, 33074, 33090, 33207, 33343, 33446, 33471, 33633, 33659, 33732, 33941, 33942, 33943, 33987, 34128, 34189, 34238, 34245, 34299, 34432, 34437, 34483, 34591, 34617, 34690, 34768, 34771, 34950, 35063, 35082, 35141, 35202, 35333, 35400, 35453, 35466, 35544, 35633, 35708, 35756, 35909, 35923, 36012, 36061, 36143, 36320, 36339, 36407, 36480, 36496, 36567, 36576, 36757, 36817, 37052, 37125, 37167, 37343, 37736, 38006, 38195, 38221, 38262, 38393, 38582, 38604, 38886, 38936, 38943, 39161, 39166, 39239, 39277, 39521, 39714, 39722, 39731, 39816, 39866, 39977, 40398, 40461, 40508, 40657, 40721, 40824, 40842, 40845, 40948, 41120, 41190, 41214, 41259, 41272, 41381, 41496, 41592, 41733, 41903, 41907, 42053, 42078, 42114, 42184, 42345, 42375, 42497, 42514, 42636, 42715, 42892, 42897, 42919, 42954, 43015, 43113, 43150, 43156, 43184, 43233, 43401, 43413, 43508, 43611, 43682, 43699, 43784, 43912, 43974, 44194, 44235, 44277, 44290, 44388, 44421, 44526, 44530, 44609, 44687, 44716, 44838, 44980, 45008, 45017, 45069, 45072, 45095, 45105, 45377, 45381, 45383, 45413, 45484, 45560, 45605, 45735, 45745, 45868, 45896, 45910, 46114, 46251, 46260, 46292, 46293, 46318, 46364, 46405, 46459, 46563, 46695, 46727, 46738, 46768, 46775, 46799, 46836, 46872, 47003, 47088, 47234, 47278, 47369, 47640, 47669, 47675, 47760, 47766, 48136, 48242, 48456, 48466, 48545, 48656, 48691, 48994, 49093, 49117, 49407, 49462, 49503, 49528, 49737, 49765, 49786, 49869, 49946, 49963, 49994, 50244, 50273, 50304, 50405, 50538, 50547, 50669, 50706, 50815, 50860, 51097, 51138, 51178, 51251, 51349, 51398, 51418, 51435, 51528, 51677, 51887, 51958, 52070, 52101, 52186, 52222, 52271, 52371, 52528, 52637, 52664, 52709, 52718, 52768, 52967, 52993, 53087, 53348, 53522, 53606, 53672, 53707, 53880, 53926, 53954, 54028, 54204, 54228, 54383, 54472, 54475, 54512, 54577, 54651, 54680, 54712, 54785, 54827, 54928, 55012, 55036, 55273, 55297, 55378, 55661, 55683, 55742, 55800, 55849, 55860, 55991, 56079, 56218, 56305, 56342, 56468, 56496, 56551, 56588, 56747, 56770, 56835, 56856, 56926, 56942, 57146, 57326, 57339, 57471, 57508, 57648, 57678, 57748, 57847, 57903, 57990, 58268, 58320, 58366, 58415, 58477, 58503, 58518, 58576, 58699, 58772, 58818, 59015, 59017, 59019, 59084, 59088, 59227, 59311, 59491, 59546, 59648, 59888, 60002, 60092, 60193, 60203, 60312, 60590, 60611, 60726, 60737, 60907, 60970, 61111, 61191, 61208, 61251, 61613, 61615, 61742, 61814, 61828, 61855, 61867, 61942, 62050, 62063, 62070, 62145, 62192, 62237, 62308, 62350, 62401, 62411, 62536, 62576, 62741, 62779, 62850, 62930, 62962, 62998, 63027, 63072, 63185, 63342, 63541, 63566, 63570, 63599, 63671, 63686, 64065, 64123, 64128, 64183, 64214, 64221, 64334, 64461, 64718, 64759, 64846, 64848, 65021, 65083, 65356, 65431, 65492, 65634, 65826, 65847, 65887, 65978, 66056, 66143, 66146, 66284, 66327, 66529, 66610, 66648, 66690, 66751, 66835, 66909, 67069, 67152, 67303, 67347, 67357, 67382, 67431, 67456, 67479, 67530, 67589, 67705, 67744, 67818, 67923, 68056, 68139, 68220, 68244, 68274, 68317, 68349, 68376, 68423, 68517, 68648, 68710, 68805, 68912, 68965, 69043, 69081, 69266, 69312, 69368, 69394, 69495, 69578, 69757, 69768, 69804, 69806, 69812, 70065, 70081, 70102, 70115, 70127, 70207, 70255, 70276, 70322, 70427, 70503, 70851, 70981, 71031, 71143, 71648, 71844, 71886, 71930, 71940, 72062, 72174, 72207, 72277, 72657, 72697, 72793, 72911, 73024, 73050, 73202, 73489, 73550, 73914, 74006, 74020, 74027, 74061, 74093, 74121, 74130, 74167, 74171, 74472, 74554, 74595, 74797, 75154, 75160, 75175, 75232, 75258, 75515, 75535, 75625, 75639, 75724, 75742, 75941, 76026, 76110, 76240, 76568, 76627, 76713, 76717, 76788, 76863, 76887, 76997, 77340, 77402, 77487, 77639, 77674, 77698, 77821, 77900, 78036, 78395, 78583, 78596, 78619, 78656, 78754, 78820, 78833, 78868, 78912, 78945, 78990, 79009, 79077, 79248, 79288, 79398, 79634, 79635, 79773, 79951, 80062, 80080, 80197, 80390, 80504, 80861, 80874, 80877, 80885, 80934, 81025, 81035, 81056, 81331, 81332, 81350, 81428, 81457, 81500, 81551, 81558, 81596, 81610, 81740, 81898, 81969, 82031, 82181, 82205, 82250, 82384, 82435, 82495, 82624, 82907, 82926, 82946, 83067, 83086, 83162, 83340, 83496, 83515, 83517, 83584, 83672, 83678, 83680, 83817, 84014, 84119, 84223, 84298, 84317, 84326, 84334, 84342, 84357, 84506, 84537, 84593, 84789, 84853, 84932, 85009, 85153, 85167, 85212, 85499, 85592, 85647, 86189, 86340, 86397, 86574, 86597, 86659, 86827, 87078, 87091, 87171, 87251, 87327, 87416, 87495, 87523, 87783, 87874, 87889, 87936, 88018, 88048, 88099, 88410, 88595, 88792, 88800, 88849, 88995, 89043, 89139, 89150, 89225, 89322, 89346, 89488, 89597, 89659, 89790, 90071, 90077, 90137, 90194, 90201, 90391, 90532, 90635, 90726, 90728, 90758, 90818, 90895, 90929, 90991, 91069, 91311, 91323, 91493, 91668, 91736, 91765, 91831, 91888, 92005, 92013, 92132, 92163, 92246, 92277, 92333, 92355, 92455, 92523, 92916, 92938, 93053, 93438, 93495, 93564, 93692, 93865, 93884, 93962, 94000, 94069, 94153, 94192, 94255, 94426, 94569, 94645, 95013, 95043, 95096, 95138, 95190, 95295, 95594, 95610, 95708, 95791, 95806, 95813, 95867, 95916, 96025, 96243, 96410, 96476, 96642, 96644, 96786, 96985, 97006, 97014, 97047, 97163, 97177, 97453, 97502, 97727, 97786, 97882, 97904, 97959, 98051, 98401, 98431, 98441, 98492, 98603, 98754, 98835, 98904, 98942, 99133, 99240, 99298, 99321, 99323, 99413, 99441, 99464, 99484, 99515, 99527, 99536, 99691, 99758, 594, 1897, 2526, 3266, 3426, 3720, 3850, 3892, 4772, 7402, 8977, 10523, 12566, 12751, 12984, 14025, 15804, 23432, 25918, 26556, 27093, 27982, 30541, 30974, 32586, 39239, 41592, 41807, 44724, 45581, 46049, 46695, 47278, 49768, 49869, 53519, 56926, 59564, 61111, 62631, 62741, 64461, 65471, 67597, 68349, 68520, 68645, 71143, 71648, 71930, 75267, 77769, 80934, 82302, 83390, 84438, 84789, 84932, 88416, 89902, 90988, 94508, 98634, 99464, 99515, 180, 369, 777, 947, 966, 1063, 1070, 1613, 1938, 1994, 2110, 2154, 2432, 2491, 2769, 3011, 3042, 3164, 3193, 3641, 4408, 4916, 4946, 4970, 5228, 5256, 5294, 5488, 5607, 5786, 5906, 5976, 6046, 6485, 6880, 6907, 6983, 7076, 7115, 7427, 7574, 7728, 7785, 7925, 8095, 8167, 8207, 8414, 8465, 8514, 8572, 8687, 8887, 9195, 9339, 9343, 9714, 10339, 10349, 10869, 10997, 11407, 11455, 12086, 12135, 12306, 12417, 12421, 12486, 12569, 12667, 12998, 13109, 13239, 13394, 13477, 13854, 14031, 14332, 14505, 15229, 15305, 15610, 15672, 15946, 16260, 16287, 16386, 16560, 17234, 17736, 17751, 17839, 17880, 18189, 18252, 18264, 18269, 18480, 18799, 18936, 19047, 19072, 19097, 19152, 19348, 19360, 19381, 19501, 19592, 19823, 19900, 19983, 21218, 21330, 21413, 21797, 21834, 21835, 22068, 22849, 22899, 23259, 23312, 23390, 23410, 23674, 24026, 24267, 24289, 24406, 24724, 25107, 25189, 25287, 25347, 25394, 25529, 25849, 25895, 26006, 26025, 26111, 26172, 27066, 27188, 27211, 27297, 27562, 27645, 27887, 27902, 28363, 28416, 28633, 28739, 29585, 29652, 29846, 29957, 30657, 30844, 30964, 31598, 31803, 31879, 31960, 32146, 32661, 32931, 33102, 33554, 33560, 33614, 33871, 34038, 34341, 34993, 35132, 35203, 35236, 35350, 35622, 35748, 35788, 35835, 36139, 36178, 36737, 36797, 36932, 36933, 37211, 37456, 37830, 37943, 38118, 38241, 38249, 38509, 38745, 39301, 39473, 39650, 39841, 40098, 40138, 40403, 40478, 40732, 40881, 40917, 41322, 41618, 41728, 41898, 42402, 42538, 42571, 42629, 42683, 42703, 42862, 43026, 43064, 43272, 43390, 43458, 43547, 43723, 43871, 44002, 44458, 45141, 45255, 45318, 45693, 45698, 45724, 46078, 46237, 46572, 46769, 46990, 47023, 47071, 47081, 47117, 47253, 47690, 47819, 47823, 47828, 47854, 48006, 48257, 48388, 48450, 48562, 48640, 48845, 49067, 49388, 49585, 49918, 49983, 50523, 50642, 50771, 51141, 51171, 51218, 51247, 51588, 51602, 51734, 51752, 51978, 52042, 52461, 52780, 52832, 52898, 52992, 53149, 53168, 53287, 53327, 53532, 53614, 53708, 53842, 54086, 54691, 54760, 54964, 55132, 55268, 55352, 55540, 55903, 56002, 56373, 56392, 56676, 56909, 57160, 57739, 57860, 57947, 58013, 58497, 58533, 58547, 58563, 58714, 58755, 59022, 59073, 59187, 59234, 59274, 59306, 59364, 59425, 59508, 59720, 59793, 59861, 59896, 59986, 60381, 60498, 60534, 60796, 61516, 61614, 61691, 61708, 62723, 62845, 62965, 63079, 63280, 63446, 63575, 63643, 63685, 63859, 63876, 64095, 64270, 64332, 64347, 64386, 64494, 64525, 64549, 64708, 64785, 64895, 64916, 64985, 64997, 65001, 65053, 65357, 65444, 65469, 65631, 65825, 65875, 66218, 66409, 66933, 67135, 67175, 67379, 67735, 68188, 68318, 68515, 68711, 68800, 68910, 69053, 69113, 69295, 69392, 69658, 69685, 70010, 70201, 70769, 70823, 70957, 71180, 71539, 71739, 71766, 71864, 71998, 72517, 72678, 73080, 73300, 73584, 73959, 74088, 74132, 74179, 74205, 74744, 74786, 74911, 75506, 75694, 75796, 75846, 75987, 76021, 76208, 76384, 76450, 76539, 76906, 77613, 77618, 77874, 77885, 77906, 77909, 78116, 78494, 78560, 78666, 78708, 79196, 79208, 79392, 79552, 79989, 80118, 80150, 80180, 80235, 80237, 80377, 80509, 80579, 81044, 81196, 81257, 81325, 81455, 82160, 82381, 82635, 83296, 83570, 83608, 83661, 84081, 84330, 84407, 84543, 84601, 84651, 84919, 84931, 85003, 85161, 85347, 85951, 86305, 86520, 86538, 86666, 86798, 86975, 87146, 87208, 87788, 87939, 88097, 88387, 88689, 88764, 89211, 89212, 89538, 90088, 90124, 90466, 90943, 91056, 91220, 91626, 91792, 91860, 92486, 92999, 93098, 93118, 93236, 93608, 93778, 94011, 94179, 94210, 94306, 94466, 94498, 94540, 94614, 95134, 95240, 95589, 95687, 95721, 95724, 96087, 96245, 96359, 96580, 96741, 96777, 97096, 97309, 97637, 97781, 97851, 98055, 98156, 98322, 98494, 98630, 98682, 98912, 98963, 99039, 99288, 99336, 99423, 99688, 99689, 99748, 24, 77, 96, 157, 238, 248, 300, 312, 363, 403, 444, 480, 483, 484, 529, 534, 575, 589, 603, 721, 777, 789, 897, 931, 964, 969, 1002, 1005, 1039, 1219, 1384, 1386, 1422, 1509, 1563, 1610, 1623, 1681, 1729, 1743, 1821, 1886, 1891, 2005, 2099, 2106, 2137, 2226, 2335, 2344, 2351, 2438, 2446, 2483, 2714, 2737, 2749, 2753, 2769, 2772, 2884, 2902, 2949, 2967, 2982, 2993, 3039, 3110, 3166, 3309, 3374, 3383, 3451, 3480, 3545, 3568, 3596, 3635, 3703, 3713, 3720, 3772, 3784, 3795, 3930, 3988, 4152, 4156, 4187, 4352, 4356, 4391, 4408, 4419, 4467, 4506, 4555, 4615, 4616, 4623, 4646, 4649, 4713, 4769, 4771, 4889, 4920, 5028, 5050, 5082, 5104, 5106, 5153, 5256, 5296, 5314, 5453, 5458, 5508, 5563, 5576, 5598, 5606, 5733, 5790, 5793, 5802, 5811, 5833, 5867, 5884, 5900, 5906, 5951, 6023, 6037, 6045, 6050, 6165, 6234, 6286, 6313, 6364, 6402, 6409, 6427, 6431, 6455, 6638, 6722, 6724, 6738, 6742, 6797, 6819, 6825, 6875, 6960, 6975, 7040, 7047, 7110, 7115, 7174, 7186, 7230, 7235, 7295, 7340, 7364, 7439, 7528, 7636, 7814, 7828, 7966, 8095, 8141, 8176, 8187, 8196, 8202, 8207, 8226, 8232, 8248, 8339, 8436, 8465, 8518, 8648, 8864, 8867, 8877, 8898, 8967, 9026, 9047, 9074, 9117, 9182, 9229, 9348, 9465, 9495, 9507, 9654, 9690, 9812, 9908, 10028, 10054, 10142, 10185, 10205, 10233, 10243, 10300, 10637, 10639, 10684, 10806, 10842, 10865, 10869, 11068, 11090, 11183, 11217, 11224, 11279, 11280, 11298, 11401, 11407, 11432, 11510, 11525, 11551, 11563, 11588, 11693, 11768, 11785, 11853, 11970, 12001, 12110, 12153, 12222, 12318, 12373, 12384, 12454, 12525, 12526, 12576, 12606, 12713, 12741, 12751, 12808, 12833, 12970, 12972, 12986, 13007, 13131, 13192, 13197, 13219, 13282, 13331, 13442, 13510, 13532, 13558, 13757, 13764, 13783, 13897, 13988, 14048, 14109, 14149, 14169, 14244, 14253, 14309, 14395, 14545, 14570, 14652, 14833, 14854, 14869, 14906, 15068, 15227, 15289, 15305, 15328, 15385, 15393, 15395, 15561, 15581, 15638, 15652, 15746, 15803, 15927, 15936, 15959, 16034, 16066, 16070, 16088, 16115, 16122, 16214, 16295, 16303, 16343, 16358, 16383, 16429, 16587, 16635, 16681, 16688, 16796, 16843, 16846, 16861, 17000, 17223, 17338, 17384, 17451, 17456, 17473, 17512, 17534, 17536, 17549, 17637, 17693, 17750, 17800, 17843, 17844, 18049, 18108, 18195, 18379, 18411, 18468, 18478, 18593, 18667, 18749, 18776, 18789, 18799, 18856, 18876, 18901, 18945, 18950, 18978, 18986, 19126, 19152, 19181, 19194, 19288, 19415, 19467, 19496, 19501, 19536, 19561, 19877, 19897, 19976, 20201, 20243, 20298, 20548, 20576, 20620, 20643, 20647, 20748, 20772, 20773, 20811, 20823, 20864, 20896, 20914, 20934, 20961, 21001, 21030, 21169, 21228, 21254, 21290, 21308, 21340, 21469, 21517, 21545, 21654, 21785, 21835, 21893, 21992, 22142, 22173, 22187, 22210, 22344, 22372, 22401, 22425, 22435, 22490, 22507, 22521, 22541, 22620, 22649, 22677, 22789, 22943, 23224, 23238, 23268, 23285, 23312, 23313, 23329, 23340, 23368, 23475, 23502, 23549, 23580, 23623, 23627, 23699, 23745, 23769, 23810, 23825, 23854, 24033, 24040, 24145, 24184, 24210, 24228, 24334, 24346, 24358, 24367, 24379, 24390, 24534, 24543, 24588, 24602, 24664, 24752, 24794, 24806, 24861, 24884, 25065, 25085, 25136, 25137, 25145, 25200, 25376, 25377, 25391, 25396, 25416, 25442, 25542, 25653, 25695, 25752, 25927, 26006, 26054, 26135, 26196, 26252, 26255, 26567, 26786, 26807, 26849, 26858, 26927, 26929, 26993, 27069, 27090, 27129, 27135, 27138, 27173, 27376, 27405, 27454, 27459, 27516, 27520, 27541, 27622, 27669, 27740, 27749, 27813, 27935, 27945, 27975, 28099, 28104, 28122, 28165, 28170, 28351, 28426, 28485, 28632, 28647, 28697, 28722, 28831, 28856, 28897, 28901, 28967, 29002, 29039, 29048, 29375, 29428, 29487, 29501, 29524, 29549, 29584, 29617, 29688, 29697, 29808, 29816, 29861, 29937, 29965, 30064, 30065, 30111, 30146, 30170, 30222, 30438, 30507, 30550, 30590, 30618, 30677, 30708, 30750, 30790, 30858, 30871, 30897, 30923, 30937, 30968, 31013, 31113, 31133, 31217, 31231, 31236, 31383, 31434, 31528, 31553, 31623, 31654, 31671, 31760, 31841, 31882, 31921, 31932, 31952, 31971, 32112, 32118, 32193, 32204, 32222, 32238, 32489, 32503, 32588, 32611, 32618, 32647, 32650, 32654, 32656, 32663, 32692, 32724, 32786, 32838, 32861, 32862, 32982, 33007, 33053, 33155, 33236, 33274, 33297, 33304, 33310, 33330, 33367, 33401, 33406, 33422, 33424, 33431, 33443, 33459, 33491, 33526, 33553, 33563, 33595, 33611, 33765, 33853, 33894, 33920, 33972, 34015, 34039, 34050, 34074, 34078, 34108, 34148, 34192, 34381, 34445, 34486, 34497, 34503, 34620, 34662, 34751, 34765, 34816, 34861, 34892, 34936, 35107, 35118, 35167, 35190, 35211, 35213, 35217, 35221, 35272, 35290, 35318, 35483, 35506, 35554, 35630, 35729, 35742, 35803, 35899, 35985, 35987, 35999, 36113, 36179, 36270, 36396, 36402, 36422, 36448, 36490, 36530, 36553, 36570, 36611, 36704, 36726, 36735, 36767, 36812, 37004, 37063, 37156, 37167, 37180, 37223, 37295, 37328, 37333, 37378, 37381, 37383, 37409, 37411, 37449, 37502, 37508, 37534, 37543, 37557, 37565, 37597, 37681, 37691, 37934, 37938, 37943, 37945, 37986, 38044, 38258, 38381, 38399, 38457, 38511, 38518, 38573, 38731, 38831, 39216, 39359, 39365, 39601, 39671, 39713, 39735, 39752, 39898, 39906, 40057, 40112, 40300, 40416, 40458, 40626, 40754, 40793, 40827, 40858, 41022, 41033, 41054, 41106, 41147, 41160, 41294, 41329, 41376, 41402, 41413, 41440, 41468, 41554, 41596, 41608, 41671, 41715, 41729, 41755, 41788, 41798, 41848, 41858, 41880, 41900, 41906, 41974, 41976, 42021, 42050, 42058, 42061, 42117, 42190, 42206, 42216, 42248, 42309, 42341, 42359, 42625, 42681, 42773, 42958, 42997, 43031, 43036, 43102, 43128, 43204, 43254, 43305, 43318, 43364, 43384, 43428, 43435, 43481, 43547, 43558, 43693, 43723, 43802, 43817, 43839, 43857, 43936, 43983, 44105, 44267, 44445, 44594, 44751, 44791, 44813, 45035, 45274, 45342, 45366, 45410, 45428, 45471, 45480, 45527, 45537, 45560, 45643, 45821, 45907, 45966, 46023, 46031, 46058, 46157, 46159, 46182, 46198, 46301, 46311, 46326, 46370, 46379, 46382, 46437, 46527, 46579, 46604, 46844, 46958, 46966, 46973, 46990, 47023, 47075, 47167, 47278, 47305, 47331, 47356, 47358, 47360, 47375, 47464, 47576, 47666, 47853, 47858, 47899, 47929, 47960, 48181, 48186, 48287, 48295, 48297, 48301, 48308, 48385, 48461, 48514, 48528, 48532, 48542, 48629, 48690, 48776, 48825, 48933, 48999, 49048, 49101, 49103, 49112, 49130, 49222, 49355, 49366, 49371, 49377, 49497, 49509, 49539, 49583, 49608, 49632, 49650, 49705, 49771, 49788, 49810, 49827, 49835, 49882, 49887, 50004, 50008, 50059, 50145, 50153, 50167, 50168, 50182, 50270, 50304, 50403, 50435, 50490, 50587, 50657, 50673, 50676, 50776, 50791, 50798, 50809, 50820, 50912, 51032, 51196, 51225, 51351, 51383, 51450, 51657, 51713, 51733, 51855, 51873, 51949, 51978, 52104, 52120, 52215, 52291, 52310, 52388, 52424, 52449, 52507, 52621, 52690, 52713, 52809, 52828, 52848, 53006, 53026, 53225, 53254, 53274, 53406, 53502, 53513, 53660, 53763, 53840, 53888, 53906, 53936, 53942, 54016, 54075, 54080, 54091, 54179, 54228, 54298, 54333, 54371, 54405, 54415, 54440, 54573, 54600, 54643, 54661, 54743, 54775, 54805, 54807, 54826, 54964, 55014, 55079, 55086, 55184, 55233, 55244, 55262, 55268, 55368, 55424, 55447, 55458, 55511, 55521, 55715, 55746, 55833, 55885, 55959, 55984, 55995, 56051, 56176, 56184, 56229, 56313, 56370, 56380, 56386, 56540, 56642, 56670, 56722, 56764, 56790, 56828, 56861, 56903, 57083, 57148, 57165, 57242, 57329, 57348, 57448, 57506, 57650, 57731, 57793, 58056, 58119, 58190, 58274, 58293, 58336, 58387, 58547, 58576, 58668, 58727, 58754, 58795, 58852, 59018, 59167, 59172, 59191, 59280, 59391, 59440, 59594, 59652, 59654, 59672, 59843, 59899, 59927, 59931, 59991, 60002, 60036, 60132, 60222, 60254, 60266, 60344, 60384, 60408, 60467, 60638, 60668, 60924, 60940, 61016, 61055, 61064, 61080, 61104, 61111, 61134, 61240, 61293, 61314, 61343, 61369, 61370, 61614, 61640, 61642, 61663, 61697, 61762, 61808, 61904, 61997, 62071, 62145, 62252, 62291, 62396, 62426, 62559, 62632, 62685, 62725, 62736, 62738, 62783, 62804, 62811, 62844, 62847, 62887, 62889, 62958, 63027, 63082, 63219, 63263, 63370, 63388, 63442, 63486, 63494, 63566, 63592, 63695, 63737, 63784, 63858, 63876, 63943, 64010, 64014, 64023, 64109, 64148, 64168, 64235, 64261, 64339, 64354, 64507, 64510, 64618, 64688, 64742, 64760, 64797, 64810, 64825, 64853, 64939, 65001, 65020, 65096, 65211, 65221, 65266, 65267, 65328, 65366, 65393, 65397, 65425, 65430, 65455, 65462, 65469, 65490, 65551, 65557, 65663, 65825, 65876, 65980, 65989, 66040, 66150, 66249, 66267, 66384, 66391, 66436, 66598, 66634, 66685, 66759, 66776, 66825, 66847, 66867, 66877, 66915, 67015, 67026, 67037, 67046, 67051, 67232, 67395, 67468, 67490, 67536, 67578, 67686, 67702, 67836, 67905, 68066, 68122, 68160, 68260, 68352, 68375, 68408, 68415, 68454, 68467, 68473, 68489, 68649, 68671, 68690, 68697, 68725, 68791, 68927, 69103, 69157, 69295, 69336, 69347, 69392, 69394, 69523, 69636, 69659, 69765, 69828, 69830, 69838, 69878, 70079, 70150, 70203, 70245, 70322, 70417, 70427, 70442, 70450, 70641, 70678, 70709, 70718, 70719, 70735, 70748, 70769, 70845, 70889, 70896, 70980, 70981, 70984, 70994, 70996, 71020, 71053, 71096, 71226, 71235, 71245, 71411, 71426, 71441, 71442, 71450, 71507, 71607, 71635, 71643, 71672, 71674, 71706, 71806, 71815, 71882, 72119, 72136, 72231, 72297, 72529, 72580, 72678, 72806, 72823, 72831, 72900, 72918, 72939, 72987, 73002, 73013, 73029, 73030, 73080, 73124, 73252, 73299, 73300, 73399, 73456, 73605, 73827, 73890, 73907, 73951, 73975, 74024, 74057, 74063, 74083, 74189, 74225, 74307, 74324, 74327, 74354, 74386, 74391, 74394, 74400, 74418, 74449, 74482, 74488, 74543, 74606, 74663, 74822, 74884, 74886, 74956, 75006, 75041, 75050, 75124, 75158, 75191, 75272, 75643, 75659, 75666, 75675, 75706, 75714, 75728, 75755, 75804, 75818, 75819, 75842, 75846, 76038, 76060, 76102, 76103, 76233, 76239, 76318, 76346, 76359, 76391, 76400, 76406, 76440, 76531, 76699, 76774, 76855, 76898, 76901, 76909, 76923, 76977, 77070, 77167, 77224, 77228, 77326, 77339, 77465, 77474, 77540, 77549, 77604, 77607, 77627, 77697, 77703, 77707, 77747, 77885, 77940, 77953, 77985, 77991, 78022, 78092, 78116, 78119, 78133, 78173, 78205, 78296, 78363, 78374, 78413, 78638, 78801, 78849, 78863, 79048, 79101, 79133, 79208, 79290, 79360, 79547, 79592, 79617, 79776, 79978, 79980, 79982, 80018, 80076, 80088, 80103, 80150, 80211, 80214, 80294, 80296, 80315, 80330, 80362, 80445, 80450, 80454, 80502, 80511, 80567, 80592, 80600, 80607, 80609, 80679, 80720, 80763, 80782, 80790, 80808, 80953, 81030, 81125, 81146, 81152, 81277, 81282, 81354, 81389, 81394, 81502, 81524, 81678, 81703, 81719, 81841, 81875, 81902, 81936, 81963, 81987, 81988, 82053, 82061, 82066, 82097, 82118, 82122, 82127, 82156, 82160, 82203, 82215, 82217, 82263, 82400, 82405, 82428, 82530, 82586, 82741, 82867, 82913, 82921, 82924, 82955, 83049, 83103, 83157, 83169, 83199, 83234, 83235, 83246, 83428, 83448, 83484, 83525, 83658, 83759, 83879, 83928, 83992, 84057, 84136, 84267, 84312, 84383, 84404, 84409, 84426, 84566, 84651, 84675, 84747, 84769, 84792, 84816, 84894, 84896, 84898, 84957, 84970, 85010, 85024, 85110, 85125, 85133, 85138, 85139, 85145, 85201, 85212, 85243, 85257, 85260, 85273, 85354, 85356, 85388, 85435, 85442, 85447, 85486, 85586, 85641, 85698, 85819, 85863, 85869, 85910, 85914, 85935, 85938, 85994, 86069, 86290, 86316, 86348, 86436, 86438, 86445, 86458, 86509, 86523, 86609, 86610, 86690, 86819, 86875, 86974, 86985, 87080, 87167, 87171, 87268, 87270, 87339, 87372, 87401, 87522, 87574, 87575, 87646, 87668, 87768, 87862, 87884, 87912, 87939, 87988, 88023, 88048, 88110, 88125, 88169, 88255, 88263, 88409, 88439, 88526, 88550, 88640, 88678, 88711, 88751, 88777, 88878, 88919, 88927, 88965, 89009, 89106, 89112, 89122, 89189, 89359, 89407, 89425, 89440, 89468, 89592, 89610, 89623, 89665, 89668, 89689, 89753, 89818, 89826, 89875, 89892, 89946, 89952, 89971, 89988, 90045, 90061, 90087, 90101, 90131, 90186, 90342, 90415, 90469, 90575, 90682, 90821, 90834, 90923, 90957, 90959, 90962, 91035, 91057, 91097, 91132, 91273, 91326, 91385, 91416, 91444, 91446, 91525, 91591, 91719, 91784, 91794, 91803, 91936, 91951, 91980, 91982, 92004, 92017, 92208, 92227, 92274, 92296, 92486, 92498, 92548, 92571, 92576, 92590, 92662, 92696, 92749, 92790, 92797, 92807, 92849, 92913, 92946, 92955, 92970, 93081, 93133, 93154, 93188, 93231, 93406, 93549, 93554, 93640, 93665, 93685, 93725, 93821, 93841, 93880, 94035, 94098, 94124, 94136, 94140, 94179, 94188, 94197, 94198, 94205, 94209, 94210, 94230, 94264, 94309, 94323, 94375, 94399, 94513, 94530, 94567, 94590, 94734, 94749, 94853, 94910, 94982, 95003, 95004, 95059, 95107, 95127, 95167, 95205, 95222, 95286, 95353, 95398, 95490, 95499, 95527, 95542, 95556, 95576, 95622, 95721, 95779, 95793, 95892, 95903, 95981, 96208, 96212, 96221, 96249, 96289, 96325, 96343, 96416, 96424, 96445, 96500, 96538, 96698, 96740, 96852, 96857, 96941, 96975, 96990, 97015, 97021, 97055, 97072, 97079, 97085, 97237, 97255, 97296, 97325, 97362, 97382, 97428, 97429, 97441, 97482, 97488, 97498, 97620, 97897, 97908, 97991, 98057, 98079, 98089, 98115, 98125, 98141, 98147, 98174, 98193, 98262, 98270, 98282, 98338, 98395, 98462, 98477, 98480, 98499, 98514, 98550, 98582, 98665, 98878, 98969, 98976, 99047, 99057, 99140, 99166, 99175, 99204, 99248, 99318, 99319, 99354, 99423, 99440, 99702]\n"
     ]
    }
   ],
   "source": [
    "out=[]\n",
    "for i in X_con.columns:\n",
    "    ol=X_con[(X_con[i]>3)|(X_con[i]<-3)].index\n",
    "    out.extend(ol)\n",
    "print(out)"
   ]
  },
  {
   "cell_type": "code",
   "execution_count": 47,
   "id": "00306618-6334-45d3-b7b1-8f48c049dca5",
   "metadata": {},
   "outputs": [
    {
     "name": "stdout",
     "output_type": "stream",
     "text": [
      "11745\n"
     ]
    }
   ],
   "source": [
    "outlier=list(set(out))\n",
    "print(len(outlier))"
   ]
  },
  {
   "cell_type": "code",
   "execution_count": 48,
   "id": "f7d931bc-b87e-4d9b-b2bc-7d6e883eb898",
   "metadata": {},
   "outputs": [],
   "source": [
    "X_con=X_con.drop(index=outlier,axis=0)\n",
    "Xcat=Xcat.drop(index=outlier,axis=0)\n",
    "Y=Y.drop(index=outlier,axis=0)"
   ]
  },
  {
   "cell_type": "code",
   "execution_count": 49,
   "id": "1e33b836-8cf5-413d-8cc0-3c189cd57d37",
   "metadata": {},
   "outputs": [
    {
     "name": "stdout",
     "output_type": "stream",
     "text": [
      "(88049, 12)\n",
      "(88049, 3)\n",
      "(88049, 1)\n"
     ]
    }
   ],
   "source": [
    "print(X_con.shape)\n",
    "print(Xcat.shape)\n",
    "print(Y.shape)"
   ]
  },
  {
   "cell_type": "code",
   "execution_count": 50,
   "id": "8abd7e96-c491-4e1d-bfb5-5e1114a37163",
   "metadata": {},
   "outputs": [],
   "source": [
    "X_con.index=range(0,X_con.shape[0])\n",
    "Xcat.index=range(0,Xcat.shape[0])\n",
    "Y.index=range(0,Y.shape[0])"
   ]
  },
  {
   "cell_type": "code",
   "execution_count": 51,
   "id": "06e6c538-fab1-46e3-866e-b59a37fa802a",
   "metadata": {},
   "outputs": [
    {
     "name": "stdout",
     "output_type": "stream",
     "text": [
      "(88049, 12)\n",
      "(88049, 3)\n",
      "(88049, 1)\n"
     ]
    }
   ],
   "source": [
    "print(X_con.shape)\n",
    "print(Xcat.shape)\n",
    "print(Y.shape)"
   ]
  },
  {
   "cell_type": "code",
   "execution_count": 52,
   "id": "0595f1ef-9db7-475d-bdbd-c62943179e71",
   "metadata": {},
   "outputs": [
    {
     "data": {
      "text/plain": [
       "loan_status\n",
       "0    71337\n",
       "1    16712\n",
       "Name: count, dtype: int64"
      ]
     },
     "execution_count": 52,
     "metadata": {},
     "output_type": "execute_result"
    }
   ],
   "source": [
    "Y.loan_status.value_counts()"
   ]
  },
  {
   "cell_type": "code",
   "execution_count": 53,
   "id": "f94571be-0e7a-4ae1-ba9c-f74f27752738",
   "metadata": {},
   "outputs": [],
   "source": [
    "for i in Xcat.columns:\n",
    "    Xcat[i]=le.fit_transform(Xcat[i])"
   ]
  },
  {
   "cell_type": "code",
   "execution_count": 54,
   "id": "a8e5c397-4918-48d5-a1a1-1e2bdb2a5e8e",
   "metadata": {},
   "outputs": [
    {
     "name": "stdout",
     "output_type": "stream",
     "text": [
      "<class 'pandas.core.frame.DataFrame'>\n",
      "RangeIndex: 88049 entries, 0 to 88048\n",
      "Data columns (total 3 columns):\n",
      " #   Column          Non-Null Count  Dtype\n",
      "---  ------          --------------  -----\n",
      " 0   term            88049 non-null  int32\n",
      " 1   home_ownership  88049 non-null  int32\n",
      " 2   purpose         88049 non-null  int32\n",
      "dtypes: int32(3)\n",
      "memory usage: 1.0 MB\n"
     ]
    }
   ],
   "source": [
    "Xcat.info()"
   ]
  },
  {
   "cell_type": "code",
   "execution_count": 55,
   "id": "3d1ddf2c-d83b-4b0e-9c77-7abc5d037b1b",
   "metadata": {},
   "outputs": [
    {
     "name": "stdout",
     "output_type": "stream",
     "text": [
      "<class 'pandas.core.frame.DataFrame'>\n",
      "RangeIndex: 88049 entries, 0 to 88048\n",
      "Data columns (total 12 columns):\n",
      " #   Column                     Non-Null Count  Dtype  \n",
      "---  ------                     --------------  -----  \n",
      " 0   current_loan_amount        88049 non-null  float64\n",
      " 1   credit_score               88049 non-null  float64\n",
      " 2   annual_income              88049 non-null  float64\n",
      " 3   years_in_current_job       88049 non-null  float64\n",
      " 4   monthly_debt               88049 non-null  float64\n",
      " 5   years_of_credit_history    88049 non-null  float64\n",
      " 6   number_of_open_accounts    88049 non-null  float64\n",
      " 7   number_of_credit_problems  88049 non-null  float64\n",
      " 8   current_credit_balance     88049 non-null  float64\n",
      " 9   maximum_open_credit        88049 non-null  float64\n",
      " 10  bankruptcies               88049 non-null  float64\n",
      " 11  tax_liens                  88049 non-null  float64\n",
      "dtypes: float64(12)\n",
      "memory usage: 8.1 MB\n"
     ]
    }
   ],
   "source": [
    "X_con.info()"
   ]
  },
  {
   "cell_type": "code",
   "execution_count": 56,
   "id": "5699c0f4-86ea-4a23-8b77-48e3990b9aec",
   "metadata": {},
   "outputs": [
    {
     "data": {
      "text/html": [
       "<div>\n",
       "<style scoped>\n",
       "    .dataframe tbody tr th:only-of-type {\n",
       "        vertical-align: middle;\n",
       "    }\n",
       "\n",
       "    .dataframe tbody tr th {\n",
       "        vertical-align: top;\n",
       "    }\n",
       "\n",
       "    .dataframe thead th {\n",
       "        text-align: right;\n",
       "    }\n",
       "</style>\n",
       "<table border=\"1\" class=\"dataframe\">\n",
       "  <thead>\n",
       "    <tr style=\"text-align: right;\">\n",
       "      <th></th>\n",
       "      <th>current_loan_amount</th>\n",
       "      <th>credit_score</th>\n",
       "      <th>annual_income</th>\n",
       "      <th>years_in_current_job</th>\n",
       "      <th>monthly_debt</th>\n",
       "      <th>years_of_credit_history</th>\n",
       "      <th>number_of_open_accounts</th>\n",
       "      <th>number_of_credit_problems</th>\n",
       "      <th>current_credit_balance</th>\n",
       "      <th>maximum_open_credit</th>\n",
       "      <th>bankruptcies</th>\n",
       "      <th>tax_liens</th>\n",
       "      <th>term</th>\n",
       "      <th>home_ownership</th>\n",
       "      <th>purpose</th>\n",
       "    </tr>\n",
       "  </thead>\n",
       "  <tbody>\n",
       "    <tr>\n",
       "      <th>0</th>\n",
       "      <td>-0.355946</td>\n",
       "      <td>-0.276946</td>\n",
       "      <td>-0.216928</td>\n",
       "      <td>0.591078</td>\n",
       "      <td>-1.090284</td>\n",
       "      <td>-0.141648</td>\n",
       "      <td>-1.024600</td>\n",
       "      <td>1.72107</td>\n",
       "      <td>-0.176752</td>\n",
       "      <td>-0.040815</td>\n",
       "      <td>2.510513</td>\n",
       "      <td>-0.113649</td>\n",
       "      <td>1</td>\n",
       "      <td>1</td>\n",
       "      <td>5</td>\n",
       "    </tr>\n",
       "    <tr>\n",
       "      <th>1</th>\n",
       "      <td>2.776702</td>\n",
       "      <td>-0.252818</td>\n",
       "      <td>0.878235</td>\n",
       "      <td>0.591078</td>\n",
       "      <td>0.880222</td>\n",
       "      <td>-0.469506</td>\n",
       "      <td>1.371700</td>\n",
       "      <td>1.72107</td>\n",
       "      <td>0.008870</td>\n",
       "      <td>-0.000891</td>\n",
       "      <td>-0.335043</td>\n",
       "      <td>-0.113649</td>\n",
       "      <td>1</td>\n",
       "      <td>2</td>\n",
       "      <td>3</td>\n",
       "    </tr>\n",
       "    <tr>\n",
       "      <th>2</th>\n",
       "      <td>-0.359022</td>\n",
       "      <td>-0.267898</td>\n",
       "      <td>-0.587893</td>\n",
       "      <td>-0.842971</td>\n",
       "      <td>-0.800517</td>\n",
       "      <td>-0.882893</td>\n",
       "      <td>-0.425525</td>\n",
       "      <td>-0.34896</td>\n",
       "      <td>-0.101927</td>\n",
       "      <td>-0.044382</td>\n",
       "      <td>-0.335043</td>\n",
       "      <td>-0.113649</td>\n",
       "      <td>0</td>\n",
       "      <td>2</td>\n",
       "      <td>3</td>\n",
       "    </tr>\n",
       "    <tr>\n",
       "      <th>3</th>\n",
       "      <td>-0.364417</td>\n",
       "      <td>0.000110</td>\n",
       "      <td>-0.000052</td>\n",
       "      <td>-0.269351</td>\n",
       "      <td>0.176923</td>\n",
       "      <td>-1.723921</td>\n",
       "      <td>0.772625</td>\n",
       "      <td>-0.34896</td>\n",
       "      <td>-0.109556</td>\n",
       "      <td>-0.039566</td>\n",
       "      <td>-0.335043</td>\n",
       "      <td>-0.113649</td>\n",
       "      <td>1</td>\n",
       "      <td>3</td>\n",
       "      <td>3</td>\n",
       "    </tr>\n",
       "    <tr>\n",
       "      <th>4</th>\n",
       "      <td>-0.363113</td>\n",
       "      <td>-0.261112</td>\n",
       "      <td>-0.199744</td>\n",
       "      <td>-1.559995</td>\n",
       "      <td>-0.626913</td>\n",
       "      <td>0.200465</td>\n",
       "      <td>0.373242</td>\n",
       "      <td>1.72107</td>\n",
       "      <td>-0.458671</td>\n",
       "      <td>-0.058144</td>\n",
       "      <td>2.510513</td>\n",
       "      <td>-0.113649</td>\n",
       "      <td>1</td>\n",
       "      <td>1</td>\n",
       "      <td>3</td>\n",
       "    </tr>\n",
       "  </tbody>\n",
       "</table>\n",
       "</div>"
      ],
      "text/plain": [
       "   current_loan_amount  credit_score  annual_income  years_in_current_job  \\\n",
       "0            -0.355946     -0.276946      -0.216928              0.591078   \n",
       "1             2.776702     -0.252818       0.878235              0.591078   \n",
       "2            -0.359022     -0.267898      -0.587893             -0.842971   \n",
       "3            -0.364417      0.000110      -0.000052             -0.269351   \n",
       "4            -0.363113     -0.261112      -0.199744             -1.559995   \n",
       "\n",
       "   monthly_debt  years_of_credit_history  number_of_open_accounts  \\\n",
       "0     -1.090284                -0.141648                -1.024600   \n",
       "1      0.880222                -0.469506                 1.371700   \n",
       "2     -0.800517                -0.882893                -0.425525   \n",
       "3      0.176923                -1.723921                 0.772625   \n",
       "4     -0.626913                 0.200465                 0.373242   \n",
       "\n",
       "   number_of_credit_problems  current_credit_balance  maximum_open_credit  \\\n",
       "0                    1.72107               -0.176752            -0.040815   \n",
       "1                    1.72107                0.008870            -0.000891   \n",
       "2                   -0.34896               -0.101927            -0.044382   \n",
       "3                   -0.34896               -0.109556            -0.039566   \n",
       "4                    1.72107               -0.458671            -0.058144   \n",
       "\n",
       "   bankruptcies  tax_liens  term  home_ownership  purpose  \n",
       "0      2.510513  -0.113649     1               1        5  \n",
       "1     -0.335043  -0.113649     1               2        3  \n",
       "2     -0.335043  -0.113649     0               2        3  \n",
       "3     -0.335043  -0.113649     1               3        3  \n",
       "4      2.510513  -0.113649     1               1        3  "
      ]
     },
     "execution_count": 56,
     "metadata": {},
     "output_type": "execute_result"
    }
   ],
   "source": [
    "X=X_con.join(Xcat)\n",
    "X.head()"
   ]
  },
  {
   "cell_type": "code",
   "execution_count": 57,
   "id": "f6d3b77c-7098-4668-a392-66d2abda08a0",
   "metadata": {
    "scrolled": true
   },
   "outputs": [
    {
     "name": "stdout",
     "output_type": "stream",
     "text": [
      "<class 'pandas.core.frame.DataFrame'>\n",
      "RangeIndex: 88049 entries, 0 to 88048\n",
      "Data columns (total 15 columns):\n",
      " #   Column                     Non-Null Count  Dtype  \n",
      "---  ------                     --------------  -----  \n",
      " 0   current_loan_amount        88049 non-null  float64\n",
      " 1   credit_score               88049 non-null  float64\n",
      " 2   annual_income              88049 non-null  float64\n",
      " 3   years_in_current_job       88049 non-null  float64\n",
      " 4   monthly_debt               88049 non-null  float64\n",
      " 5   years_of_credit_history    88049 non-null  float64\n",
      " 6   number_of_open_accounts    88049 non-null  float64\n",
      " 7   number_of_credit_problems  88049 non-null  float64\n",
      " 8   current_credit_balance     88049 non-null  float64\n",
      " 9   maximum_open_credit        88049 non-null  float64\n",
      " 10  bankruptcies               88049 non-null  float64\n",
      " 11  tax_liens                  88049 non-null  float64\n",
      " 12  term                       88049 non-null  int32  \n",
      " 13  home_ownership             88049 non-null  int32  \n",
      " 14  purpose                    88049 non-null  int32  \n",
      "dtypes: float64(12), int32(3)\n",
      "memory usage: 9.1 MB\n"
     ]
    }
   ],
   "source": [
    "X.info()"
   ]
  },
  {
   "cell_type": "code",
   "execution_count": 58,
   "id": "d546bc4f-2122-4e96-84e3-9d7b49384c47",
   "metadata": {},
   "outputs": [
    {
     "data": {
      "text/plain": [
       "loan_status\n",
       "0    71337\n",
       "1    16712\n",
       "Name: count, dtype: int64"
      ]
     },
     "execution_count": 58,
     "metadata": {},
     "output_type": "execute_result"
    }
   ],
   "source": [
    "Y.loan_status.value_counts()"
   ]
  },
  {
   "cell_type": "markdown",
   "id": "8f6eb51e-9d1f-4a53-8626-c9533bfb3e9d",
   "metadata": {},
   "source": [
    "# 1. Under Sampling"
   ]
  },
  {
   "cell_type": "markdown",
   "id": "fc5364b9-1ae3-4025-b44c-2bc9c601aa7f",
   "metadata": {},
   "source": [
    "## A.NearMiss (This will add new record and double the Lowest output) - Reducing the existing records of Maximum output"
   ]
  },
  {
   "cell_type": "code",
   "execution_count": 59,
   "id": "fbb22ad7-b8b9-440c-bfe0-e7576450b07f",
   "metadata": {},
   "outputs": [
    {
     "data": {
      "text/plain": [
       "\"# Implementing UnderSampling for Handeling Imbalanced Dataset\\nprint(X.shape, Y.shape)\\nunpaid = Y[Y['loan_status']=='Charged Off'] # Charged Off- 22,587 \\npaid = Y[Y['loan_status']=='Fully Paid']    # Fully Paid - 77,207\\nprint(unpaid.shape, paid.shape)\\nprint('==============================================')\\nfrom imblearn.under_sampling import NearMiss\\nnm=NearMiss()\\nX_res,Y_res=nm.fit_resample(X,Y)\\nprint(X_res.shape, Y_res.shape)\""
      ]
     },
     "execution_count": 59,
     "metadata": {},
     "output_type": "execute_result"
    }
   ],
   "source": [
    "'''# Implementing UnderSampling for Handeling Imbalanced Dataset\n",
    "print(X.shape, Y.shape)\n",
    "unpaid = Y[Y['loan_status']=='Charged Off'] # Charged Off- 22,587 \n",
    "paid = Y[Y['loan_status']=='Fully Paid']    # Fully Paid - 77,207\n",
    "print(unpaid.shape, paid.shape)\n",
    "print('==============================================')\n",
    "from imblearn.under_sampling import NearMiss\n",
    "nm=NearMiss()\n",
    "X_res,Y_res=nm.fit_resample(X,Y)\n",
    "print(X_res.shape, Y_res.shape)'''"
   ]
  },
  {
   "cell_type": "markdown",
   "id": "9eb11b9a-3553-49e6-9b14-5379cce4b3a8",
   "metadata": {},
   "source": [
    "# 2. Over Sampling"
   ]
  },
  {
   "cell_type": "markdown",
   "id": "d3f7dad1-85e8-42cb-b6d6-770dbd47f011",
   "metadata": {},
   "source": [
    "## A. SMOTETomek (This will add new record and double the Maximum output)"
   ]
  },
  {
   "cell_type": "code",
   "execution_count": 60,
   "id": "a0e3ab6e-f384-44ed-92b3-f88ce4fb46b9",
   "metadata": {},
   "outputs": [
    {
     "data": {
      "text/plain": [
       "\"# Implementing OverSampling for Handeling Imbalanced Dataset\\nprint(X.shape, Y.shape)\\nunpaid = Y[Y['loan_status']=='Charged Off'] # Charged Off- 22,587 \\npaid = Y[Y['loan_status']=='Fully Paid']    # Fully Paid - 77,207\\nprint(unpaid.shape, paid.shape)\\nprint('==============================================')\\nfrom imblearn.combine import SMOTETomek\\nsmk=SMOTETomek()\\nX_res,Y_res=smk.fit_resample(X,Y)\\nprint(X_res.shape, Y_res.shape)\""
      ]
     },
     "execution_count": 60,
     "metadata": {},
     "output_type": "execute_result"
    }
   ],
   "source": [
    "'''# Implementing OverSampling for Handeling Imbalanced Dataset\n",
    "print(X.shape, Y.shape)\n",
    "unpaid = Y[Y['loan_status']=='Charged Off'] # Charged Off- 22,587 \n",
    "paid = Y[Y['loan_status']=='Fully Paid']    # Fully Paid - 77,207\n",
    "print(unpaid.shape, paid.shape)\n",
    "print('==============================================')\n",
    "from imblearn.combine import SMOTETomek\n",
    "smk=SMOTETomek()\n",
    "X_res,Y_res=smk.fit_resample(X,Y)\n",
    "print(X_res.shape, Y_res.shape)'''"
   ]
  },
  {
   "cell_type": "markdown",
   "id": "3bbbb5ca-ef87-40c8-9c5e-a5d621eef0e7",
   "metadata": {},
   "source": [
    "## B. RandomOverSampler (Adjust the ratio of X and Y)"
   ]
  },
  {
   "cell_type": "code",
   "execution_count": 61,
   "id": "3b44dfdb-3c65-47da-86a3-2d13a3630b70",
   "metadata": {},
   "outputs": [
    {
     "name": "stdout",
     "output_type": "stream",
     "text": [
      "(88049, 15) (88049, 1)\n",
      "(0, 1) (0, 1)\n",
      "==============================================\n",
      "(142674, 15) (142674, 1)\n"
     ]
    }
   ],
   "source": [
    "# Implementing OverSampling for Handeling Imbalanced Dataset\n",
    "print(X.shape, Y.shape)\n",
    "unpaid = Y[Y['loan_status']=='Charged Off'] # Charged Off- 22,587 \n",
    "paid = Y[Y['loan_status']=='Fully Paid']    # Fully Paid - 77,207\n",
    "print(unpaid.shape, paid.shape)\n",
    "print('==============================================')\n",
    "from imblearn.over_sampling import RandomOverSampler\n",
    "ros=RandomOverSampler(sampling_strategy=1)\n",
    "X_res,Y_res=ros.fit_resample(X,Y)\n",
    "print(X_res.shape, Y_res.shape)"
   ]
  },
  {
   "cell_type": "code",
   "execution_count": 62,
   "id": "c7eec46b-21df-4603-ad5e-f41b96bc0c46",
   "metadata": {},
   "outputs": [],
   "source": [
    "from sklearn.model_selection import train_test_split, cross_val_score\n",
    "from sklearn.metrics import accuracy_score, confusion_matrix\n",
    "from sklearn.metrics import confusion_matrix, ConfusionMatrixDisplay\n",
    "from sklearn.metrics import classification_report\n",
    "#from sklearn.metrics import roc_curve,auc,roc_auc_score,precision_score,recall_score,f1_score"
   ]
  },
  {
   "cell_type": "code",
   "execution_count": 63,
   "id": "afc70e45-f6ff-4a4e-b05d-f5962b7f4064",
   "metadata": {},
   "outputs": [],
   "source": [
    "def model_val(model,X_res,Y_res):\n",
    "    xtrain,xtest,ytrain,ytest=train_test_split(X_res,Y_res,test_size=0.20,random_state=21)\n",
    "    print(xtrain.shape,xtest.shape,ytrain.shape,ytest.shape)\n",
    "    \n",
    "    model.fit(xtrain,ytrain)\n",
    "    tr_pred=model.predict(xtrain)\n",
    "    ts_pred=model.predict(xtest)\n",
    "\n",
    "    tr_score=accuracy_score(tr_pred,ytrain)\n",
    "    ts_score=accuracy_score(ts_pred,ytest)\n",
    "    \n",
    "    print('Training_Score:',round(tr_score*100,2))\n",
    "    print('Testing_Score:',round(ts_score*100,2))\n",
    "    \n",
    "    #score = cross_val_score(model,X,Y,cv=5)\n",
    "    #print(f\"{model} Avg_cross_val_score = {round(np.mean(score)*100,2)}\")\n",
    "    #model_df[model]=round(np.mean(score)*100,2)\n",
    "    \n",
    "    cf=confusion_matrix(ytest,ts_pred)\n",
    "    cfd=ConfusionMatrixDisplay(cf)\n",
    "    cfd.plot()\n",
    "\n",
    "    print(classification_report(ytest, ts_pred))"
   ]
  },
  {
   "cell_type": "code",
   "execution_count": 64,
   "id": "9411d18c-16e3-461a-921f-1872b24af2c7",
   "metadata": {
    "scrolled": true
   },
   "outputs": [
    {
     "data": {
      "text/plain": [
       "'from sklearn.linear_model import LogisticRegression\\nmodel = LogisticRegression()\\nmodel_val(model,X_res,Y_res)'"
      ]
     },
     "execution_count": 64,
     "metadata": {},
     "output_type": "execute_result"
    }
   ],
   "source": [
    "'''from sklearn.linear_model import LogisticRegression\n",
    "model = LogisticRegression()\n",
    "model_val(model,X_res,Y_res)'''"
   ]
  },
  {
   "cell_type": "code",
   "execution_count": 65,
   "id": "f5fa2314-9718-49e0-864d-d3aee0b5bdf8",
   "metadata": {
    "scrolled": true
   },
   "outputs": [
    {
     "data": {
      "text/plain": [
       "'from sklearn.tree import DecisionTreeClassifier\\nmodel = DecisionTreeClassifier()\\nmodel_val(model,X_res,Y_res)'"
      ]
     },
     "execution_count": 65,
     "metadata": {},
     "output_type": "execute_result"
    }
   ],
   "source": [
    "'''from sklearn.tree import DecisionTreeClassifier\n",
    "model = DecisionTreeClassifier()\n",
    "model_val(model,X_res,Y_res)'''"
   ]
  },
  {
   "cell_type": "code",
   "execution_count": 66,
   "id": "6bd7eeea-04e4-4036-89e5-8a4f5ae8ea31",
   "metadata": {},
   "outputs": [
    {
     "name": "stdout",
     "output_type": "stream",
     "text": [
      "(114139, 15) (28535, 15) (114139, 1) (28535, 1)\n",
      "Training_Score: 100.0\n",
      "Testing_Score: 96.29\n",
      "              precision    recall  f1-score   support\n",
      "\n",
      "           0       0.98      0.95      0.96     14282\n",
      "           1       0.95      0.98      0.96     14253\n",
      "\n",
      "    accuracy                           0.96     28535\n",
      "   macro avg       0.96      0.96      0.96     28535\n",
      "weighted avg       0.96      0.96      0.96     28535\n",
      "\n"
     ]
    },
    {
     "data": {
      "image/png": "[encoded data removed]",
      "text/plain": [
       "<Figure size 640x480 with 2 Axes>"
      ]
     },
     "metadata": {},
     "output_type": "display_data"
    }
   ],
   "source": [
    "from sklearn.ensemble import RandomForestClassifier\n",
    "model =RandomForestClassifier()\n",
    "model_val(model,X_res,Y_res)"
   ]
  },
  {
   "cell_type": "code",
   "execution_count": 67,
   "id": "3557f48e-abf4-4e03-9291-53561d97d017",
   "metadata": {
    "scrolled": true
   },
   "outputs": [
    {
     "data": {
      "text/plain": [
       "'from sklearn.ensemble import GradientBoostingClassifier\\nmodel =GradientBoostingClassifier()\\nmodel_val(model,X_res,Y_res)'"
      ]
     },
     "execution_count": 67,
     "metadata": {},
     "output_type": "execute_result"
    }
   ],
   "source": [
    "'''from sklearn.ensemble import GradientBoostingClassifier\n",
    "model =GradientBoostingClassifier()\n",
    "model_val(model,X_res,Y_res)'''"
   ]
  },
  {
   "cell_type": "code",
   "execution_count": 68,
   "id": "341c7d09-458d-49b3-a98e-bc49d71268b1",
   "metadata": {
    "scrolled": true
   },
   "outputs": [
    {
     "data": {
      "text/plain": [
       "'from sklearn.naive_bayes import GaussianNB\\nmodel = GaussianNB()\\nmodel_val(model,X_res,Y_res)'"
      ]
     },
     "execution_count": 68,
     "metadata": {},
     "output_type": "execute_result"
    }
   ],
   "source": [
    "'''from sklearn.naive_bayes import GaussianNB\n",
    "model = GaussianNB()\n",
    "model_val(model,X_res,Y_res)'''"
   ]
  },
  {
   "cell_type": "markdown",
   "id": "74147659-d570-4fa4-92cd-d7ac50c49034",
   "metadata": {},
   "source": [
    "# Testing"
   ]
  },
  {
   "cell_type": "code",
   "execution_count": 69,
   "id": "70159744-957a-48a9-9368-bbc62ee720d7",
   "metadata": {},
   "outputs": [],
   "source": [
    "df1=pd.read_csv('credit_test.csv')"
   ]
  },
  {
   "cell_type": "code",
   "execution_count": 70,
   "id": "159b17a5-4983-4be1-9792-ea5c55daa2f4",
   "metadata": {},
   "outputs": [
    {
     "data": {
      "text/plain": [
       "Index(['loan_id', 'customer_id', 'current_loan_amount', 'term', 'credit_score',\n",
       "       'annual_income', 'years_in_current_job', 'home_ownership', 'purpose',\n",
       "       'monthly_debt', 'years_of_credit_history',\n",
       "       'months_since_last_delinquent', 'number_of_open_accounts',\n",
       "       'number_of_credit_problems', 'current_credit_balance',\n",
       "       'maximum_open_credit', 'bankruptcies', 'tax_liens'],\n",
       "      dtype='object')"
      ]
     },
     "execution_count": 70,
     "metadata": {},
     "output_type": "execute_result"
    }
   ],
   "source": [
    "df1.columns=df1.columns.str.lower()\n",
    "df1.columns=df1.columns.str.replace(' ','_')\n",
    "df1.columns"
   ]
  },
  {
   "cell_type": "code",
   "execution_count": 71,
   "id": "8071c39a-8b5e-40c1-9686-ad5b31422da8",
   "metadata": {},
   "outputs": [
    {
     "data": {
      "text/plain": [
       "0        10.0\n",
       "1        10.0\n",
       "2         2.0\n",
       "3        10.0\n",
       "4        10.0\n",
       "         ... \n",
       "10348     NaN\n",
       "10349     NaN\n",
       "10350     NaN\n",
       "10351     NaN\n",
       "10352     NaN\n",
       "Name: years_in_current_job, Length: 10353, dtype: float64"
      ]
     },
     "execution_count": 71,
     "metadata": {},
     "output_type": "execute_result"
    }
   ],
   "source": [
    "df1['years_in_current_job'] = df1['years_in_current_job'].apply(years)\n",
    "df1['years_in_current_job']"
   ]
  },
  {
   "cell_type": "code",
   "execution_count": 72,
   "id": "8a04f2b4-48d1-4f28-b779-87657af56dca",
   "metadata": {},
   "outputs": [
    {
     "name": "stdout",
     "output_type": "stream",
     "text": [
      "<class 'pandas.core.frame.DataFrame'>\n",
      "RangeIndex: 10353 entries, 0 to 10352\n",
      "Data columns (total 15 columns):\n",
      " #   Column                     Non-Null Count  Dtype  \n",
      "---  ------                     --------------  -----  \n",
      " 0   current_loan_amount        10000 non-null  float64\n",
      " 1   term                       10000 non-null  object \n",
      " 2   credit_score               8019 non-null   float64\n",
      " 3   annual_income              8019 non-null   float64\n",
      " 4   years_in_current_job       9573 non-null   float64\n",
      " 5   home_ownership             10000 non-null  object \n",
      " 6   purpose                    10000 non-null  object \n",
      " 7   monthly_debt               10000 non-null  float64\n",
      " 8   years_of_credit_history    10000 non-null  float64\n",
      " 9   number_of_open_accounts    10000 non-null  float64\n",
      " 10  number_of_credit_problems  10000 non-null  float64\n",
      " 11  current_credit_balance     10000 non-null  float64\n",
      " 12  maximum_open_credit        10000 non-null  float64\n",
      " 13  bankruptcies               9978 non-null   float64\n",
      " 14  tax_liens                  9999 non-null   float64\n",
      "dtypes: float64(12), object(3)\n",
      "memory usage: 1.2+ MB\n"
     ]
    }
   ],
   "source": [
    "df1=df1.drop(labels={'loan_id','customer_id','months_since_last_delinquent'}, axis=1)\n",
    "df1.info()"
   ]
  },
  {
   "cell_type": "code",
   "execution_count": 73,
   "id": "2f981bef-3ac8-479a-a4a4-da56df2568d3",
   "metadata": {},
   "outputs": [
    {
     "data": {
      "text/plain": [
       "current_loan_amount           353\n",
       "term                          353\n",
       "credit_score                 2334\n",
       "annual_income                2334\n",
       "years_in_current_job          780\n",
       "home_ownership                353\n",
       "purpose                       353\n",
       "monthly_debt                  353\n",
       "years_of_credit_history       353\n",
       "number_of_open_accounts       353\n",
       "number_of_credit_problems     353\n",
       "current_credit_balance        353\n",
       "maximum_open_credit           353\n",
       "bankruptcies                  375\n",
       "tax_liens                     354\n",
       "dtype: int64"
      ]
     },
     "execution_count": 73,
     "metadata": {},
     "output_type": "execute_result"
    }
   ],
   "source": [
    "df1.isna().sum()"
   ]
  },
  {
   "cell_type": "code",
   "execution_count": 74,
   "id": "44d513bb-56ac-44b1-af5c-4916312105c0",
   "metadata": {},
   "outputs": [
    {
     "data": {
      "text/plain": [
       "current_loan_amount           3.409640\n",
       "term                          3.409640\n",
       "credit_score                 22.544190\n",
       "annual_income                22.544190\n",
       "years_in_current_job          7.534048\n",
       "home_ownership                3.409640\n",
       "purpose                       3.409640\n",
       "monthly_debt                  3.409640\n",
       "years_of_credit_history       3.409640\n",
       "number_of_open_accounts       3.409640\n",
       "number_of_credit_problems     3.409640\n",
       "current_credit_balance        3.409640\n",
       "maximum_open_credit           3.409640\n",
       "bankruptcies                  3.622139\n",
       "tax_liens                     3.419299\n",
       "dtype: float64"
      ]
     },
     "execution_count": 74,
     "metadata": {},
     "output_type": "execute_result"
    }
   ],
   "source": [
    "df1.isna().sum()/len(df1)*100"
   ]
  },
  {
   "cell_type": "code",
   "execution_count": 75,
   "id": "faadb9b7-ce18-449f-8534-114e44bba980",
   "metadata": {},
   "outputs": [],
   "source": [
    "df1['years_in_current_job'].fillna(value=np.mean(df1['years_in_current_job']), inplace=True)\n",
    "df1['annual_income'].fillna(value=np.mean(df1['annual_income']), inplace=True)\n",
    "df1['credit_score'].fillna(value=np.mean(df1['credit_score']), inplace=True)"
   ]
  },
  {
   "cell_type": "code",
   "execution_count": 76,
   "id": "9578e060-c338-4fd7-a0cb-b5e833a9e678",
   "metadata": {
    "scrolled": true
   },
   "outputs": [],
   "source": [
    "df1=df1.dropna()"
   ]
  },
  {
   "cell_type": "code",
   "execution_count": 77,
   "id": "b6134dc5-3d3a-4319-a3c5-a38cc8fb42cb",
   "metadata": {},
   "outputs": [
    {
     "data": {
      "text/plain": [
       "current_loan_amount          0\n",
       "term                         0\n",
       "credit_score                 0\n",
       "annual_income                0\n",
       "years_in_current_job         0\n",
       "home_ownership               0\n",
       "purpose                      0\n",
       "monthly_debt                 0\n",
       "years_of_credit_history      0\n",
       "number_of_open_accounts      0\n",
       "number_of_credit_problems    0\n",
       "current_credit_balance       0\n",
       "maximum_open_credit          0\n",
       "bankruptcies                 0\n",
       "tax_liens                    0\n",
       "dtype: int64"
      ]
     },
     "execution_count": 77,
     "metadata": {},
     "output_type": "execute_result"
    }
   ],
   "source": [
    "df1.isna().sum()"
   ]
  },
  {
   "cell_type": "code",
   "execution_count": 78,
   "id": "e91b6ac0-809e-47a6-a1b4-1fa2c03effc7",
   "metadata": {},
   "outputs": [
    {
     "data": {
      "text/html": [
       "<div>\n",
       "<style scoped>\n",
       "    .dataframe tbody tr th:only-of-type {\n",
       "        vertical-align: middle;\n",
       "    }\n",
       "\n",
       "    .dataframe tbody tr th {\n",
       "        vertical-align: top;\n",
       "    }\n",
       "\n",
       "    .dataframe thead th {\n",
       "        text-align: right;\n",
       "    }\n",
       "</style>\n",
       "<table border=\"1\" class=\"dataframe\">\n",
       "  <thead>\n",
       "    <tr style=\"text-align: right;\">\n",
       "      <th></th>\n",
       "      <th>index</th>\n",
       "      <th>current_loan_amount</th>\n",
       "      <th>term</th>\n",
       "      <th>credit_score</th>\n",
       "      <th>annual_income</th>\n",
       "      <th>years_in_current_job</th>\n",
       "      <th>home_ownership</th>\n",
       "      <th>purpose</th>\n",
       "      <th>monthly_debt</th>\n",
       "      <th>years_of_credit_history</th>\n",
       "      <th>number_of_open_accounts</th>\n",
       "      <th>number_of_credit_problems</th>\n",
       "      <th>current_credit_balance</th>\n",
       "      <th>maximum_open_credit</th>\n",
       "      <th>bankruptcies</th>\n",
       "      <th>tax_liens</th>\n",
       "    </tr>\n",
       "  </thead>\n",
       "  <tbody>\n",
       "    <tr>\n",
       "      <th>0</th>\n",
       "      <td>0</td>\n",
       "      <td>611314.0</td>\n",
       "      <td>Short Term</td>\n",
       "      <td>747.00000</td>\n",
       "      <td>2.074116e+06</td>\n",
       "      <td>10.000000</td>\n",
       "      <td>Home Mortgage</td>\n",
       "      <td>Debt Consolidation</td>\n",
       "      <td>42000.83</td>\n",
       "      <td>21.8</td>\n",
       "      <td>9.0</td>\n",
       "      <td>0.0</td>\n",
       "      <td>621908.0</td>\n",
       "      <td>1058970.0</td>\n",
       "      <td>0.0</td>\n",
       "      <td>0.0</td>\n",
       "    </tr>\n",
       "    <tr>\n",
       "      <th>1</th>\n",
       "      <td>1</td>\n",
       "      <td>266662.0</td>\n",
       "      <td>Short Term</td>\n",
       "      <td>734.00000</td>\n",
       "      <td>1.919190e+06</td>\n",
       "      <td>10.000000</td>\n",
       "      <td>Home Mortgage</td>\n",
       "      <td>Debt Consolidation</td>\n",
       "      <td>36624.40</td>\n",
       "      <td>19.4</td>\n",
       "      <td>11.0</td>\n",
       "      <td>0.0</td>\n",
       "      <td>679573.0</td>\n",
       "      <td>904442.0</td>\n",
       "      <td>0.0</td>\n",
       "      <td>0.0</td>\n",
       "    </tr>\n",
       "    <tr>\n",
       "      <th>2</th>\n",
       "      <td>2</td>\n",
       "      <td>153494.0</td>\n",
       "      <td>Short Term</td>\n",
       "      <td>709.00000</td>\n",
       "      <td>8.711120e+05</td>\n",
       "      <td>2.000000</td>\n",
       "      <td>Rent</td>\n",
       "      <td>Debt Consolidation</td>\n",
       "      <td>8391.73</td>\n",
       "      <td>12.5</td>\n",
       "      <td>10.0</td>\n",
       "      <td>0.0</td>\n",
       "      <td>38532.0</td>\n",
       "      <td>388036.0</td>\n",
       "      <td>0.0</td>\n",
       "      <td>0.0</td>\n",
       "    </tr>\n",
       "    <tr>\n",
       "      <th>3</th>\n",
       "      <td>3</td>\n",
       "      <td>176242.0</td>\n",
       "      <td>Short Term</td>\n",
       "      <td>727.00000</td>\n",
       "      <td>7.800830e+05</td>\n",
       "      <td>10.000000</td>\n",
       "      <td>Rent</td>\n",
       "      <td>Debt Consolidation</td>\n",
       "      <td>16771.87</td>\n",
       "      <td>16.5</td>\n",
       "      <td>16.0</td>\n",
       "      <td>1.0</td>\n",
       "      <td>156940.0</td>\n",
       "      <td>531322.0</td>\n",
       "      <td>1.0</td>\n",
       "      <td>0.0</td>\n",
       "    </tr>\n",
       "    <tr>\n",
       "      <th>4</th>\n",
       "      <td>4</td>\n",
       "      <td>321992.0</td>\n",
       "      <td>Short Term</td>\n",
       "      <td>744.00000</td>\n",
       "      <td>1.761148e+06</td>\n",
       "      <td>10.000000</td>\n",
       "      <td>Home Mortgage</td>\n",
       "      <td>Debt Consolidation</td>\n",
       "      <td>39478.77</td>\n",
       "      <td>26.0</td>\n",
       "      <td>14.0</td>\n",
       "      <td>0.0</td>\n",
       "      <td>359765.0</td>\n",
       "      <td>468072.0</td>\n",
       "      <td>0.0</td>\n",
       "      <td>0.0</td>\n",
       "    </tr>\n",
       "    <tr>\n",
       "      <th>...</th>\n",
       "      <td>...</td>\n",
       "      <td>...</td>\n",
       "      <td>...</td>\n",
       "      <td>...</td>\n",
       "      <td>...</td>\n",
       "      <td>...</td>\n",
       "      <td>...</td>\n",
       "      <td>...</td>\n",
       "      <td>...</td>\n",
       "      <td>...</td>\n",
       "      <td>...</td>\n",
       "      <td>...</td>\n",
       "      <td>...</td>\n",
       "      <td>...</td>\n",
       "      <td>...</td>\n",
       "      <td>...</td>\n",
       "    </tr>\n",
       "    <tr>\n",
       "      <th>9973</th>\n",
       "      <td>9995</td>\n",
       "      <td>157806.0</td>\n",
       "      <td>Short Term</td>\n",
       "      <td>731.00000</td>\n",
       "      <td>1.514376e+06</td>\n",
       "      <td>6.000000</td>\n",
       "      <td>Rent</td>\n",
       "      <td>Debt Consolidation</td>\n",
       "      <td>4795.41</td>\n",
       "      <td>12.5</td>\n",
       "      <td>9.0</td>\n",
       "      <td>0.0</td>\n",
       "      <td>87058.0</td>\n",
       "      <td>234410.0</td>\n",
       "      <td>0.0</td>\n",
       "      <td>0.0</td>\n",
       "    </tr>\n",
       "    <tr>\n",
       "      <th>9974</th>\n",
       "      <td>9996</td>\n",
       "      <td>132550.0</td>\n",
       "      <td>Short Term</td>\n",
       "      <td>718.00000</td>\n",
       "      <td>7.631920e+05</td>\n",
       "      <td>4.000000</td>\n",
       "      <td>Home Mortgage</td>\n",
       "      <td>Debt Consolidation</td>\n",
       "      <td>12401.87</td>\n",
       "      <td>9.9</td>\n",
       "      <td>8.0</td>\n",
       "      <td>0.0</td>\n",
       "      <td>74309.0</td>\n",
       "      <td>329692.0</td>\n",
       "      <td>0.0</td>\n",
       "      <td>0.0</td>\n",
       "    </tr>\n",
       "    <tr>\n",
       "      <th>9975</th>\n",
       "      <td>9997</td>\n",
       "      <td>223212.0</td>\n",
       "      <td>Long Term</td>\n",
       "      <td>1077.99152</td>\n",
       "      <td>1.369106e+06</td>\n",
       "      <td>5.908858</td>\n",
       "      <td>Rent</td>\n",
       "      <td>Debt Consolidation</td>\n",
       "      <td>4354.42</td>\n",
       "      <td>27.2</td>\n",
       "      <td>8.0</td>\n",
       "      <td>1.0</td>\n",
       "      <td>99636.0</td>\n",
       "      <td>568370.0</td>\n",
       "      <td>1.0</td>\n",
       "      <td>0.0</td>\n",
       "    </tr>\n",
       "    <tr>\n",
       "      <th>9976</th>\n",
       "      <td>9998</td>\n",
       "      <td>99999999.0</td>\n",
       "      <td>Short Term</td>\n",
       "      <td>721.00000</td>\n",
       "      <td>9.720970e+05</td>\n",
       "      <td>10.000000</td>\n",
       "      <td>Home Mortgage</td>\n",
       "      <td>Debt Consolidation</td>\n",
       "      <td>12232.20</td>\n",
       "      <td>16.8</td>\n",
       "      <td>8.0</td>\n",
       "      <td>1.0</td>\n",
       "      <td>184984.0</td>\n",
       "      <td>240658.0</td>\n",
       "      <td>0.0</td>\n",
       "      <td>0.0</td>\n",
       "    </tr>\n",
       "    <tr>\n",
       "      <th>9977</th>\n",
       "      <td>9999</td>\n",
       "      <td>99999999.0</td>\n",
       "      <td>Short Term</td>\n",
       "      <td>748.00000</td>\n",
       "      <td>1.079960e+06</td>\n",
       "      <td>6.000000</td>\n",
       "      <td>Home Mortgage</td>\n",
       "      <td>Debt Consolidation</td>\n",
       "      <td>12239.61</td>\n",
       "      <td>19.7</td>\n",
       "      <td>14.0</td>\n",
       "      <td>0.0</td>\n",
       "      <td>179018.0</td>\n",
       "      <td>607882.0</td>\n",
       "      <td>0.0</td>\n",
       "      <td>0.0</td>\n",
       "    </tr>\n",
       "  </tbody>\n",
       "</table>\n",
       "<p>9978 rows × 16 columns</p>\n",
       "</div>"
      ],
      "text/plain": [
       "      index  current_loan_amount        term  credit_score  annual_income  \\\n",
       "0         0             611314.0  Short Term     747.00000   2.074116e+06   \n",
       "1         1             266662.0  Short Term     734.00000   1.919190e+06   \n",
       "2         2             153494.0  Short Term     709.00000   8.711120e+05   \n",
       "3         3             176242.0  Short Term     727.00000   7.800830e+05   \n",
       "4         4             321992.0  Short Term     744.00000   1.761148e+06   \n",
       "...     ...                  ...         ...           ...            ...   \n",
       "9973   9995             157806.0  Short Term     731.00000   1.514376e+06   \n",
       "9974   9996             132550.0  Short Term     718.00000   7.631920e+05   \n",
       "9975   9997             223212.0   Long Term    1077.99152   1.369106e+06   \n",
       "9976   9998           99999999.0  Short Term     721.00000   9.720970e+05   \n",
       "9977   9999           99999999.0  Short Term     748.00000   1.079960e+06   \n",
       "\n",
       "      years_in_current_job home_ownership             purpose  monthly_debt  \\\n",
       "0                10.000000  Home Mortgage  Debt Consolidation      42000.83   \n",
       "1                10.000000  Home Mortgage  Debt Consolidation      36624.40   \n",
       "2                 2.000000           Rent  Debt Consolidation       8391.73   \n",
       "3                10.000000           Rent  Debt Consolidation      16771.87   \n",
       "4                10.000000  Home Mortgage  Debt Consolidation      39478.77   \n",
       "...                    ...            ...                 ...           ...   \n",
       "9973              6.000000           Rent  Debt Consolidation       4795.41   \n",
       "9974              4.000000  Home Mortgage  Debt Consolidation      12401.87   \n",
       "9975              5.908858           Rent  Debt Consolidation       4354.42   \n",
       "9976             10.000000  Home Mortgage  Debt Consolidation      12232.20   \n",
       "9977              6.000000  Home Mortgage  Debt Consolidation      12239.61   \n",
       "\n",
       "      years_of_credit_history  number_of_open_accounts  \\\n",
       "0                        21.8                      9.0   \n",
       "1                        19.4                     11.0   \n",
       "2                        12.5                     10.0   \n",
       "3                        16.5                     16.0   \n",
       "4                        26.0                     14.0   \n",
       "...                       ...                      ...   \n",
       "9973                     12.5                      9.0   \n",
       "9974                      9.9                      8.0   \n",
       "9975                     27.2                      8.0   \n",
       "9976                     16.8                      8.0   \n",
       "9977                     19.7                     14.0   \n",
       "\n",
       "      number_of_credit_problems  current_credit_balance  maximum_open_credit  \\\n",
       "0                           0.0                621908.0            1058970.0   \n",
       "1                           0.0                679573.0             904442.0   \n",
       "2                           0.0                 38532.0             388036.0   \n",
       "3                           1.0                156940.0             531322.0   \n",
       "4                           0.0                359765.0             468072.0   \n",
       "...                         ...                     ...                  ...   \n",
       "9973                        0.0                 87058.0             234410.0   \n",
       "9974                        0.0                 74309.0             329692.0   \n",
       "9975                        1.0                 99636.0             568370.0   \n",
       "9976                        1.0                184984.0             240658.0   \n",
       "9977                        0.0                179018.0             607882.0   \n",
       "\n",
       "      bankruptcies  tax_liens  \n",
       "0              0.0        0.0  \n",
       "1              0.0        0.0  \n",
       "2              0.0        0.0  \n",
       "3              1.0        0.0  \n",
       "4              0.0        0.0  \n",
       "...            ...        ...  \n",
       "9973           0.0        0.0  \n",
       "9974           0.0        0.0  \n",
       "9975           1.0        0.0  \n",
       "9976           0.0        0.0  \n",
       "9977           0.0        0.0  \n",
       "\n",
       "[9978 rows x 16 columns]"
      ]
     },
     "execution_count": 78,
     "metadata": {},
     "output_type": "execute_result"
    }
   ],
   "source": [
    "df1=df1.reset_index()\n",
    "df1"
   ]
  },
  {
   "cell_type": "code",
   "execution_count": 79,
   "id": "7009d431-375c-4ec8-a002-42c6e98db687",
   "metadata": {},
   "outputs": [
    {
     "data": {
      "text/html": [
       "<div>\n",
       "<style scoped>\n",
       "    .dataframe tbody tr th:only-of-type {\n",
       "        vertical-align: middle;\n",
       "    }\n",
       "\n",
       "    .dataframe tbody tr th {\n",
       "        vertical-align: top;\n",
       "    }\n",
       "\n",
       "    .dataframe thead th {\n",
       "        text-align: right;\n",
       "    }\n",
       "</style>\n",
       "<table border=\"1\" class=\"dataframe\">\n",
       "  <thead>\n",
       "    <tr style=\"text-align: right;\">\n",
       "      <th></th>\n",
       "      <th>current_loan_amount</th>\n",
       "      <th>term</th>\n",
       "      <th>credit_score</th>\n",
       "      <th>annual_income</th>\n",
       "      <th>years_in_current_job</th>\n",
       "      <th>home_ownership</th>\n",
       "      <th>purpose</th>\n",
       "      <th>monthly_debt</th>\n",
       "      <th>years_of_credit_history</th>\n",
       "      <th>number_of_open_accounts</th>\n",
       "      <th>number_of_credit_problems</th>\n",
       "      <th>current_credit_balance</th>\n",
       "      <th>maximum_open_credit</th>\n",
       "      <th>bankruptcies</th>\n",
       "      <th>tax_liens</th>\n",
       "    </tr>\n",
       "  </thead>\n",
       "  <tbody>\n",
       "    <tr>\n",
       "      <th>0</th>\n",
       "      <td>611314.0</td>\n",
       "      <td>Short Term</td>\n",
       "      <td>747.0</td>\n",
       "      <td>2074116.0</td>\n",
       "      <td>10.0</td>\n",
       "      <td>Home Mortgage</td>\n",
       "      <td>Debt Consolidation</td>\n",
       "      <td>42000.83</td>\n",
       "      <td>21.8</td>\n",
       "      <td>9.0</td>\n",
       "      <td>0.0</td>\n",
       "      <td>621908.0</td>\n",
       "      <td>1058970.0</td>\n",
       "      <td>0.0</td>\n",
       "      <td>0.0</td>\n",
       "    </tr>\n",
       "    <tr>\n",
       "      <th>1</th>\n",
       "      <td>266662.0</td>\n",
       "      <td>Short Term</td>\n",
       "      <td>734.0</td>\n",
       "      <td>1919190.0</td>\n",
       "      <td>10.0</td>\n",
       "      <td>Home Mortgage</td>\n",
       "      <td>Debt Consolidation</td>\n",
       "      <td>36624.40</td>\n",
       "      <td>19.4</td>\n",
       "      <td>11.0</td>\n",
       "      <td>0.0</td>\n",
       "      <td>679573.0</td>\n",
       "      <td>904442.0</td>\n",
       "      <td>0.0</td>\n",
       "      <td>0.0</td>\n",
       "    </tr>\n",
       "    <tr>\n",
       "      <th>2</th>\n",
       "      <td>153494.0</td>\n",
       "      <td>Short Term</td>\n",
       "      <td>709.0</td>\n",
       "      <td>871112.0</td>\n",
       "      <td>2.0</td>\n",
       "      <td>Rent</td>\n",
       "      <td>Debt Consolidation</td>\n",
       "      <td>8391.73</td>\n",
       "      <td>12.5</td>\n",
       "      <td>10.0</td>\n",
       "      <td>0.0</td>\n",
       "      <td>38532.0</td>\n",
       "      <td>388036.0</td>\n",
       "      <td>0.0</td>\n",
       "      <td>0.0</td>\n",
       "    </tr>\n",
       "    <tr>\n",
       "      <th>3</th>\n",
       "      <td>176242.0</td>\n",
       "      <td>Short Term</td>\n",
       "      <td>727.0</td>\n",
       "      <td>780083.0</td>\n",
       "      <td>10.0</td>\n",
       "      <td>Rent</td>\n",
       "      <td>Debt Consolidation</td>\n",
       "      <td>16771.87</td>\n",
       "      <td>16.5</td>\n",
       "      <td>16.0</td>\n",
       "      <td>1.0</td>\n",
       "      <td>156940.0</td>\n",
       "      <td>531322.0</td>\n",
       "      <td>1.0</td>\n",
       "      <td>0.0</td>\n",
       "    </tr>\n",
       "    <tr>\n",
       "      <th>4</th>\n",
       "      <td>321992.0</td>\n",
       "      <td>Short Term</td>\n",
       "      <td>744.0</td>\n",
       "      <td>1761148.0</td>\n",
       "      <td>10.0</td>\n",
       "      <td>Home Mortgage</td>\n",
       "      <td>Debt Consolidation</td>\n",
       "      <td>39478.77</td>\n",
       "      <td>26.0</td>\n",
       "      <td>14.0</td>\n",
       "      <td>0.0</td>\n",
       "      <td>359765.0</td>\n",
       "      <td>468072.0</td>\n",
       "      <td>0.0</td>\n",
       "      <td>0.0</td>\n",
       "    </tr>\n",
       "  </tbody>\n",
       "</table>\n",
       "</div>"
      ],
      "text/plain": [
       "   current_loan_amount        term  credit_score  annual_income  \\\n",
       "0             611314.0  Short Term         747.0      2074116.0   \n",
       "1             266662.0  Short Term         734.0      1919190.0   \n",
       "2             153494.0  Short Term         709.0       871112.0   \n",
       "3             176242.0  Short Term         727.0       780083.0   \n",
       "4             321992.0  Short Term         744.0      1761148.0   \n",
       "\n",
       "   years_in_current_job home_ownership             purpose  monthly_debt  \\\n",
       "0                  10.0  Home Mortgage  Debt Consolidation      42000.83   \n",
       "1                  10.0  Home Mortgage  Debt Consolidation      36624.40   \n",
       "2                   2.0           Rent  Debt Consolidation       8391.73   \n",
       "3                  10.0           Rent  Debt Consolidation      16771.87   \n",
       "4                  10.0  Home Mortgage  Debt Consolidation      39478.77   \n",
       "\n",
       "   years_of_credit_history  number_of_open_accounts  \\\n",
       "0                     21.8                      9.0   \n",
       "1                     19.4                     11.0   \n",
       "2                     12.5                     10.0   \n",
       "3                     16.5                     16.0   \n",
       "4                     26.0                     14.0   \n",
       "\n",
       "   number_of_credit_problems  current_credit_balance  maximum_open_credit  \\\n",
       "0                        0.0                621908.0            1058970.0   \n",
       "1                        0.0                679573.0             904442.0   \n",
       "2                        0.0                 38532.0             388036.0   \n",
       "3                        1.0                156940.0             531322.0   \n",
       "4                        0.0                359765.0             468072.0   \n",
       "\n",
       "   bankruptcies  tax_liens  \n",
       "0           0.0        0.0  \n",
       "1           0.0        0.0  \n",
       "2           0.0        0.0  \n",
       "3           1.0        0.0  \n",
       "4           0.0        0.0  "
      ]
     },
     "execution_count": 79,
     "metadata": {},
     "output_type": "execute_result"
    }
   ],
   "source": [
    "df1=df1.drop(labels={'index'}, axis=1)\n",
    "df1.head()"
   ]
  },
  {
   "cell_type": "code",
   "execution_count": 80,
   "id": "86061277-ba03-42bf-a3cc-e8c8b9fe93a3",
   "metadata": {},
   "outputs": [
    {
     "name": "stdout",
     "output_type": "stream",
     "text": [
      "categorical features : ['term', 'home_ownership', 'purpose']\n",
      "continues features : ['current_loan_amount', 'credit_score', 'annual_income', 'years_in_current_job', 'monthly_debt', 'years_of_credit_history', 'number_of_open_accounts', 'number_of_credit_problems', 'current_credit_balance', 'maximum_open_credit', 'bankruptcies', 'tax_liens']\n"
     ]
    }
   ],
   "source": [
    "cat_con(df1)"
   ]
  },
  {
   "cell_type": "code",
   "execution_count": 81,
   "id": "d20438ca-ccd6-4eb8-8c37-a842dd41808f",
   "metadata": {},
   "outputs": [],
   "source": [
    "cat=['term', 'home_ownership', 'purpose']\n",
    "con=['current_loan_amount', 'credit_score', 'annual_income', 'years_in_current_job', 'monthly_debt', 'years_of_credit_history', \n",
    "     'number_of_open_accounts', 'number_of_credit_problems', 'current_credit_balance', 'maximum_open_credit', 'bankruptcies', 'tax_liens']"
   ]
  },
  {
   "cell_type": "code",
   "execution_count": 82,
   "id": "b237e410-5b1a-43ad-b6db-fc17274e5af3",
   "metadata": {},
   "outputs": [
    {
     "data": {
      "text/html": [
       "<div>\n",
       "<style scoped>\n",
       "    .dataframe tbody tr th:only-of-type {\n",
       "        vertical-align: middle;\n",
       "    }\n",
       "\n",
       "    .dataframe tbody tr th {\n",
       "        vertical-align: top;\n",
       "    }\n",
       "\n",
       "    .dataframe thead th {\n",
       "        text-align: right;\n",
       "    }\n",
       "</style>\n",
       "<table border=\"1\" class=\"dataframe\">\n",
       "  <thead>\n",
       "    <tr style=\"text-align: right;\">\n",
       "      <th></th>\n",
       "      <th>current_loan_amount</th>\n",
       "      <th>credit_score</th>\n",
       "      <th>annual_income</th>\n",
       "      <th>years_in_current_job</th>\n",
       "      <th>monthly_debt</th>\n",
       "      <th>years_of_credit_history</th>\n",
       "      <th>number_of_open_accounts</th>\n",
       "      <th>number_of_credit_problems</th>\n",
       "      <th>current_credit_balance</th>\n",
       "      <th>maximum_open_credit</th>\n",
       "      <th>bankruptcies</th>\n",
       "      <th>tax_liens</th>\n",
       "    </tr>\n",
       "  </thead>\n",
       "  <tbody>\n",
       "    <tr>\n",
       "      <th>0</th>\n",
       "      <td>611314.0</td>\n",
       "      <td>747.0</td>\n",
       "      <td>2074116.0</td>\n",
       "      <td>10.0</td>\n",
       "      <td>42000.83</td>\n",
       "      <td>21.8</td>\n",
       "      <td>9.0</td>\n",
       "      <td>0.0</td>\n",
       "      <td>621908.0</td>\n",
       "      <td>1058970.0</td>\n",
       "      <td>0.0</td>\n",
       "      <td>0.0</td>\n",
       "    </tr>\n",
       "  </tbody>\n",
       "</table>\n",
       "</div>"
      ],
      "text/plain": [
       "   current_loan_amount  credit_score  annual_income  years_in_current_job  \\\n",
       "0             611314.0         747.0      2074116.0                  10.0   \n",
       "\n",
       "   monthly_debt  years_of_credit_history  number_of_open_accounts  \\\n",
       "0      42000.83                     21.8                      9.0   \n",
       "\n",
       "   number_of_credit_problems  current_credit_balance  maximum_open_credit  \\\n",
       "0                        0.0                621908.0            1058970.0   \n",
       "\n",
       "   bankruptcies  tax_liens  \n",
       "0           0.0        0.0  "
      ]
     },
     "execution_count": 82,
     "metadata": {},
     "output_type": "execute_result"
    }
   ],
   "source": [
    "Xt_con=df1[con]\n",
    "Xt_con.head(1)"
   ]
  },
  {
   "cell_type": "code",
   "execution_count": 83,
   "id": "6a0ae0ba-b584-4a23-829f-2570ee250eb0",
   "metadata": {},
   "outputs": [
    {
     "data": {
      "text/html": [
       "<div>\n",
       "<style scoped>\n",
       "    .dataframe tbody tr th:only-of-type {\n",
       "        vertical-align: middle;\n",
       "    }\n",
       "\n",
       "    .dataframe tbody tr th {\n",
       "        vertical-align: top;\n",
       "    }\n",
       "\n",
       "    .dataframe thead th {\n",
       "        text-align: right;\n",
       "    }\n",
       "</style>\n",
       "<table border=\"1\" class=\"dataframe\">\n",
       "  <thead>\n",
       "    <tr style=\"text-align: right;\">\n",
       "      <th></th>\n",
       "      <th>term</th>\n",
       "      <th>home_ownership</th>\n",
       "      <th>purpose</th>\n",
       "    </tr>\n",
       "  </thead>\n",
       "  <tbody>\n",
       "    <tr>\n",
       "      <th>0</th>\n",
       "      <td>Short Term</td>\n",
       "      <td>Home Mortgage</td>\n",
       "      <td>Debt Consolidation</td>\n",
       "    </tr>\n",
       "  </tbody>\n",
       "</table>\n",
       "</div>"
      ],
      "text/plain": [
       "         term home_ownership             purpose\n",
       "0  Short Term  Home Mortgage  Debt Consolidation"
      ]
     },
     "execution_count": 83,
     "metadata": {},
     "output_type": "execute_result"
    }
   ],
   "source": [
    "Xt_cat=df1[cat]\n",
    "Xt_cat.head(1)"
   ]
  },
  {
   "cell_type": "code",
   "execution_count": 84,
   "id": "92ecd427-ad2a-4aec-ac2a-994fd18d96b3",
   "metadata": {},
   "outputs": [],
   "source": [
    "from sklearn.preprocessing import StandardScaler, LabelEncoder\n",
    "ss=StandardScaler()\n",
    "le=LabelEncoder()"
   ]
  },
  {
   "cell_type": "code",
   "execution_count": 85,
   "id": "35ccaa8d-d7a1-4684-8d50-e6038e92f2f9",
   "metadata": {},
   "outputs": [
    {
     "data": {
      "text/html": [
       "<div>\n",
       "<style scoped>\n",
       "    .dataframe tbody tr th:only-of-type {\n",
       "        vertical-align: middle;\n",
       "    }\n",
       "\n",
       "    .dataframe tbody tr th {\n",
       "        vertical-align: top;\n",
       "    }\n",
       "\n",
       "    .dataframe thead th {\n",
       "        text-align: right;\n",
       "    }\n",
       "</style>\n",
       "<table border=\"1\" class=\"dataframe\">\n",
       "  <thead>\n",
       "    <tr style=\"text-align: right;\">\n",
       "      <th></th>\n",
       "      <th>current_loan_amount</th>\n",
       "      <th>credit_score</th>\n",
       "      <th>annual_income</th>\n",
       "      <th>years_in_current_job</th>\n",
       "      <th>monthly_debt</th>\n",
       "      <th>years_of_credit_history</th>\n",
       "      <th>number_of_open_accounts</th>\n",
       "      <th>number_of_credit_problems</th>\n",
       "      <th>current_credit_balance</th>\n",
       "      <th>maximum_open_credit</th>\n",
       "      <th>bankruptcies</th>\n",
       "      <th>tax_liens</th>\n",
       "    </tr>\n",
       "  </thead>\n",
       "  <tbody>\n",
       "    <tr>\n",
       "      <th>0</th>\n",
       "      <td>-0.347614</td>\n",
       "      <td>-0.250445</td>\n",
       "      <td>0.90503</td>\n",
       "      <td>1.17581</td>\n",
       "      <td>1.899448</td>\n",
       "      <td>0.508194</td>\n",
       "      <td>-0.415943</td>\n",
       "      <td>-0.330803</td>\n",
       "      <td>0.851868</td>\n",
       "      <td>0.199616</td>\n",
       "      <td>-0.332499</td>\n",
       "      <td>-0.106994</td>\n",
       "    </tr>\n",
       "  </tbody>\n",
       "</table>\n",
       "</div>"
      ],
      "text/plain": [
       "   current_loan_amount  credit_score  annual_income  years_in_current_job  \\\n",
       "0            -0.347614     -0.250445        0.90503               1.17581   \n",
       "\n",
       "   monthly_debt  years_of_credit_history  number_of_open_accounts  \\\n",
       "0      1.899448                 0.508194                -0.415943   \n",
       "\n",
       "   number_of_credit_problems  current_credit_balance  maximum_open_credit  \\\n",
       "0                  -0.330803                0.851868             0.199616   \n",
       "\n",
       "   bankruptcies  tax_liens  \n",
       "0     -0.332499  -0.106994  "
      ]
     },
     "execution_count": 85,
     "metadata": {},
     "output_type": "execute_result"
    }
   ],
   "source": [
    "Xt_con=pd.DataFrame(ss.fit_transform(Xt_con), columns=con)\n",
    "Xt_con.head(1)"
   ]
  },
  {
   "cell_type": "code",
   "execution_count": 86,
   "id": "f3a88a54-30f1-455a-8c5f-f52d9a545305",
   "metadata": {},
   "outputs": [],
   "source": [
    "for i in Xt_cat.columns:\n",
    "    Xt_cat[i]=le.fit_transform(Xt_cat[i])"
   ]
  },
  {
   "cell_type": "code",
   "execution_count": 87,
   "id": "3f1bbc65-c699-4e9f-8328-61932c195506",
   "metadata": {},
   "outputs": [
    {
     "data": {
      "text/html": [
       "<div>\n",
       "<style scoped>\n",
       "    .dataframe tbody tr th:only-of-type {\n",
       "        vertical-align: middle;\n",
       "    }\n",
       "\n",
       "    .dataframe tbody tr th {\n",
       "        vertical-align: top;\n",
       "    }\n",
       "\n",
       "    .dataframe thead th {\n",
       "        text-align: right;\n",
       "    }\n",
       "</style>\n",
       "<table border=\"1\" class=\"dataframe\">\n",
       "  <thead>\n",
       "    <tr style=\"text-align: right;\">\n",
       "      <th></th>\n",
       "      <th>current_loan_amount</th>\n",
       "      <th>credit_score</th>\n",
       "      <th>annual_income</th>\n",
       "      <th>years_in_current_job</th>\n",
       "      <th>monthly_debt</th>\n",
       "      <th>years_of_credit_history</th>\n",
       "      <th>number_of_open_accounts</th>\n",
       "      <th>number_of_credit_problems</th>\n",
       "      <th>current_credit_balance</th>\n",
       "      <th>maximum_open_credit</th>\n",
       "      <th>bankruptcies</th>\n",
       "      <th>tax_liens</th>\n",
       "      <th>term</th>\n",
       "      <th>home_ownership</th>\n",
       "      <th>purpose</th>\n",
       "    </tr>\n",
       "  </thead>\n",
       "  <tbody>\n",
       "    <tr>\n",
       "      <th>0</th>\n",
       "      <td>-0.347614</td>\n",
       "      <td>-0.250445</td>\n",
       "      <td>0.905030</td>\n",
       "      <td>1.175810</td>\n",
       "      <td>1.899448</td>\n",
       "      <td>0.508194</td>\n",
       "      <td>-0.415943</td>\n",
       "      <td>-0.330803</td>\n",
       "      <td>0.851868</td>\n",
       "      <td>0.199616</td>\n",
       "      <td>-0.332499</td>\n",
       "      <td>-0.106994</td>\n",
       "      <td>1</td>\n",
       "      <td>1</td>\n",
       "      <td>3</td>\n",
       "    </tr>\n",
       "    <tr>\n",
       "      <th>1</th>\n",
       "      <td>-0.358527</td>\n",
       "      <td>-0.260261</td>\n",
       "      <td>0.705961</td>\n",
       "      <td>1.175810</td>\n",
       "      <td>1.465786</td>\n",
       "      <td>0.166261</td>\n",
       "      <td>-0.017223</td>\n",
       "      <td>-0.330803</td>\n",
       "      <td>1.000307</td>\n",
       "      <td>0.116661</td>\n",
       "      <td>-0.332499</td>\n",
       "      <td>-0.106994</td>\n",
       "      <td>1</td>\n",
       "      <td>1</td>\n",
       "      <td>3</td>\n",
       "    </tr>\n",
       "    <tr>\n",
       "      <th>2</th>\n",
       "      <td>-0.362111</td>\n",
       "      <td>-0.279139</td>\n",
       "      <td>-0.640747</td>\n",
       "      <td>-1.125817</td>\n",
       "      <td>-0.811456</td>\n",
       "      <td>-0.816799</td>\n",
       "      <td>-0.216583</td>\n",
       "      <td>-0.330803</td>\n",
       "      <td>-0.649840</td>\n",
       "      <td>-0.160560</td>\n",
       "      <td>-0.332499</td>\n",
       "      <td>-0.106994</td>\n",
       "      <td>1</td>\n",
       "      <td>3</td>\n",
       "      <td>3</td>\n",
       "    </tr>\n",
       "    <tr>\n",
       "      <th>3</th>\n",
       "      <td>-0.361391</td>\n",
       "      <td>-0.265547</td>\n",
       "      <td>-0.757712</td>\n",
       "      <td>1.175810</td>\n",
       "      <td>-0.135516</td>\n",
       "      <td>-0.246909</td>\n",
       "      <td>0.979579</td>\n",
       "      <td>1.663610</td>\n",
       "      <td>-0.345038</td>\n",
       "      <td>-0.083640</td>\n",
       "      <td>2.525105</td>\n",
       "      <td>-0.106994</td>\n",
       "      <td>1</td>\n",
       "      <td>3</td>\n",
       "      <td>3</td>\n",
       "    </tr>\n",
       "    <tr>\n",
       "      <th>4</th>\n",
       "      <td>-0.356775</td>\n",
       "      <td>-0.252711</td>\n",
       "      <td>0.502888</td>\n",
       "      <td>1.175810</td>\n",
       "      <td>1.696019</td>\n",
       "      <td>1.106578</td>\n",
       "      <td>0.580858</td>\n",
       "      <td>-0.330803</td>\n",
       "      <td>0.177068</td>\n",
       "      <td>-0.117594</td>\n",
       "      <td>-0.332499</td>\n",
       "      <td>-0.106994</td>\n",
       "      <td>1</td>\n",
       "      <td>1</td>\n",
       "      <td>3</td>\n",
       "    </tr>\n",
       "    <tr>\n",
       "      <th>...</th>\n",
       "      <td>...</td>\n",
       "      <td>...</td>\n",
       "      <td>...</td>\n",
       "      <td>...</td>\n",
       "      <td>...</td>\n",
       "      <td>...</td>\n",
       "      <td>...</td>\n",
       "      <td>...</td>\n",
       "      <td>...</td>\n",
       "      <td>...</td>\n",
       "      <td>...</td>\n",
       "      <td>...</td>\n",
       "      <td>...</td>\n",
       "      <td>...</td>\n",
       "      <td>...</td>\n",
       "    </tr>\n",
       "    <tr>\n",
       "      <th>9973</th>\n",
       "      <td>-0.361974</td>\n",
       "      <td>-0.262527</td>\n",
       "      <td>0.185803</td>\n",
       "      <td>0.024997</td>\n",
       "      <td>-1.101535</td>\n",
       "      <td>-0.816799</td>\n",
       "      <td>-0.415943</td>\n",
       "      <td>-0.330803</td>\n",
       "      <td>-0.524926</td>\n",
       "      <td>-0.243030</td>\n",
       "      <td>-0.332499</td>\n",
       "      <td>-0.106994</td>\n",
       "      <td>1</td>\n",
       "      <td>3</td>\n",
       "      <td>3</td>\n",
       "    </tr>\n",
       "    <tr>\n",
       "      <th>9974</th>\n",
       "      <td>-0.362774</td>\n",
       "      <td>-0.272343</td>\n",
       "      <td>-0.779416</td>\n",
       "      <td>-0.550410</td>\n",
       "      <td>-0.487999</td>\n",
       "      <td>-1.187227</td>\n",
       "      <td>-0.615304</td>\n",
       "      <td>-0.330803</td>\n",
       "      <td>-0.557744</td>\n",
       "      <td>-0.191880</td>\n",
       "      <td>-0.332499</td>\n",
       "      <td>-0.106994</td>\n",
       "      <td>1</td>\n",
       "      <td>1</td>\n",
       "      <td>3</td>\n",
       "    </tr>\n",
       "    <tr>\n",
       "      <th>9975</th>\n",
       "      <td>-0.359903</td>\n",
       "      <td>-0.000515</td>\n",
       "      <td>-0.000859</td>\n",
       "      <td>-0.001225</td>\n",
       "      <td>-1.137105</td>\n",
       "      <td>1.277545</td>\n",
       "      <td>-0.615304</td>\n",
       "      <td>1.663610</td>\n",
       "      <td>-0.492548</td>\n",
       "      <td>-0.063751</td>\n",
       "      <td>2.525105</td>\n",
       "      <td>-0.106994</td>\n",
       "      <td>0</td>\n",
       "      <td>3</td>\n",
       "      <td>3</td>\n",
       "    </tr>\n",
       "    <tr>\n",
       "      <th>9976</th>\n",
       "      <td>2.799585</td>\n",
       "      <td>-0.270078</td>\n",
       "      <td>-0.510988</td>\n",
       "      <td>1.175810</td>\n",
       "      <td>-0.501685</td>\n",
       "      <td>-0.204168</td>\n",
       "      <td>-0.615304</td>\n",
       "      <td>1.663610</td>\n",
       "      <td>-0.272848</td>\n",
       "      <td>-0.239676</td>\n",
       "      <td>-0.332499</td>\n",
       "      <td>-0.106994</td>\n",
       "      <td>1</td>\n",
       "      <td>1</td>\n",
       "      <td>3</td>\n",
       "    </tr>\n",
       "    <tr>\n",
       "      <th>9977</th>\n",
       "      <td>2.799585</td>\n",
       "      <td>-0.249690</td>\n",
       "      <td>-0.372391</td>\n",
       "      <td>0.024997</td>\n",
       "      <td>-0.501087</td>\n",
       "      <td>0.209002</td>\n",
       "      <td>0.580858</td>\n",
       "      <td>-0.330803</td>\n",
       "      <td>-0.288206</td>\n",
       "      <td>-0.042540</td>\n",
       "      <td>-0.332499</td>\n",
       "      <td>-0.106994</td>\n",
       "      <td>1</td>\n",
       "      <td>1</td>\n",
       "      <td>3</td>\n",
       "    </tr>\n",
       "  </tbody>\n",
       "</table>\n",
       "<p>9978 rows × 15 columns</p>\n",
       "</div>"
      ],
      "text/plain": [
       "      current_loan_amount  credit_score  annual_income  years_in_current_job  \\\n",
       "0               -0.347614     -0.250445       0.905030              1.175810   \n",
       "1               -0.358527     -0.260261       0.705961              1.175810   \n",
       "2               -0.362111     -0.279139      -0.640747             -1.125817   \n",
       "3               -0.361391     -0.265547      -0.757712              1.175810   \n",
       "4               -0.356775     -0.252711       0.502888              1.175810   \n",
       "...                   ...           ...            ...                   ...   \n",
       "9973            -0.361974     -0.262527       0.185803              0.024997   \n",
       "9974            -0.362774     -0.272343      -0.779416             -0.550410   \n",
       "9975            -0.359903     -0.000515      -0.000859             -0.001225   \n",
       "9976             2.799585     -0.270078      -0.510988              1.175810   \n",
       "9977             2.799585     -0.249690      -0.372391              0.024997   \n",
       "\n",
       "      monthly_debt  years_of_credit_history  number_of_open_accounts  \\\n",
       "0         1.899448                 0.508194                -0.415943   \n",
       "1         1.465786                 0.166261                -0.017223   \n",
       "2        -0.811456                -0.816799                -0.216583   \n",
       "3        -0.135516                -0.246909                 0.979579   \n",
       "4         1.696019                 1.106578                 0.580858   \n",
       "...            ...                      ...                      ...   \n",
       "9973     -1.101535                -0.816799                -0.415943   \n",
       "9974     -0.487999                -1.187227                -0.615304   \n",
       "9975     -1.137105                 1.277545                -0.615304   \n",
       "9976     -0.501685                -0.204168                -0.615304   \n",
       "9977     -0.501087                 0.209002                 0.580858   \n",
       "\n",
       "      number_of_credit_problems  current_credit_balance  maximum_open_credit  \\\n",
       "0                     -0.330803                0.851868             0.199616   \n",
       "1                     -0.330803                1.000307             0.116661   \n",
       "2                     -0.330803               -0.649840            -0.160560   \n",
       "3                      1.663610               -0.345038            -0.083640   \n",
       "4                     -0.330803                0.177068            -0.117594   \n",
       "...                         ...                     ...                  ...   \n",
       "9973                  -0.330803               -0.524926            -0.243030   \n",
       "9974                  -0.330803               -0.557744            -0.191880   \n",
       "9975                   1.663610               -0.492548            -0.063751   \n",
       "9976                   1.663610               -0.272848            -0.239676   \n",
       "9977                  -0.330803               -0.288206            -0.042540   \n",
       "\n",
       "      bankruptcies  tax_liens  term  home_ownership  purpose  \n",
       "0        -0.332499  -0.106994     1               1        3  \n",
       "1        -0.332499  -0.106994     1               1        3  \n",
       "2        -0.332499  -0.106994     1               3        3  \n",
       "3         2.525105  -0.106994     1               3        3  \n",
       "4        -0.332499  -0.106994     1               1        3  \n",
       "...            ...        ...   ...             ...      ...  \n",
       "9973     -0.332499  -0.106994     1               3        3  \n",
       "9974     -0.332499  -0.106994     1               1        3  \n",
       "9975      2.525105  -0.106994     0               3        3  \n",
       "9976     -0.332499  -0.106994     1               1        3  \n",
       "9977     -0.332499  -0.106994     1               1        3  \n",
       "\n",
       "[9978 rows x 15 columns]"
      ]
     },
     "execution_count": 87,
     "metadata": {},
     "output_type": "execute_result"
    }
   ],
   "source": [
    "X_t=Xt_con.join(Xt_cat)\n",
    "X_t"
   ]
  },
  {
   "cell_type": "code",
   "execution_count": 88,
   "id": "72a91eb2-80a4-4452-9989-a921e836794f",
   "metadata": {},
   "outputs": [],
   "source": [
    "result = model.predict(X_t)"
   ]
  },
  {
   "cell_type": "code",
   "execution_count": 89,
   "id": "1547b8c9-a721-4466-af42-94597fa2bf4b",
   "metadata": {},
   "outputs": [],
   "source": [
    "output = pd.DataFrame({'Prediction': result})"
   ]
  },
  {
   "cell_type": "code",
   "execution_count": 90,
   "id": "0982878e-d858-4a6d-a96e-bedcdd67ad91",
   "metadata": {},
   "outputs": [
    {
     "name": "stdout",
     "output_type": "stream",
     "text": [
      "     Prediction\n",
      "0             0\n",
      "1             0\n",
      "2             0\n",
      "3             0\n",
      "4             0\n",
      "...         ...\n",
      "9973          0\n",
      "9974          0\n",
      "9975          1\n",
      "9976          0\n",
      "9977          0\n",
      "\n",
      "[9978 rows x 1 columns]\n"
     ]
    }
   ],
   "source": [
    "print(output)"
   ]
  },
  {
   "cell_type": "code",
   "execution_count": 91,
   "id": "0cedf3e9-3ea6-4640-96ac-f4722fb1f3eb",
   "metadata": {},
   "outputs": [],
   "source": [
    "test_output=df1.join(output)"
   ]
  },
  {
   "cell_type": "code",
   "execution_count": 92,
   "id": "02e65a15-d1b3-4bda-ae12-780504b95b35",
   "metadata": {},
   "outputs": [
    {
     "data": {
      "text/html": [
       "<div>\n",
       "<style scoped>\n",
       "    .dataframe tbody tr th:only-of-type {\n",
       "        vertical-align: middle;\n",
       "    }\n",
       "\n",
       "    .dataframe tbody tr th {\n",
       "        vertical-align: top;\n",
       "    }\n",
       "\n",
       "    .dataframe thead th {\n",
       "        text-align: right;\n",
       "    }\n",
       "</style>\n",
       "<table border=\"1\" class=\"dataframe\">\n",
       "  <thead>\n",
       "    <tr style=\"text-align: right;\">\n",
       "      <th></th>\n",
       "      <th>current_loan_amount</th>\n",
       "      <th>term</th>\n",
       "      <th>credit_score</th>\n",
       "      <th>annual_income</th>\n",
       "      <th>years_in_current_job</th>\n",
       "      <th>home_ownership</th>\n",
       "      <th>purpose</th>\n",
       "      <th>monthly_debt</th>\n",
       "      <th>years_of_credit_history</th>\n",
       "      <th>number_of_open_accounts</th>\n",
       "      <th>number_of_credit_problems</th>\n",
       "      <th>current_credit_balance</th>\n",
       "      <th>maximum_open_credit</th>\n",
       "      <th>bankruptcies</th>\n",
       "      <th>tax_liens</th>\n",
       "      <th>Prediction</th>\n",
       "    </tr>\n",
       "  </thead>\n",
       "  <tbody>\n",
       "    <tr>\n",
       "      <th>0</th>\n",
       "      <td>611314.0</td>\n",
       "      <td>Short Term</td>\n",
       "      <td>747.00000</td>\n",
       "      <td>2.074116e+06</td>\n",
       "      <td>10.000000</td>\n",
       "      <td>Home Mortgage</td>\n",
       "      <td>Debt Consolidation</td>\n",
       "      <td>42000.83</td>\n",
       "      <td>21.8</td>\n",
       "      <td>9.0</td>\n",
       "      <td>0.0</td>\n",
       "      <td>621908.0</td>\n",
       "      <td>1058970.0</td>\n",
       "      <td>0.0</td>\n",
       "      <td>0.0</td>\n",
       "      <td>0</td>\n",
       "    </tr>\n",
       "    <tr>\n",
       "      <th>1</th>\n",
       "      <td>266662.0</td>\n",
       "      <td>Short Term</td>\n",
       "      <td>734.00000</td>\n",
       "      <td>1.919190e+06</td>\n",
       "      <td>10.000000</td>\n",
       "      <td>Home Mortgage</td>\n",
       "      <td>Debt Consolidation</td>\n",
       "      <td>36624.40</td>\n",
       "      <td>19.4</td>\n",
       "      <td>11.0</td>\n",
       "      <td>0.0</td>\n",
       "      <td>679573.0</td>\n",
       "      <td>904442.0</td>\n",
       "      <td>0.0</td>\n",
       "      <td>0.0</td>\n",
       "      <td>0</td>\n",
       "    </tr>\n",
       "    <tr>\n",
       "      <th>2</th>\n",
       "      <td>153494.0</td>\n",
       "      <td>Short Term</td>\n",
       "      <td>709.00000</td>\n",
       "      <td>8.711120e+05</td>\n",
       "      <td>2.000000</td>\n",
       "      <td>Rent</td>\n",
       "      <td>Debt Consolidation</td>\n",
       "      <td>8391.73</td>\n",
       "      <td>12.5</td>\n",
       "      <td>10.0</td>\n",
       "      <td>0.0</td>\n",
       "      <td>38532.0</td>\n",
       "      <td>388036.0</td>\n",
       "      <td>0.0</td>\n",
       "      <td>0.0</td>\n",
       "      <td>0</td>\n",
       "    </tr>\n",
       "    <tr>\n",
       "      <th>3</th>\n",
       "      <td>176242.0</td>\n",
       "      <td>Short Term</td>\n",
       "      <td>727.00000</td>\n",
       "      <td>7.800830e+05</td>\n",
       "      <td>10.000000</td>\n",
       "      <td>Rent</td>\n",
       "      <td>Debt Consolidation</td>\n",
       "      <td>16771.87</td>\n",
       "      <td>16.5</td>\n",
       "      <td>16.0</td>\n",
       "      <td>1.0</td>\n",
       "      <td>156940.0</td>\n",
       "      <td>531322.0</td>\n",
       "      <td>1.0</td>\n",
       "      <td>0.0</td>\n",
       "      <td>0</td>\n",
       "    </tr>\n",
       "    <tr>\n",
       "      <th>4</th>\n",
       "      <td>321992.0</td>\n",
       "      <td>Short Term</td>\n",
       "      <td>744.00000</td>\n",
       "      <td>1.761148e+06</td>\n",
       "      <td>10.000000</td>\n",
       "      <td>Home Mortgage</td>\n",
       "      <td>Debt Consolidation</td>\n",
       "      <td>39478.77</td>\n",
       "      <td>26.0</td>\n",
       "      <td>14.0</td>\n",
       "      <td>0.0</td>\n",
       "      <td>359765.0</td>\n",
       "      <td>468072.0</td>\n",
       "      <td>0.0</td>\n",
       "      <td>0.0</td>\n",
       "      <td>0</td>\n",
       "    </tr>\n",
       "    <tr>\n",
       "      <th>...</th>\n",
       "      <td>...</td>\n",
       "      <td>...</td>\n",
       "      <td>...</td>\n",
       "      <td>...</td>\n",
       "      <td>...</td>\n",
       "      <td>...</td>\n",
       "      <td>...</td>\n",
       "      <td>...</td>\n",
       "      <td>...</td>\n",
       "      <td>...</td>\n",
       "      <td>...</td>\n",
       "      <td>...</td>\n",
       "      <td>...</td>\n",
       "      <td>...</td>\n",
       "      <td>...</td>\n",
       "      <td>...</td>\n",
       "    </tr>\n",
       "    <tr>\n",
       "      <th>9973</th>\n",
       "      <td>157806.0</td>\n",
       "      <td>Short Term</td>\n",
       "      <td>731.00000</td>\n",
       "      <td>1.514376e+06</td>\n",
       "      <td>6.000000</td>\n",
       "      <td>Rent</td>\n",
       "      <td>Debt Consolidation</td>\n",
       "      <td>4795.41</td>\n",
       "      <td>12.5</td>\n",
       "      <td>9.0</td>\n",
       "      <td>0.0</td>\n",
       "      <td>87058.0</td>\n",
       "      <td>234410.0</td>\n",
       "      <td>0.0</td>\n",
       "      <td>0.0</td>\n",
       "      <td>0</td>\n",
       "    </tr>\n",
       "    <tr>\n",
       "      <th>9974</th>\n",
       "      <td>132550.0</td>\n",
       "      <td>Short Term</td>\n",
       "      <td>718.00000</td>\n",
       "      <td>7.631920e+05</td>\n",
       "      <td>4.000000</td>\n",
       "      <td>Home Mortgage</td>\n",
       "      <td>Debt Consolidation</td>\n",
       "      <td>12401.87</td>\n",
       "      <td>9.9</td>\n",
       "      <td>8.0</td>\n",
       "      <td>0.0</td>\n",
       "      <td>74309.0</td>\n",
       "      <td>329692.0</td>\n",
       "      <td>0.0</td>\n",
       "      <td>0.0</td>\n",
       "      <td>0</td>\n",
       "    </tr>\n",
       "    <tr>\n",
       "      <th>9975</th>\n",
       "      <td>223212.0</td>\n",
       "      <td>Long Term</td>\n",
       "      <td>1077.99152</td>\n",
       "      <td>1.369106e+06</td>\n",
       "      <td>5.908858</td>\n",
       "      <td>Rent</td>\n",
       "      <td>Debt Consolidation</td>\n",
       "      <td>4354.42</td>\n",
       "      <td>27.2</td>\n",
       "      <td>8.0</td>\n",
       "      <td>1.0</td>\n",
       "      <td>99636.0</td>\n",
       "      <td>568370.0</td>\n",
       "      <td>1.0</td>\n",
       "      <td>0.0</td>\n",
       "      <td>1</td>\n",
       "    </tr>\n",
       "    <tr>\n",
       "      <th>9976</th>\n",
       "      <td>99999999.0</td>\n",
       "      <td>Short Term</td>\n",
       "      <td>721.00000</td>\n",
       "      <td>9.720970e+05</td>\n",
       "      <td>10.000000</td>\n",
       "      <td>Home Mortgage</td>\n",
       "      <td>Debt Consolidation</td>\n",
       "      <td>12232.20</td>\n",
       "      <td>16.8</td>\n",
       "      <td>8.0</td>\n",
       "      <td>1.0</td>\n",
       "      <td>184984.0</td>\n",
       "      <td>240658.0</td>\n",
       "      <td>0.0</td>\n",
       "      <td>0.0</td>\n",
       "      <td>0</td>\n",
       "    </tr>\n",
       "    <tr>\n",
       "      <th>9977</th>\n",
       "      <td>99999999.0</td>\n",
       "      <td>Short Term</td>\n",
       "      <td>748.00000</td>\n",
       "      <td>1.079960e+06</td>\n",
       "      <td>6.000000</td>\n",
       "      <td>Home Mortgage</td>\n",
       "      <td>Debt Consolidation</td>\n",
       "      <td>12239.61</td>\n",
       "      <td>19.7</td>\n",
       "      <td>14.0</td>\n",
       "      <td>0.0</td>\n",
       "      <td>179018.0</td>\n",
       "      <td>607882.0</td>\n",
       "      <td>0.0</td>\n",
       "      <td>0.0</td>\n",
       "      <td>0</td>\n",
       "    </tr>\n",
       "  </tbody>\n",
       "</table>\n",
       "<p>9978 rows × 16 columns</p>\n",
       "</div>"
      ],
      "text/plain": [
       "      current_loan_amount        term  credit_score  annual_income  \\\n",
       "0                611314.0  Short Term     747.00000   2.074116e+06   \n",
       "1                266662.0  Short Term     734.00000   1.919190e+06   \n",
       "2                153494.0  Short Term     709.00000   8.711120e+05   \n",
       "3                176242.0  Short Term     727.00000   7.800830e+05   \n",
       "4                321992.0  Short Term     744.00000   1.761148e+06   \n",
       "...                   ...         ...           ...            ...   \n",
       "9973             157806.0  Short Term     731.00000   1.514376e+06   \n",
       "9974             132550.0  Short Term     718.00000   7.631920e+05   \n",
       "9975             223212.0   Long Term    1077.99152   1.369106e+06   \n",
       "9976           99999999.0  Short Term     721.00000   9.720970e+05   \n",
       "9977           99999999.0  Short Term     748.00000   1.079960e+06   \n",
       "\n",
       "      years_in_current_job home_ownership             purpose  monthly_debt  \\\n",
       "0                10.000000  Home Mortgage  Debt Consolidation      42000.83   \n",
       "1                10.000000  Home Mortgage  Debt Consolidation      36624.40   \n",
       "2                 2.000000           Rent  Debt Consolidation       8391.73   \n",
       "3                10.000000           Rent  Debt Consolidation      16771.87   \n",
       "4                10.000000  Home Mortgage  Debt Consolidation      39478.77   \n",
       "...                    ...            ...                 ...           ...   \n",
       "9973              6.000000           Rent  Debt Consolidation       4795.41   \n",
       "9974              4.000000  Home Mortgage  Debt Consolidation      12401.87   \n",
       "9975              5.908858           Rent  Debt Consolidation       4354.42   \n",
       "9976             10.000000  Home Mortgage  Debt Consolidation      12232.20   \n",
       "9977              6.000000  Home Mortgage  Debt Consolidation      12239.61   \n",
       "\n",
       "      years_of_credit_history  number_of_open_accounts  \\\n",
       "0                        21.8                      9.0   \n",
       "1                        19.4                     11.0   \n",
       "2                        12.5                     10.0   \n",
       "3                        16.5                     16.0   \n",
       "4                        26.0                     14.0   \n",
       "...                       ...                      ...   \n",
       "9973                     12.5                      9.0   \n",
       "9974                      9.9                      8.0   \n",
       "9975                     27.2                      8.0   \n",
       "9976                     16.8                      8.0   \n",
       "9977                     19.7                     14.0   \n",
       "\n",
       "      number_of_credit_problems  current_credit_balance  maximum_open_credit  \\\n",
       "0                           0.0                621908.0            1058970.0   \n",
       "1                           0.0                679573.0             904442.0   \n",
       "2                           0.0                 38532.0             388036.0   \n",
       "3                           1.0                156940.0             531322.0   \n",
       "4                           0.0                359765.0             468072.0   \n",
       "...                         ...                     ...                  ...   \n",
       "9973                        0.0                 87058.0             234410.0   \n",
       "9974                        0.0                 74309.0             329692.0   \n",
       "9975                        1.0                 99636.0             568370.0   \n",
       "9976                        1.0                184984.0             240658.0   \n",
       "9977                        0.0                179018.0             607882.0   \n",
       "\n",
       "      bankruptcies  tax_liens Prediction  \n",
       "0              0.0        0.0          0  \n",
       "1              0.0        0.0          0  \n",
       "2              0.0        0.0          0  \n",
       "3              1.0        0.0          0  \n",
       "4              0.0        0.0          0  \n",
       "...            ...        ...        ...  \n",
       "9973           0.0        0.0          0  \n",
       "9974           0.0        0.0          0  \n",
       "9975           1.0        0.0          1  \n",
       "9976           0.0        0.0          0  \n",
       "9977           0.0        0.0          0  \n",
       "\n",
       "[9978 rows x 16 columns]"
      ]
     },
     "execution_count": 92,
     "metadata": {},
     "output_type": "execute_result"
    }
   ],
   "source": [
    "test_output"
   ]
  },
  {
   "cell_type": "code",
   "execution_count": 93,
   "id": "873858b4-8d00-42a6-9ce9-8e58577972a8",
   "metadata": {},
   "outputs": [],
   "source": [
    "test_output.to_csv('test_with_pred.csv', index=False)"
   ]
  },
  {
   "cell_type": "code",
   "execution_count": 94,
   "id": "c94b0bc7-b3f9-4c89-99c7-906d87359f3c",
   "metadata": {},
   "outputs": [],
   "source": [
    "test_with_pred=pd.read_csv('test_with_pred.csv')"
   ]
  },
  {
   "cell_type": "code",
   "execution_count": 95,
   "id": "fdd7f9c3-e1d9-4a66-85c4-d07fdd5595bb",
   "metadata": {},
   "outputs": [
    {
     "data": {
      "text/html": [
       "<div>\n",
       "<style scoped>\n",
       "    .dataframe tbody tr th:only-of-type {\n",
       "        vertical-align: middle;\n",
       "    }\n",
       "\n",
       "    .dataframe tbody tr th {\n",
       "        vertical-align: top;\n",
       "    }\n",
       "\n",
       "    .dataframe thead th {\n",
       "        text-align: right;\n",
       "    }\n",
       "</style>\n",
       "<table border=\"1\" class=\"dataframe\">\n",
       "  <thead>\n",
       "    <tr style=\"text-align: right;\">\n",
       "      <th></th>\n",
       "      <th>current_loan_amount</th>\n",
       "      <th>term</th>\n",
       "      <th>credit_score</th>\n",
       "      <th>annual_income</th>\n",
       "      <th>years_in_current_job</th>\n",
       "      <th>home_ownership</th>\n",
       "      <th>purpose</th>\n",
       "      <th>monthly_debt</th>\n",
       "      <th>years_of_credit_history</th>\n",
       "      <th>number_of_open_accounts</th>\n",
       "      <th>number_of_credit_problems</th>\n",
       "      <th>current_credit_balance</th>\n",
       "      <th>maximum_open_credit</th>\n",
       "      <th>bankruptcies</th>\n",
       "      <th>tax_liens</th>\n",
       "      <th>Prediction</th>\n",
       "    </tr>\n",
       "  </thead>\n",
       "  <tbody>\n",
       "    <tr>\n",
       "      <th>0</th>\n",
       "      <td>611314.0</td>\n",
       "      <td>Short Term</td>\n",
       "      <td>747.0</td>\n",
       "      <td>2074116.0</td>\n",
       "      <td>10.0</td>\n",
       "      <td>Home Mortgage</td>\n",
       "      <td>Debt Consolidation</td>\n",
       "      <td>42000.83</td>\n",
       "      <td>21.8</td>\n",
       "      <td>9.0</td>\n",
       "      <td>0.0</td>\n",
       "      <td>621908.0</td>\n",
       "      <td>1058970.0</td>\n",
       "      <td>0.0</td>\n",
       "      <td>0.0</td>\n",
       "      <td>0</td>\n",
       "    </tr>\n",
       "  </tbody>\n",
       "</table>\n",
       "</div>"
      ],
      "text/plain": [
       "   current_loan_amount        term  credit_score  annual_income  \\\n",
       "0             611314.0  Short Term         747.0      2074116.0   \n",
       "\n",
       "   years_in_current_job home_ownership             purpose  monthly_debt  \\\n",
       "0                  10.0  Home Mortgage  Debt Consolidation      42000.83   \n",
       "\n",
       "   years_of_credit_history  number_of_open_accounts  \\\n",
       "0                     21.8                      9.0   \n",
       "\n",
       "   number_of_credit_problems  current_credit_balance  maximum_open_credit  \\\n",
       "0                        0.0                621908.0            1058970.0   \n",
       "\n",
       "   bankruptcies  tax_liens  Prediction  \n",
       "0           0.0        0.0           0  "
      ]
     },
     "execution_count": 95,
     "metadata": {},
     "output_type": "execute_result"
    }
   ],
   "source": [
    "test_with_pred.head(1)"
   ]
  },
  {
   "cell_type": "code",
   "execution_count": 96,
   "id": "437704f0-a84d-41af-a958-4dce14ebd3c3",
   "metadata": {},
   "outputs": [
    {
     "data": {
      "text/plain": [
       "Prediction\n",
       "0    8939\n",
       "1    1039\n",
       "Name: count, dtype: int64"
      ]
     },
     "execution_count": 96,
     "metadata": {},
     "output_type": "execute_result"
    }
   ],
   "source": [
    "test_with_pred.Prediction.value_counts()"
   ]
  },
  {
   "cell_type": "code",
   "execution_count": 97,
   "id": "41072525-c3f9-45aa-bb1d-93d4e61831ee",
   "metadata": {},
   "outputs": [
    {
     "data": {
      "text/plain": [
       "8939"
      ]
     },
     "execution_count": 97,
     "metadata": {},
     "output_type": "execute_result"
    }
   ],
   "source": [
    "paid=test_with_pred.Prediction.value_counts().values[0]\n",
    "paid"
   ]
  },
  {
   "cell_type": "code",
   "execution_count": 98,
   "id": "e96cfe3b-ae1b-4bb6-b462-7e25177741b0",
   "metadata": {},
   "outputs": [
    {
     "data": {
      "text/plain": [
       "1039"
      ]
     },
     "execution_count": 98,
     "metadata": {},
     "output_type": "execute_result"
    }
   ],
   "source": [
    "unpaid=test_with_pred.Prediction.value_counts().values[1]\n",
    "unpaid"
   ]
  },
  {
   "cell_type": "code",
   "execution_count": 99,
   "id": "6496efed-3550-4ac3-ac08-333354a966b3",
   "metadata": {},
   "outputs": [
    {
     "name": "stdout",
     "output_type": "stream",
     "text": [
      "Ratio: 9.0\n"
     ]
    }
   ],
   "source": [
    "print(\"Ratio:\",round(paid/unpaid,0))"
   ]
  },
  {
   "cell_type": "code",
   "execution_count": null,
   "id": "cca920ef-9c03-43d1-8b8f-5b5cb746048f",
   "metadata": {},
   "outputs": [],
   "source": []
  },
  {
   "cell_type": "code",
   "execution_count": null,
   "id": "32a9b04f-1c94-43e5-8eb9-6a7aabcf4ab6",
   "metadata": {},
   "outputs": [],
   "source": []
  }
 ],
 "metadata": {
  "kernelspec": {
   "display_name": "Python 3 (ipykernel)",
   "language": "python",
   "name": "python3"
  },
  "language_info": {
   "codemirror_mode": {
    "name": "ipython",
    "version": 3
   },
   "file_extension": ".py",
   "mimetype": "text/x-python",
   "name": "python",
   "nbconvert_exporter": "python",
   "pygments_lexer": "ipython3",
   "version": "3.11.7"
  }
 },
 "nbformat": 4,
 "nbformat_minor": 5
}
